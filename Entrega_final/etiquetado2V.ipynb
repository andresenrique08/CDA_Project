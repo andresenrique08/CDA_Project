{
 "cells": [
  {
   "cell_type": "code",
   "execution_count": null,
   "metadata": {},
   "outputs": [],
   "source": []
  },
  {
   "cell_type": "code",
   "execution_count": null,
   "metadata": {},
   "outputs": [],
   "source": []
  },
  {
   "cell_type": "code",
   "execution_count": null,
   "metadata": {},
   "outputs": [],
   "source": []
  },
  {
   "cell_type": "code",
   "execution_count": 1,
   "metadata": {},
   "outputs": [],
   "source": [
    "import pandas as pd\n",
    "import matplotlib.pyplot as plt\n",
    "import numpy as np\n",
    "from sklearn.preprocessing import StandardScaler\n",
    "import datetime"
   ]
  },
  {
   "cell_type": "markdown",
   "metadata": {},
   "source": [
    "<h1>Limpieza y filtrado de la data.<h1>"
   ]
  },
  {
   "cell_type": "code",
   "execution_count": 2,
   "metadata": {},
   "outputs": [],
   "source": [
    "name = r\"C:\\Users\\jibar\\OneDrive - Universidad de los andes\\Clases_Maestria\\CIENCIA DE DATOS\\Proyecto\\General\\General\\Data\\Daily.csv\"\n",
    "\n",
    "data =pd.read_csv(name,sep='|',error_bad_lines=False, warn_bad_lines= False,index_col=False,header=0, low_memory=False)"
   ]
  },
  {
   "cell_type": "code",
   "execution_count": 3,
   "metadata": {},
   "outputs": [],
   "source": [
    "def eliminar_coma(x):\n",
    "    x=str(x).replace(',','.')\n",
    "    return x"
   ]
  },
  {
   "cell_type": "code",
   "execution_count": 4,
   "metadata": {},
   "outputs": [],
   "source": [
    "\n",
    "data['VolUnCorrected']=data['VolUnCorrected'].apply(eliminar_coma)\n",
    "data['VolCorrected']=data['VolCorrected'].apply(eliminar_coma)\n",
    "data['Pressure']=data['Pressure'].apply(eliminar_coma)\n",
    "data['Temperature']=data['Temperature'].apply(eliminar_coma)\n",
    "\n",
    "\n",
    "convert = {'id_sitio':'object',\n",
    "          'VolUnCorrected':float,\n",
    "          'VolCorrected':float,\n",
    "          'Pressure':float,\n",
    "          'Temperature':float,\n",
    "          'MaxPressure':float,\n",
    "          'MinPressure':float,\n",
    "          'MaxFlow':float,\n",
    "          'MinFlow':float,\n",
    "          'MaxTemp':float,\n",
    "          'MinTemp':float,\n",
    "          'id_RTU':'object'}\n",
    "data = data.astype(convert)"
   ]
  },
  {
   "cell_type": "code",
   "execution_count": 5,
   "metadata": {},
   "outputs": [],
   "source": [
    "selected = ['id_sitio','Daily_Date','VolUnCorrected',\n",
    "       'VolCorrected', 'Pressure', 'Temperature']\n",
    "data  = data[selected]"
   ]
  },
  {
   "cell_type": "code",
   "execution_count": 6,
   "metadata": {},
   "outputs": [],
   "source": [
    "data.drop_duplicates(inplace=True)\n",
    "data.dropna(inplace=True)"
   ]
  },
  {
   "cell_type": "code",
   "execution_count": 7,
   "metadata": {},
   "outputs": [],
   "source": [
    "data['Daily_Date']   = pd.to_datetime(data['Daily_Date'])\n",
    "data['Day'] =data['Daily_Date'].dt.date\n",
    "lista = list(range(151,170))\n",
    "data1 = data[data['id_sitio'].isin(lista)]\n",
    "\n",
    "lista = [153, 154, 157, 160, 165, 167]\n",
    "data1 = data[data['id_sitio'].isin(lista)]\n",
    "grupo1 = data1.copy()\n",
    "\n",
    "lista = [151, 152, 155, 156, 158, 159, 161, 162, 163, 164, 166, 168, 169, 170]\n",
    "data1 = data[data['id_sitio'].isin(lista)]\n",
    "grupo2 = data1.copy()"
   ]
  },
  {
   "cell_type": "code",
   "execution_count": 19,
   "metadata": {},
   "outputs": [],
   "source": [
    "def etiquetado(data=grupo2 ,id_sitio = 151, cons =3, std=2, vent =30):\n",
    "        mapa = grupo2['id_sitio']==id_sitio # que sitio \n",
    "        consecutivos = cons # condicion para valores repetidos seguidos infdicador de falla\n",
    "        stds =std #Condicion de deviaciones estandart para identificador de falla (picos)\n",
    "        ventana =vent # Ventana de prediccion\n",
    "\n",
    "\n",
    "\n",
    "        inst = data[mapa].copy()\n",
    "        day = inst['Day']\n",
    "        daily =inst['Daily_Date'] \n",
    "        ids = inst['id_sitio'].copy()\n",
    "        inst.drop(['id_sitio','Day'],axis = 1,inplace = True)\n",
    "        scaler = StandardScaler()\n",
    "        stan = scaler.fit_transform(inst.drop(['Daily_Date'], axis = 1))\n",
    "\n",
    "        datframe = pd.DataFrame(data=stan,columns=inst.drop(['Daily_Date'],axis = 1).columns)\n",
    "        datframe['Daily_Date'] = daily.reset_index(drop=True)\n",
    "        datframe['id_sitio'] = ids.reset_index(drop=True)\n",
    "        \n",
    "        datframe.sort_values(by='Daily_Date',inplace = True)\n",
    "        datframe.reset_index(inplace=True,drop=True)\n",
    "\n",
    "\n",
    "        datframe['Mayor_2std'] = (datframe['VolUnCorrected']>stds) | (datframe['VolUnCorrected']<-stds)\n",
    "\n",
    "\n",
    "\n",
    "        lista =[]\n",
    "\n",
    "\n",
    "        for i in range(0,datframe.index.max()+1):\n",
    "            if i<3:\n",
    "                adelante = (datframe['VolUnCorrected'].iloc[i:i+consecutivos].mean()==datframe['VolUnCorrected'].iloc[i].mean())\n",
    "                lista.append(adelante)\n",
    "            elif i>datframe.index.max()-3:\n",
    "                atras = (datframe['VolUnCorrected'].iloc[i-consecutivos:i].mean()==datframe['VolUnCorrected'].iloc[i].mean())\n",
    "                lista.append(atras)\n",
    "            else :\n",
    "                atras = (datframe['VolUnCorrected'].iloc[i-consecutivos:i].mean()==datframe['VolUnCorrected'].iloc[i].mean())\n",
    "                adelante = (datframe['VolUnCorrected'].iloc[i:i+consecutivos].mean()==datframe['VolUnCorrected'].iloc[i].mean())\n",
    "                consecutivo= atras | adelante\n",
    "                lista.append(consecutivo)\n",
    "        datframe['Consecutivo']=lista\n",
    "\n",
    "        datframe['Falla']=(datframe['Mayor_2std'] & datframe['Consecutivo'])\n",
    "\n",
    "\n",
    "        lista = []\n",
    "\n",
    "        for i in range(0,datframe.index.max()+1):\n",
    "            if datframe.index.max()-(ventana-1)>i:\n",
    "                lista.append(datframe['Falla'].iloc[i:i+ventana].any())\n",
    "            else :\n",
    "                lista.append(False)\n",
    "        datframe['Predictor']=lista\n",
    "\n",
    "        datframe['SoloAntes']=(datframe['Falla'] ^ datframe['Predictor'])\n",
    "\n",
    "        datframe['FallaNum'] = datframe['Falla'].map({True:3,False:0})\n",
    "        datframe['PredictorNum'] = datframe['Predictor'].map({True:2,False:0})\n",
    "        datframe['SoloAntesNum'] = datframe['SoloAntes'].map({True:1,False:0})\n",
    "        return datframe[['VolUnCorrected', 'VolCorrected', 'Pressure', 'Temperature','Daily_Date', 'id_sitio',  'SoloAntesNum']]"
   ]
  },
  {
   "cell_type": "code",
   "execution_count": null,
   "metadata": {},
   "outputs": [],
   "source": []
  },
  {
   "cell_type": "code",
   "execution_count": 41,
   "metadata": {},
   "outputs": [],
   "source": [
    "ids = grupo2['id_sitio'].unique().tolist()\n",
    "data_etiquetada = pd.DataFrame()\n",
    "if (155 in ids) and (168 in ids):\n",
    "    ids.remove(155)\n",
    "    ids.remove(168)\n",
    "for i in ids:\n",
    "    ventana = 30\n",
    "    sal = etiquetado( data=grupo2 ,id_sitio = i, cons =3, std=2, vent =ventana)\n",
    "    \n",
    "  \n",
    "    ## aquie genercion de carcateristicas.\n",
    "    \n",
    "    \n",
    "\n",
    "    \n",
    "\n",
    "    new_characteristics = pd.DataFrame()\n",
    "    \n",
    "    for i in range(ventana,sal.index.max()+1):\n",
    "        \n",
    "        caracteriticas =['media', 'mediana','std']\n",
    "\n",
    "#         timestep.drop(['Daily_Date','id_sitio'],axis =1,inplace =True)\n",
    "        timestep = sal.iloc[i-ventana:i].drop(['Daily_Date','id_sitio'],axis =1)\n",
    "\n",
    "        media = timestep.mean()\n",
    "\n",
    "        mediana = timestep.median()\n",
    "\n",
    "        desviacion = timestep.std()\n",
    "\n",
    "\n",
    "        Dmediana = {i:j for i, j in zip(mediana.index,('Mediana_'+mediana.index))}\n",
    "\n",
    "        Dmedia = {i:j for i, j in zip(mediana.index,('Media_'+media.index))}\n",
    "\n",
    "        Ddesviacion = {i:j for i, j in zip(desviacion.index,('Desviacion_'+desviacion.index))}\n",
    "\n",
    "        mediana.rename(Dmediana, inplace = True)\n",
    "        media.rename(Dmedia, inplace = True)  \n",
    "        desviacion.rename(Ddesviacion , inplace = True) \n",
    "\n",
    "        med = pd.DataFrame(media).transpose()\n",
    "        mian=pd.DataFrame(mediana).transpose()\n",
    "        desv = pd.DataFrame(desviacion).transpose()\n",
    "        actual = (pd.DataFrame(sal.iloc[i]).transpose()).reset_index()\n",
    "\n",
    "\n",
    "    #     new_characteristics = new_characteristics.append(pd.concat([med,mian,desv,actual],axis = 1))\n",
    "        # Hasta aca funciona sin lo siguiente.\n",
    "\n",
    "        primeras = pd.concat([med,mian,desv,actual],axis = 1)\n",
    "        for i in range(29,0,-1):\n",
    "            newVol = '{} Dias_antesVol'.format(i)\n",
    "            newTemp = '{} Dias_antesTemp'.format(i)\n",
    "            newVPres = '{} Dias_antesPres'.format(i)\n",
    "            names_list =[]\n",
    "            value_list=[]\n",
    "            names_list.append(newVol)\n",
    "            names_list.append(newTemp)\n",
    "            names_list.append(newVPres)\n",
    "\n",
    "    #         names_list=[newVol,newTemp,newVPres]\n",
    "\n",
    "            value_list.append([timestep.iloc[30-i]['VolUnCorrected']])\n",
    "            value_list.append([timestep.iloc[30-i]['Temperature']])\n",
    "            value_list.append([timestep.iloc[30-i]['Pressure']])\n",
    "    #         value_list=[timestep.iloc[30-i]['VolUnCorrected'],timestep.iloc[30-i]['Temperature'],timestep.iloc[30-i]['Pressure']]\n",
    "\n",
    "\n",
    "            segundas =pd.DataFrame(data=value_list,index=names_list)\n",
    "\n",
    "            primeras = pd.concat([primeras,segundas.transpose()],axis = 1)\n",
    "    #         new_characteristics[newVol]=ventana[30-i]['VolUnCorrected']\n",
    "    #         new_characteristics[newTemp]=ventana[30-i]['Temperature']\n",
    "    #         dias[newPres]=ventana[30-i]['Pressure']\n",
    "#         new_characteristics = new_characteristics.append(pd.concat([actual,med,mian,desv,primeras],axis = 1))    \n",
    "        new_characteristics = new_characteristics.append(primeras)    \n",
    "\n",
    "    \n",
    "    \n",
    "    \n",
    "    data_etiquetada=data_etiquetada.append(new_characteristics, ignore_index = True)\n"
   ]
  },
  {
   "cell_type": "code",
   "execution_count": 27,
   "metadata": {},
   "outputs": [
    {
     "data": {
      "text/plain": [
       "(18887, 113)"
      ]
     },
     "execution_count": 27,
     "metadata": {},
     "output_type": "execute_result"
    }
   ],
   "source": [
    "data_etiquetada.shape"
   ]
  },
  {
   "cell_type": "code",
   "execution_count": 42,
   "metadata": {},
   "outputs": [],
   "source": [
    "data_etiquetada.to_csv(r'datos_etiquetados_con_caracteristicas2V.csv')"
   ]
  },
  {
   "cell_type": "code",
   "execution_count": null,
   "metadata": {},
   "outputs": [],
   "source": []
  }
 ],
 "metadata": {
  "kernelspec": {
   "display_name": "Python 3",
   "language": "python",
   "name": "python3"
  },
  "language_info": {
   "codemirror_mode": {
    "name": "ipython",
    "version": 3
   },
   "file_extension": ".py",
   "mimetype": "text/x-python",
   "name": "python",
   "nbconvert_exporter": "python",
   "pygments_lexer": "ipython3",
   "version": "3.7.3"
  }
 },
 "nbformat": 4,
 "nbformat_minor": 4
}
