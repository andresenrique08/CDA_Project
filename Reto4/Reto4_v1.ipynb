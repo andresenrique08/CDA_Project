{
  "nbformat": 4,
  "nbformat_minor": 0,
  "metadata": {
    "colab": {
      "name": "Reto4_v1.ipynb",
      "provenance": [],
      "authorship_tag": "ABX9TyOxcl5/EK7bqKoqYXU0WyA/",
      "include_colab_link": true
    },
    "kernelspec": {
      "name": "python3",
      "display_name": "Python 3"
    }
  },
  "cells": [
    {
      "cell_type": "markdown",
      "metadata": {
        "id": "view-in-github",
        "colab_type": "text"
      },
      "source": [
        "<a href=\"https://colab.research.google.com/github/andresenrique08/CDA_Project/blob/master/Reto4/Reto4_v1.ipynb\" target=\"_parent\"><img src=\"https://colab.research.google.com/assets/colab-badge.svg\" alt=\"Open In Colab\"/></a>"
      ]
    },
    {
      "cell_type": "markdown",
      "metadata": {
        "id": "9nxODJcY5Fwn"
      },
      "source": [
        "\r\n",
        "# Reto 4.0\r\n",
        "**Curso de Machine Learning 2020-20**\r\n",
        "\r\n",
        "Autores:\r\n",
        "\r\n",
        "* Andrés Enrique Ávila Rojas (201319127)\r\n",
        "* Jeison Alexander Timana Rangel (201617870)"
      ]
    },
    {
      "cell_type": "code",
      "metadata": {
        "id": "8DGYFRSQ4wCj"
      },
      "source": [
        "import matplotlib.pyplot as plt\r\n",
        "import numpy as np\r\n",
        "import os\r\n",
        "import PIL\r\n",
        "import tensorflow as tf\r\n",
        "\r\n",
        "from tensorflow import keras\r\n",
        "from tensorflow.keras import layers\r\n",
        "from tensorflow.keras.models import Sequential"
      ],
      "execution_count": null,
      "outputs": []
    },
    {
      "cell_type": "code",
      "metadata": {
        "id": "bwQdSD6R5ZdX"
      },
      "source": [
        "import pathlib\r\n",
        "dataset_url = \"https://storage.googleapis.com/download.tensorflow.org/example_images/flower_photos.tgz\"\r\n",
        "data_dir = tf.keras.utils.get_file('flower_photos', origin=dataset_url, untar=True)\r\n",
        "data_dir = pathlib.Path(data_dir)"
      ],
      "execution_count": null,
      "outputs": []
    }
  ]
}