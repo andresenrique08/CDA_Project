{
 "cells": [
  {
   "cell_type": "markdown",
   "metadata": {},
   "source": [
    "# Tarea de Regresión Ridge y Lasso - CDA 202020\n",
    "\n",
    "Autores:\n",
    "- José Barraquer López (201217736)\n",
    "- Andrés Ávila Rojas (201319127)\n",
    "- Daniel Jaramillo (201014324)\n",
    "- Leidy Ferro Lara (201728578) "
   ]
  },
  {
   "cell_type": "markdown",
   "metadata": {},
   "source": [
    "Se cargan las librerías necesarias:"
   ]
  },
  {
   "cell_type": "code",
   "execution_count": 1,
   "metadata": {},
   "outputs": [],
   "source": [
    "import pandas as pd  \n",
    "import numpy as np  \n",
    "import matplotlib.pyplot as plt  \n",
    "import seaborn as seabornInstance \n",
    "from sklearn.model_selection import train_test_split \n",
    "from sklearn.linear_model import LinearRegression\n",
    "from sklearn import metrics\n",
    "%matplotlib inline\n",
    "\n",
    "\n",
    "from sklearn import datasets, linear_model\n",
    "from sklearn import datasets, linear_model\n",
    "#import statsmodels.api as sm\n",
    "from scipy import stats\n",
    "from regressors import stats \n",
    "\n",
    "\n",
    "from sklearn.linear_model import Ridge\n",
    "from sklearn.linear_model import Lasso\n"
   ]
  },
  {
   "attachments": {
    "6f08b3f0-1b27-4fd3-881d-c8756149db80.png": {
     "image/png": "[encoded data removed]"
    },
    "841b35e8-8b93-40ac-a97e-33b0b5605b92.png": {
     "image/png": "[encoded data removed]"
    }
   },
   "cell_type": "markdown",
   "metadata": {},
   "source": [
    "## Pregunta 1\n",
    "Preguntas en la práctica 5:\n",
    "\n",
    "1. *¿Qué significado tiene el intercepto? ¿Tiene sentido ser analizado para este problema?*\n",
    "\n",
    "El intercepto mostrado en el problema aquí presentado se muestra en la siguiente imagen.\n",
    "\n",
    "![image.png](attachment:841b35e8-8b93-40ac-a97e-33b0b5605b92.png)\n",
    "\n",
    "El intercepto es el valor que representa el pronóstico del modelo cuando todos sus regresores o variables son 0. En este caso, teniendo en cuenta el contexto del problema, son observables dos cuestiones: Por un lado, la variable objetivo no puede ser interpretada como un valor negativo; un valor negativo representaría que al usuario se le debería pagar, lo cual no tiene sentido bajo el contexto del problema. Por otro lado, analizar el evento en el cual todas las variables son cero tampoco tiene sentido, debido a que implica cuestiones como un bmi =0, que dado el significado del bmi sería imposible que existiese una persona con ese valor. Por lo tanto, se puede concluir que no tiene sentido analizar el intercepto de la regresión en este problema.\n",
    "\n",
    "2. *¿Qué significado tienen los coeficientes que acompañan a las variables categóricas? (i.e smoker_no, smoker_yes)*\n",
    "\n",
    "En la siguiente imagen se muestra la tabla de coeficientes obtenidas de la regresión multiple del problema.\n",
    "\n",
    "![image.png](attachment:6f08b3f0-1b27-4fd3-881d-c8756149db80.png)\n",
    "\n",
    "El significado de los coeficientes obtenidos representa el efecto o peso que tiene cada variable con respecto a la variable objetivo. En este caso se observan dos “tipos” de coeficientes: uno para variables numéricas y otro para variables que eran categóricas y fueron transformadas a variables dummys. Es importante entender esto, ya que el análisis sobre los valores de los coeficientes es diferente. En el caso de las variables numéricas existe un amplio rango de valores representativos del atributo por lo que la cantidad de valores que son resultado de la multiplicación del coeficiente por el valor de la variable es igual al número de posibles valores que la variable pueda adoptar. En el caso de las variables dummys, solo se puede esperar dos valores como resultado de la multiplicación, para 0 y 1. Y aún más importante es el significado que estos valores representan, ya que el valor cero representa una categoría de referencia y el 1 otra categoría. En ese sentido el coeficiente para las variables dummy difiere con respecto a las numéricas en el sentido que, para estas variables, el coeficiente representa el efecto que se tiene sobre la variable objetivo derivado de la diferencia de efecto que existe entre esas dos categorías, mientras que para las numéricas el coeficiente representa el efecto que tiene la variable para todo su rango de valores.\n",
    "\n",
    "En este caso concreto, y evaluando en específico las variables dummies, el significado de los coeficientes para la variable *Sex_female* representa que female tiene un efecto de 7.73 **más sobre la variable** objetivo que su clase de referencia que en este caso sería male. Se observa que además se cuenta con una variable llamada *sex_male*, esta al igual que la anterior representa la comparación de variables donde 1 en este caso es *male* y 0 *female*. Esta variable evidentemente es la opuesta de la anterior y se encuentra que su valor es de -7.73. Esto que se menciona es una redundancia de información, pues implica que *male* tiene un efecto de 7.73 menos sobre la variable objetivo de lo que lo tiene *female*. Esto es llamado en la literatura “dummy variable trap” en donde la existencia de esta otra variable es redundante y genera un alto problema de colinealidad para el análisis (Referencia: https://stattrek.com/multiple-regression/dummy-variables.aspx). Lo anterior se soluciona al generar, de la variable categórica, k-1 variables dummies de manera que todas las variables dummies son comparaciones entre dos categorías siendo 0 una categoría de referencia y 1 una nueva categoría.\n",
    "\n",
    "En el caso de las variables *smoker*, es igual al descrito con las variables de género. Se observa que para *smoker_no* se tiene un coeficiente de -11802, esto implica que para los que no fuman se tienen un efecto de 110802 sobre la variable objetivo menos que los que si fuman. Por otra parte, para la variable *smoker_yes* se tiene que los que si fuman tienen un efecto de 110802 sobre la variable objetivo **más que** los que no fuman. \n",
    "\n",
    "Finalmente, para el caso de región pasa algo similar, pero no es evidente a primera vista debido a que existen más categorías. Si se analiza cada categoría contra las demás se encuentra el mismo efecto de relación de los coeficientes expuesto anteriormente. Por ejemplo, si se suman los coeficientes para las variables que no son *región_northeast* se encuentra un valor total de -483.84 el cual es el mismo, pero positivo para *northeast*. Esto se puede observar con todas las variables, lo que implica que cada categoría está siendo comparada contra todas las demás e incurre en el mismo problema de redundancia y complicación de interpretabilidad debido a la colinealidad. Por ejemplo, analizar cuando todas las variables son igual a cero es una contradicción donde se quiere decir que el valor representa todas las demás categorías, pero ninguna a la vez. \n",
    "\n",
    "3. *Realice la estimación de la variable respuesta pero solo con las variables numéricas. ¿Cuál modelo utilizaría para predecir la prima del seguro? ¿Por qué?*\n",
    "\n",
    "Para responder esta pregunta se presenta el siguiente modelo de regresión múltiple obtenido de los datos disponibles para la solución del problema."
   ]
  },
  {
   "cell_type": "markdown",
   "metadata": {},
   "source": [
    "#### Modelo de regresión muiltiple con datos del laboratorio 5"
   ]
  },
  {
   "cell_type": "code",
   "execution_count": 2,
   "metadata": {},
   "outputs": [],
   "source": [
    "dataset = pd.read_csv('insurance.csv')"
   ]
  },
  {
   "cell_type": "code",
   "execution_count": 3,
   "metadata": {},
   "outputs": [
    {
     "data": {
      "text/plain": [
       "age           int64\n",
       "sex          object\n",
       "bmi         float64\n",
       "children      int64\n",
       "smoker       object\n",
       "region       object\n",
       "charges     float64\n",
       "dtype: object"
      ]
     },
     "execution_count": 3,
     "metadata": {},
     "output_type": "execute_result"
    }
   ],
   "source": [
    "dataset.dtypes"
   ]
  },
  {
   "cell_type": "markdown",
   "metadata": {},
   "source": [
    "Se eliminan las columnas de las variables categoricas, dejando un dataframe con solo variables numericas."
   ]
  },
  {
   "cell_type": "code",
   "execution_count": 4,
   "metadata": {},
   "outputs": [
    {
     "data": {
      "text/html": [
       "<div>\n",
       "<style scoped>\n",
       "    .dataframe tbody tr th:only-of-type {\n",
       "        vertical-align: middle;\n",
       "    }\n",
       "\n",
       "    .dataframe tbody tr th {\n",
       "        vertical-align: top;\n",
       "    }\n",
       "\n",
       "    .dataframe thead th {\n",
       "        text-align: right;\n",
       "    }\n",
       "</style>\n",
       "<table border=\"1\" class=\"dataframe\">\n",
       "  <thead>\n",
       "    <tr style=\"text-align: right;\">\n",
       "      <th></th>\n",
       "      <th>age</th>\n",
       "      <th>bmi</th>\n",
       "      <th>children</th>\n",
       "      <th>charges</th>\n",
       "    </tr>\n",
       "  </thead>\n",
       "  <tbody>\n",
       "    <tr>\n",
       "      <th>0</th>\n",
       "      <td>19</td>\n",
       "      <td>27.900</td>\n",
       "      <td>0</td>\n",
       "      <td>16884.92400</td>\n",
       "    </tr>\n",
       "    <tr>\n",
       "      <th>1</th>\n",
       "      <td>18</td>\n",
       "      <td>33.770</td>\n",
       "      <td>1</td>\n",
       "      <td>1725.55230</td>\n",
       "    </tr>\n",
       "    <tr>\n",
       "      <th>2</th>\n",
       "      <td>28</td>\n",
       "      <td>33.000</td>\n",
       "      <td>3</td>\n",
       "      <td>4449.46200</td>\n",
       "    </tr>\n",
       "    <tr>\n",
       "      <th>3</th>\n",
       "      <td>33</td>\n",
       "      <td>22.705</td>\n",
       "      <td>0</td>\n",
       "      <td>21984.47061</td>\n",
       "    </tr>\n",
       "    <tr>\n",
       "      <th>4</th>\n",
       "      <td>32</td>\n",
       "      <td>28.880</td>\n",
       "      <td>0</td>\n",
       "      <td>3866.85520</td>\n",
       "    </tr>\n",
       "  </tbody>\n",
       "</table>\n",
       "</div>"
      ],
      "text/plain": [
       "   age     bmi  children      charges\n",
       "0   19  27.900         0  16884.92400\n",
       "1   18  33.770         1   1725.55230\n",
       "2   28  33.000         3   4449.46200\n",
       "3   33  22.705         0  21984.47061\n",
       "4   32  28.880         0   3866.85520"
      ]
     },
     "execution_count": 4,
     "metadata": {},
     "output_type": "execute_result"
    }
   ],
   "source": [
    "dataset = dataset.drop(['sex','smoker','region'],axis=1)\n",
    "dataset.head()"
   ]
  },
  {
   "cell_type": "markdown",
   "metadata": {},
   "source": [
    "Se crean dos cunjuntos, uno con la variable objetivo y otro con las variables que se usarán en el modelo."
   ]
  },
  {
   "cell_type": "code",
   "execution_count": 5,
   "metadata": {},
   "outputs": [],
   "source": [
    "X = dataset.drop(['charges'],axis=1)\n",
    "y = dataset['charges']"
   ]
  },
  {
   "cell_type": "code",
   "execution_count": 6,
   "metadata": {},
   "outputs": [
    {
     "data": {
      "text/html": [
       "<div>\n",
       "<style scoped>\n",
       "    .dataframe tbody tr th:only-of-type {\n",
       "        vertical-align: middle;\n",
       "    }\n",
       "\n",
       "    .dataframe tbody tr th {\n",
       "        vertical-align: top;\n",
       "    }\n",
       "\n",
       "    .dataframe thead th {\n",
       "        text-align: right;\n",
       "    }\n",
       "</style>\n",
       "<table border=\"1\" class=\"dataframe\">\n",
       "  <thead>\n",
       "    <tr style=\"text-align: right;\">\n",
       "      <th></th>\n",
       "      <th>age</th>\n",
       "      <th>bmi</th>\n",
       "      <th>children</th>\n",
       "    </tr>\n",
       "  </thead>\n",
       "  <tbody>\n",
       "    <tr>\n",
       "      <th>0</th>\n",
       "      <td>19</td>\n",
       "      <td>27.900</td>\n",
       "      <td>0</td>\n",
       "    </tr>\n",
       "    <tr>\n",
       "      <th>1</th>\n",
       "      <td>18</td>\n",
       "      <td>33.770</td>\n",
       "      <td>1</td>\n",
       "    </tr>\n",
       "    <tr>\n",
       "      <th>2</th>\n",
       "      <td>28</td>\n",
       "      <td>33.000</td>\n",
       "      <td>3</td>\n",
       "    </tr>\n",
       "    <tr>\n",
       "      <th>3</th>\n",
       "      <td>33</td>\n",
       "      <td>22.705</td>\n",
       "      <td>0</td>\n",
       "    </tr>\n",
       "    <tr>\n",
       "      <th>4</th>\n",
       "      <td>32</td>\n",
       "      <td>28.880</td>\n",
       "      <td>0</td>\n",
       "    </tr>\n",
       "  </tbody>\n",
       "</table>\n",
       "</div>"
      ],
      "text/plain": [
       "   age     bmi  children\n",
       "0   19  27.900         0\n",
       "1   18  33.770         1\n",
       "2   28  33.000         3\n",
       "3   33  22.705         0\n",
       "4   32  28.880         0"
      ]
     },
     "execution_count": 6,
     "metadata": {},
     "output_type": "execute_result"
    }
   ],
   "source": [
    "X.head()"
   ]
  },
  {
   "cell_type": "markdown",
   "metadata": {},
   "source": [
    "Se realiza una partición sobre la data, paa efectos de este ejercicio, se tomará 80% como entrenamiento y 20% como test."
   ]
  },
  {
   "cell_type": "code",
   "execution_count": 7,
   "metadata": {},
   "outputs": [
    {
     "data": {
      "text/html": [
       "<div>\n",
       "<style scoped>\n",
       "    .dataframe tbody tr th:only-of-type {\n",
       "        vertical-align: middle;\n",
       "    }\n",
       "\n",
       "    .dataframe tbody tr th {\n",
       "        vertical-align: top;\n",
       "    }\n",
       "\n",
       "    .dataframe thead th {\n",
       "        text-align: right;\n",
       "    }\n",
       "</style>\n",
       "<table border=\"1\" class=\"dataframe\">\n",
       "  <thead>\n",
       "    <tr style=\"text-align: right;\">\n",
       "      <th></th>\n",
       "      <th>age</th>\n",
       "      <th>bmi</th>\n",
       "      <th>children</th>\n",
       "    </tr>\n",
       "  </thead>\n",
       "  <tbody>\n",
       "    <tr>\n",
       "      <th>621</th>\n",
       "      <td>37</td>\n",
       "      <td>34.100</td>\n",
       "      <td>4</td>\n",
       "    </tr>\n",
       "    <tr>\n",
       "      <th>194</th>\n",
       "      <td>18</td>\n",
       "      <td>34.430</td>\n",
       "      <td>0</td>\n",
       "    </tr>\n",
       "    <tr>\n",
       "      <th>240</th>\n",
       "      <td>23</td>\n",
       "      <td>36.670</td>\n",
       "      <td>2</td>\n",
       "    </tr>\n",
       "    <tr>\n",
       "      <th>1168</th>\n",
       "      <td>32</td>\n",
       "      <td>35.200</td>\n",
       "      <td>2</td>\n",
       "    </tr>\n",
       "    <tr>\n",
       "      <th>1192</th>\n",
       "      <td>58</td>\n",
       "      <td>32.395</td>\n",
       "      <td>1</td>\n",
       "    </tr>\n",
       "  </tbody>\n",
       "</table>\n",
       "</div>"
      ],
      "text/plain": [
       "      age     bmi  children\n",
       "621    37  34.100         4\n",
       "194    18  34.430         0\n",
       "240    23  36.670         2\n",
       "1168   32  35.200         2\n",
       "1192   58  32.395         1"
      ]
     },
     "metadata": {},
     "output_type": "display_data"
    },
    {
     "data": {
      "text/plain": [
       "621     40182.24600\n",
       "194      1137.46970\n",
       "240     38511.62830\n",
       "1168     4670.64000\n",
       "1192    13019.16105\n",
       "Name: charges, dtype: float64"
      ]
     },
     "metadata": {},
     "output_type": "display_data"
    }
   ],
   "source": [
    "X_train, X_test, y_train, y_test = train_test_split(X, y, test_size=0.2, random_state=0)\n",
    "display(X_train.head())\n",
    "display(y_train.head())"
   ]
  },
  {
   "cell_type": "markdown",
   "metadata": {},
   "source": [
    "Se estima el modelo"
   ]
  },
  {
   "cell_type": "code",
   "execution_count": 8,
   "metadata": {},
   "outputs": [
    {
     "data": {
      "text/plain": [
       "LinearRegression()"
      ]
     },
     "execution_count": 8,
     "metadata": {},
     "output_type": "execute_result"
    }
   ],
   "source": [
    "regressor = LinearRegression()  \n",
    "regressor.fit(X_train, y_train)"
   ]
  },
  {
   "cell_type": "markdown",
   "metadata": {},
   "source": [
    "Se imprimen los coeficientes:"
   ]
  },
  {
   "cell_type": "code",
   "execution_count": 9,
   "metadata": {},
   "outputs": [
    {
     "name": "stdout",
     "output_type": "stream",
     "text": [
      "-5292.837634337049\n"
     ]
    }
   ],
   "source": [
    "print(regressor.intercept_)"
   ]
  },
  {
   "cell_type": "code",
   "execution_count": 10,
   "metadata": {},
   "outputs": [
    {
     "data": {
      "text/html": [
       "<div>\n",
       "<style scoped>\n",
       "    .dataframe tbody tr th:only-of-type {\n",
       "        vertical-align: middle;\n",
       "    }\n",
       "\n",
       "    .dataframe tbody tr th {\n",
       "        vertical-align: top;\n",
       "    }\n",
       "\n",
       "    .dataframe thead th {\n",
       "        text-align: right;\n",
       "    }\n",
       "</style>\n",
       "<table border=\"1\" class=\"dataframe\">\n",
       "  <thead>\n",
       "    <tr style=\"text-align: right;\">\n",
       "      <th></th>\n",
       "      <th>0</th>\n",
       "      <th>1</th>\n",
       "    </tr>\n",
       "  </thead>\n",
       "  <tbody>\n",
       "    <tr>\n",
       "      <th>0</th>\n",
       "      <td>age</td>\n",
       "      <td>220.502324</td>\n",
       "    </tr>\n",
       "    <tr>\n",
       "      <th>1</th>\n",
       "      <td>bmi</td>\n",
       "      <td>298.149942</td>\n",
       "    </tr>\n",
       "    <tr>\n",
       "      <th>2</th>\n",
       "      <td>children</td>\n",
       "      <td>660.218124</td>\n",
       "    </tr>\n",
       "  </tbody>\n",
       "</table>\n",
       "</div>"
      ],
      "text/plain": [
       "          0           1\n",
       "0       age  220.502324\n",
       "1       bmi  298.149942\n",
       "2  children  660.218124"
      ]
     },
     "execution_count": 10,
     "metadata": {},
     "output_type": "execute_result"
    }
   ],
   "source": [
    "coeff_df = pd.DataFrame(zip(X.columns,regressor.coef_))  \n",
    "coeff_df"
   ]
  },
  {
   "cell_type": "markdown",
   "metadata": {},
   "source": [
    "Ahora, se aplica el modelo estimado sobre los datos de prueba."
   ]
  },
  {
   "cell_type": "code",
   "execution_count": 11,
   "metadata": {},
   "outputs": [],
   "source": [
    "y_pred = regressor.predict(X_test)"
   ]
  },
  {
   "cell_type": "markdown",
   "metadata": {},
   "source": [
    "Se realiza un gráfico para comparar los valores predecidos y los valores esperados."
   ]
  },
  {
   "cell_type": "code",
   "execution_count": 12,
   "metadata": {},
   "outputs": [
    {
     "data": {
      "image/png": "[encoded data removed]",
      "text/plain": [
       "<Figure size 720x576 with 1 Axes>"
      ]
     },
     "metadata": {
      "needs_background": "light"
     },
     "output_type": "display_data"
    }
   ],
   "source": [
    "df = pd.DataFrame({'Actual': y_test, 'Predicted': y_pred})\n",
    "df1 = df.head(25)\n",
    "df1.plot(kind='bar',figsize=(10,8))\n",
    "\n",
    "plt.show()"
   ]
  },
  {
   "cell_type": "markdown",
   "metadata": {},
   "source": [
    "Finalmente, se muestras la métricas de esta solución."
   ]
  },
  {
   "cell_type": "code",
   "execution_count": 13,
   "metadata": {},
   "outputs": [
    {
     "name": "stdout",
     "output_type": "stream",
     "text": [
      "Mean Absolute Error: 9016.002558195325\n",
      "Mean Squared Error: 133189853.20376825\n",
      "Root Mean Squared Error: 11540.790839616158\n",
      "R^2: 0.16301209866339939\n"
     ]
    }
   ],
   "source": [
    "print('Mean Absolute Error:', metrics.mean_absolute_error(y_test, y_pred))  \n",
    "print('Mean Squared Error:', metrics.mean_squared_error(y_test, y_pred))  \n",
    "print('Root Mean Squared Error:', np.sqrt(metrics.mean_squared_error(y_test, y_pred)))\n",
    "print('R^2:', metrics.r2_score(y_test, y_pred))"
   ]
  },
  {
   "cell_type": "markdown",
   "metadata": {},
   "source": [
    "**RESPUESTA Y CONCLUSIONES A LA PREGUNTA**\n",
    "\n",
    "Se usaría el modelo en el cual se implementan todas las variables. El resultado al crear un modelo con solo las variables numéricas da resultados en términos de MAE y RMSE superiores (más del doble). En términos del coeficiente de determinación r2 se encuentra que el nuevo modelo es capaz de explicar un 16% de la variación de la variable respuesta, comparado con la del modelo que implementa todas las variables que presenta un r2 del 80% aproximadamente. Estos coeficientes de determinación fueron calculados al comparar la predicción dada por el modelo con datos que el modelo nunca había visto (conjunto tes) de manera que se pueda ver un comportamiento más asertivo con respecto a la predicción de datos. Teniendo en cuenta lo anterior en conjunto con los errores, comparativamente es mejor implementar el modelo que implementa todas las variables ya que presenta errores menores y un r2 5 veces superior, por lo que, se podrían esperar mejores resultados de este modelo que con el que cuenta solo con las variables numéricas.\n",
    "\n",
    "Los resultados anteriores presentan un elemento que es de importancia resaltar: Las variables categóricas presentan una fuerte fuente de información para la predicción de la variable objetivo en este caso concreto. Por esto anterior es importante como parte del análisis entender que debido a las variables categóricas es posible establecer un mejor modelo para determinar y predecir el comportamiento de la variable *charge*."
   ]
  },
  {
   "attachments": {
    "24069181-7a89-4885-b496-5576bc65a058.png": {
     "image/png": "[encoded data removed]"
    }
   },
   "cell_type": "markdown",
   "metadata": {},
   "source": [
    "## Pregunta 2\n",
    "Con los datos utilizados en la práctica 6 (regresión ridge y Lasso), determine cuál es el mejor valor de alpha para el modelo de regresión ridge y lasso, para tal fin, divida la data en entrenamiento y validación (puede ser 80% para entrenamiento y 20% para validación), estime distintos modelos de regresión (ridge y lasso) utilizando la data de entrenamiento y distintos valores de alpha, luego, aplique los modelos estimados sobre la data de entrenamiento y validación, construya un gráfico (ver figura 1), donde en el eje x, se encuentra los distintos valores de alpha y en el eje y se encuentra una medida de error (puede utilizar una de las medidas de error que se encuentran en el laboratorio 6). A partir de este gráfico, determine el mejor valor de alpha.\n",
    "![image.png](attachment:24069181-7a89-4885-b496-5576bc65a058.png)"
   ]
  },
  {
   "cell_type": "markdown",
   "metadata": {},
   "source": [
    "### Modelo de regresión múltiple"
   ]
  },
  {
   "cell_type": "markdown",
   "metadata": {},
   "source": [
    "La siguiente práctica se trabajará con los mismmos datos de la práctica de regresión (los datos se pueden encontrar en el link https://drive.google.com/file/d/195gkZ5cTZL11L308MHc7EyBbAoiB4xqf/view), para ello, retomemos de nuevo el modelo de regresión múltiples que se construyó anteriormente"
   ]
  },
  {
   "cell_type": "code",
   "execution_count": 14,
   "metadata": {},
   "outputs": [],
   "source": [
    "##Lectura de los datos\n",
    "dataset = pd.read_csv('winequality.csv')"
   ]
  },
  {
   "cell_type": "code",
   "execution_count": 15,
   "metadata": {},
   "outputs": [
    {
     "data": {
      "text/plain": [
       "fixed acidity           float64\n",
       "volatile acidity        float64\n",
       "citric acid             float64\n",
       "residual sugar          float64\n",
       "chlorides               float64\n",
       "free sulfur dioxide     float64\n",
       "total sulfur dioxide    float64\n",
       "density                 float64\n",
       "pH                      float64\n",
       "sulphates               float64\n",
       "alcohol                 float64\n",
       "quality                   int64\n",
       "dtype: object"
      ]
     },
     "execution_count": 15,
     "metadata": {},
     "output_type": "execute_result"
    }
   ],
   "source": [
    "dataset.dtypes"
   ]
  },
  {
   "cell_type": "markdown",
   "metadata": {},
   "source": [
    "Determinar el tamaño del dataset"
   ]
  },
  {
   "cell_type": "code",
   "execution_count": 16,
   "metadata": {},
   "outputs": [
    {
     "data": {
      "text/plain": [
       "(1599, 12)"
      ]
     },
     "execution_count": 16,
     "metadata": {},
     "output_type": "execute_result"
    }
   ],
   "source": [
    "dataset.shape"
   ]
  },
  {
   "cell_type": "markdown",
   "metadata": {},
   "source": [
    "Para realizar un análisis descriptivo sobre el dataset"
   ]
  },
  {
   "cell_type": "code",
   "execution_count": 17,
   "metadata": {},
   "outputs": [
    {
     "data": {
      "text/html": [
       "<div>\n",
       "<style scoped>\n",
       "    .dataframe tbody tr th:only-of-type {\n",
       "        vertical-align: middle;\n",
       "    }\n",
       "\n",
       "    .dataframe tbody tr th {\n",
       "        vertical-align: top;\n",
       "    }\n",
       "\n",
       "    .dataframe thead th {\n",
       "        text-align: right;\n",
       "    }\n",
       "</style>\n",
       "<table border=\"1\" class=\"dataframe\">\n",
       "  <thead>\n",
       "    <tr style=\"text-align: right;\">\n",
       "      <th></th>\n",
       "      <th>fixed acidity</th>\n",
       "      <th>volatile acidity</th>\n",
       "      <th>citric acid</th>\n",
       "      <th>residual sugar</th>\n",
       "      <th>chlorides</th>\n",
       "      <th>free sulfur dioxide</th>\n",
       "      <th>total sulfur dioxide</th>\n",
       "      <th>density</th>\n",
       "      <th>pH</th>\n",
       "      <th>sulphates</th>\n",
       "      <th>alcohol</th>\n",
       "      <th>quality</th>\n",
       "    </tr>\n",
       "  </thead>\n",
       "  <tbody>\n",
       "    <tr>\n",
       "      <th>count</th>\n",
       "      <td>1599.000000</td>\n",
       "      <td>1599.000000</td>\n",
       "      <td>1599.000000</td>\n",
       "      <td>1599.000000</td>\n",
       "      <td>1599.000000</td>\n",
       "      <td>1599.000000</td>\n",
       "      <td>1599.000000</td>\n",
       "      <td>1599.000000</td>\n",
       "      <td>1599.000000</td>\n",
       "      <td>1599.000000</td>\n",
       "      <td>1599.000000</td>\n",
       "      <td>1599.000000</td>\n",
       "    </tr>\n",
       "    <tr>\n",
       "      <th>mean</th>\n",
       "      <td>8.319637</td>\n",
       "      <td>0.527821</td>\n",
       "      <td>0.270976</td>\n",
       "      <td>2.538806</td>\n",
       "      <td>0.087467</td>\n",
       "      <td>15.874922</td>\n",
       "      <td>46.467792</td>\n",
       "      <td>0.996747</td>\n",
       "      <td>3.311113</td>\n",
       "      <td>0.658149</td>\n",
       "      <td>10.422983</td>\n",
       "      <td>5.636023</td>\n",
       "    </tr>\n",
       "    <tr>\n",
       "      <th>std</th>\n",
       "      <td>1.741096</td>\n",
       "      <td>0.179060</td>\n",
       "      <td>0.194801</td>\n",
       "      <td>1.409928</td>\n",
       "      <td>0.047065</td>\n",
       "      <td>10.460157</td>\n",
       "      <td>32.895324</td>\n",
       "      <td>0.001887</td>\n",
       "      <td>0.154386</td>\n",
       "      <td>0.169507</td>\n",
       "      <td>1.065668</td>\n",
       "      <td>0.807569</td>\n",
       "    </tr>\n",
       "    <tr>\n",
       "      <th>min</th>\n",
       "      <td>4.600000</td>\n",
       "      <td>0.120000</td>\n",
       "      <td>0.000000</td>\n",
       "      <td>0.900000</td>\n",
       "      <td>0.012000</td>\n",
       "      <td>1.000000</td>\n",
       "      <td>6.000000</td>\n",
       "      <td>0.990070</td>\n",
       "      <td>2.740000</td>\n",
       "      <td>0.330000</td>\n",
       "      <td>8.400000</td>\n",
       "      <td>3.000000</td>\n",
       "    </tr>\n",
       "    <tr>\n",
       "      <th>25%</th>\n",
       "      <td>7.100000</td>\n",
       "      <td>0.390000</td>\n",
       "      <td>0.090000</td>\n",
       "      <td>1.900000</td>\n",
       "      <td>0.070000</td>\n",
       "      <td>7.000000</td>\n",
       "      <td>22.000000</td>\n",
       "      <td>0.995600</td>\n",
       "      <td>3.210000</td>\n",
       "      <td>0.550000</td>\n",
       "      <td>9.500000</td>\n",
       "      <td>5.000000</td>\n",
       "    </tr>\n",
       "    <tr>\n",
       "      <th>50%</th>\n",
       "      <td>7.900000</td>\n",
       "      <td>0.520000</td>\n",
       "      <td>0.260000</td>\n",
       "      <td>2.200000</td>\n",
       "      <td>0.079000</td>\n",
       "      <td>14.000000</td>\n",
       "      <td>38.000000</td>\n",
       "      <td>0.996750</td>\n",
       "      <td>3.310000</td>\n",
       "      <td>0.620000</td>\n",
       "      <td>10.200000</td>\n",
       "      <td>6.000000</td>\n",
       "    </tr>\n",
       "    <tr>\n",
       "      <th>75%</th>\n",
       "      <td>9.200000</td>\n",
       "      <td>0.640000</td>\n",
       "      <td>0.420000</td>\n",
       "      <td>2.600000</td>\n",
       "      <td>0.090000</td>\n",
       "      <td>21.000000</td>\n",
       "      <td>62.000000</td>\n",
       "      <td>0.997835</td>\n",
       "      <td>3.400000</td>\n",
       "      <td>0.730000</td>\n",
       "      <td>11.100000</td>\n",
       "      <td>6.000000</td>\n",
       "    </tr>\n",
       "    <tr>\n",
       "      <th>max</th>\n",
       "      <td>15.900000</td>\n",
       "      <td>1.580000</td>\n",
       "      <td>1.000000</td>\n",
       "      <td>15.500000</td>\n",
       "      <td>0.611000</td>\n",
       "      <td>72.000000</td>\n",
       "      <td>289.000000</td>\n",
       "      <td>1.003690</td>\n",
       "      <td>4.010000</td>\n",
       "      <td>2.000000</td>\n",
       "      <td>14.900000</td>\n",
       "      <td>8.000000</td>\n",
       "    </tr>\n",
       "  </tbody>\n",
       "</table>\n",
       "</div>"
      ],
      "text/plain": [
       "       fixed acidity  volatile acidity  citric acid  residual sugar  \\\n",
       "count    1599.000000       1599.000000  1599.000000     1599.000000   \n",
       "mean        8.319637          0.527821     0.270976        2.538806   \n",
       "std         1.741096          0.179060     0.194801        1.409928   \n",
       "min         4.600000          0.120000     0.000000        0.900000   \n",
       "25%         7.100000          0.390000     0.090000        1.900000   \n",
       "50%         7.900000          0.520000     0.260000        2.200000   \n",
       "75%         9.200000          0.640000     0.420000        2.600000   \n",
       "max        15.900000          1.580000     1.000000       15.500000   \n",
       "\n",
       "         chlorides  free sulfur dioxide  total sulfur dioxide      density  \\\n",
       "count  1599.000000          1599.000000           1599.000000  1599.000000   \n",
       "mean      0.087467            15.874922             46.467792     0.996747   \n",
       "std       0.047065            10.460157             32.895324     0.001887   \n",
       "min       0.012000             1.000000              6.000000     0.990070   \n",
       "25%       0.070000             7.000000             22.000000     0.995600   \n",
       "50%       0.079000            14.000000             38.000000     0.996750   \n",
       "75%       0.090000            21.000000             62.000000     0.997835   \n",
       "max       0.611000            72.000000            289.000000     1.003690   \n",
       "\n",
       "                pH    sulphates      alcohol      quality  \n",
       "count  1599.000000  1599.000000  1599.000000  1599.000000  \n",
       "mean      3.311113     0.658149    10.422983     5.636023  \n",
       "std       0.154386     0.169507     1.065668     0.807569  \n",
       "min       2.740000     0.330000     8.400000     3.000000  \n",
       "25%       3.210000     0.550000     9.500000     5.000000  \n",
       "50%       3.310000     0.620000    10.200000     6.000000  \n",
       "75%       3.400000     0.730000    11.100000     6.000000  \n",
       "max       4.010000     2.000000    14.900000     8.000000  "
      ]
     },
     "execution_count": 17,
     "metadata": {},
     "output_type": "execute_result"
    }
   ],
   "source": [
    "dataset.describe()"
   ]
  },
  {
   "cell_type": "markdown",
   "metadata": {},
   "source": [
    "Identifiquemos cuáles son las variables que tienen algún Na"
   ]
  },
  {
   "cell_type": "code",
   "execution_count": 18,
   "metadata": {},
   "outputs": [
    {
     "data": {
      "text/plain": [
       "fixed acidity           False\n",
       "volatile acidity        False\n",
       "citric acid             False\n",
       "residual sugar          False\n",
       "chlorides               False\n",
       "free sulfur dioxide     False\n",
       "total sulfur dioxide    False\n",
       "density                 False\n",
       "pH                      False\n",
       "sulphates               False\n",
       "alcohol                 False\n",
       "quality                 False\n",
       "dtype: bool"
      ]
     },
     "execution_count": 18,
     "metadata": {},
     "output_type": "execute_result"
    }
   ],
   "source": [
    "dataset.isnull().any()"
   ]
  },
  {
   "cell_type": "markdown",
   "metadata": {},
   "source": [
    "Se puede observar que ninguna variable contiene missing, si alguna varaibles tuviera missing, estos se pueden eliminar con el siguiente código."
   ]
  },
  {
   "cell_type": "code",
   "execution_count": 19,
   "metadata": {},
   "outputs": [],
   "source": [
    "dataset = dataset.fillna(method='ffill')"
   ]
  },
  {
   "cell_type": "markdown",
   "metadata": {},
   "source": [
    "A continuación, se construye la matriz X y el vector y, los cuales contiene las variables explicativas y la variable respuesta:"
   ]
  },
  {
   "cell_type": "code",
   "execution_count": 20,
   "metadata": {},
   "outputs": [],
   "source": [
    "X = dataset[['fixed acidity', 'volatile acidity', 'citric acid', 'residual sugar', 'chlorides', 'free sulfur dioxide', 'total sulfur dioxide', 'density', 'pH', 'sulphates','alcohol']].values\n",
    "y = dataset['quality'].values"
   ]
  },
  {
   "cell_type": "markdown",
   "metadata": {},
   "source": [
    "Analicemos la variable quality"
   ]
  },
  {
   "cell_type": "code",
   "execution_count": 21,
   "metadata": {},
   "outputs": [
    {
     "data": {
      "text/plain": [
       "<matplotlib.axes._subplots.AxesSubplot at 0x26644b926a0>"
      ]
     },
     "execution_count": 21,
     "metadata": {},
     "output_type": "execute_result"
    },
    {
     "data": {
      "image/png": "[encoded data removed]",
      "text/plain": [
       "<Figure size 1080x720 with 1 Axes>"
      ]
     },
     "metadata": {
      "needs_background": "light"
     },
     "output_type": "display_data"
    }
   ],
   "source": [
    "plt.figure(figsize=(15,10))\n",
    "plt.tight_layout()\n",
    "seabornInstance.distplot(dataset['quality'])"
   ]
  },
  {
   "cell_type": "markdown",
   "metadata": {},
   "source": [
    "A continuación, se realiza una partición sobre la data, paa efectos de este ejercicio, se tomará 80% como entrenamiento y 20% como test."
   ]
  },
  {
   "cell_type": "code",
   "execution_count": 22,
   "metadata": {},
   "outputs": [],
   "source": [
    "X_train, X_test, y_train, y_test = train_test_split(X, y, test_size=0.2, random_state=0)"
   ]
  },
  {
   "cell_type": "markdown",
   "metadata": {},
   "source": [
    "A continuación se estima el modelo"
   ]
  },
  {
   "cell_type": "code",
   "execution_count": 23,
   "metadata": {},
   "outputs": [],
   "source": [
    "regressor = LinearRegression()  "
   ]
  },
  {
   "cell_type": "code",
   "execution_count": 24,
   "metadata": {},
   "outputs": [
    {
     "data": {
      "text/plain": [
       "(1279, 11)"
      ]
     },
     "execution_count": 24,
     "metadata": {},
     "output_type": "execute_result"
    }
   ],
   "source": [
    "X_train.shape"
   ]
  },
  {
   "cell_type": "code",
   "execution_count": 25,
   "metadata": {},
   "outputs": [
    {
     "data": {
      "text/plain": [
       "(1279,)"
      ]
     },
     "execution_count": 25,
     "metadata": {},
     "output_type": "execute_result"
    }
   ],
   "source": [
    "y_train.shape"
   ]
  },
  {
   "cell_type": "code",
   "execution_count": 26,
   "metadata": {},
   "outputs": [
    {
     "data": {
      "text/plain": [
       "LinearRegression()"
      ]
     },
     "execution_count": 26,
     "metadata": {},
     "output_type": "execute_result"
    }
   ],
   "source": [
    "regressor.fit(X_train, y_train)"
   ]
  },
  {
   "cell_type": "markdown",
   "metadata": {},
   "source": [
    "A continuación, se imprimen los coeficientes estimados beta."
   ]
  },
  {
   "cell_type": "code",
   "execution_count": 27,
   "metadata": {},
   "outputs": [
    {
     "name": "stdout",
     "output_type": "stream",
     "text": [
      "34.998710628721106\n"
     ]
    }
   ],
   "source": [
    "##Para imprimir el intercepto\n",
    "print(regressor.intercept_)"
   ]
  },
  {
   "cell_type": "code",
   "execution_count": 28,
   "metadata": {},
   "outputs": [
    {
     "data": {
      "text/html": [
       "<div>\n",
       "<style scoped>\n",
       "    .dataframe tbody tr th:only-of-type {\n",
       "        vertical-align: middle;\n",
       "    }\n",
       "\n",
       "    .dataframe tbody tr th {\n",
       "        vertical-align: top;\n",
       "    }\n",
       "\n",
       "    .dataframe thead th {\n",
       "        text-align: right;\n",
       "    }\n",
       "</style>\n",
       "<table border=\"1\" class=\"dataframe\">\n",
       "  <thead>\n",
       "    <tr style=\"text-align: right;\">\n",
       "      <th></th>\n",
       "      <th>Coefficient</th>\n",
       "    </tr>\n",
       "  </thead>\n",
       "  <tbody>\n",
       "    <tr>\n",
       "      <th>fixed acidity</th>\n",
       "      <td>0.041284</td>\n",
       "    </tr>\n",
       "    <tr>\n",
       "      <th>volatile acidity</th>\n",
       "      <td>-1.149528</td>\n",
       "    </tr>\n",
       "    <tr>\n",
       "      <th>citric acid</th>\n",
       "      <td>-0.177927</td>\n",
       "    </tr>\n",
       "    <tr>\n",
       "      <th>residual sugar</th>\n",
       "      <td>0.027870</td>\n",
       "    </tr>\n",
       "    <tr>\n",
       "      <th>chlorides</th>\n",
       "      <td>-1.873407</td>\n",
       "    </tr>\n",
       "    <tr>\n",
       "      <th>free sulfur dioxide</th>\n",
       "      <td>0.002684</td>\n",
       "    </tr>\n",
       "    <tr>\n",
       "      <th>total sulfur dioxide</th>\n",
       "      <td>-0.002777</td>\n",
       "    </tr>\n",
       "    <tr>\n",
       "      <th>density</th>\n",
       "      <td>-31.516666</td>\n",
       "    </tr>\n",
       "    <tr>\n",
       "      <th>pH</th>\n",
       "      <td>-0.254486</td>\n",
       "    </tr>\n",
       "    <tr>\n",
       "      <th>sulphates</th>\n",
       "      <td>0.924040</td>\n",
       "    </tr>\n",
       "    <tr>\n",
       "      <th>alcohol</th>\n",
       "      <td>0.267797</td>\n",
       "    </tr>\n",
       "  </tbody>\n",
       "</table>\n",
       "</div>"
      ],
      "text/plain": [
       "                      Coefficient\n",
       "fixed acidity            0.041284\n",
       "volatile acidity        -1.149528\n",
       "citric acid             -0.177927\n",
       "residual sugar           0.027870\n",
       "chlorides               -1.873407\n",
       "free sulfur dioxide      0.002684\n",
       "total sulfur dioxide    -0.002777\n",
       "density                -31.516666\n",
       "pH                      -0.254486\n",
       "sulphates                0.924040\n",
       "alcohol                  0.267797"
      ]
     },
     "execution_count": 28,
     "metadata": {},
     "output_type": "execute_result"
    }
   ],
   "source": [
    "variables=['fixed acidity', 'volatile acidity', 'citric acid', 'residual sugar', 'chlorides', 'free sulfur dioxide', 'total sulfur dioxide', 'density', 'pH', 'sulphates','alcohol']\n",
    "coeff_df = pd.DataFrame(regressor.coef_, variables, columns=['Coefficient'])  \n",
    "coeff_df"
   ]
  },
  {
   "cell_type": "markdown",
   "metadata": {},
   "source": [
    "### ¿Cómo se interpretan los resultados anteriores?"
   ]
  },
  {
   "cell_type": "markdown",
   "metadata": {},
   "source": [
    "A continuación, se aplica el modelo estiado sobre los datos de test."
   ]
  },
  {
   "cell_type": "code",
   "execution_count": 29,
   "metadata": {},
   "outputs": [],
   "source": [
    "y_pred = regressor.predict(X_test)"
   ]
  },
  {
   "cell_type": "code",
   "execution_count": 30,
   "metadata": {},
   "outputs": [
    {
     "data": {
      "text/html": [
       "<div>\n",
       "<style scoped>\n",
       "    .dataframe tbody tr th:only-of-type {\n",
       "        vertical-align: middle;\n",
       "    }\n",
       "\n",
       "    .dataframe tbody tr th {\n",
       "        vertical-align: top;\n",
       "    }\n",
       "\n",
       "    .dataframe thead th {\n",
       "        text-align: right;\n",
       "    }\n",
       "</style>\n",
       "<table border=\"1\" class=\"dataframe\">\n",
       "  <thead>\n",
       "    <tr style=\"text-align: right;\">\n",
       "      <th></th>\n",
       "      <th>Actual</th>\n",
       "      <th>Predicted</th>\n",
       "    </tr>\n",
       "  </thead>\n",
       "  <tbody>\n",
       "    <tr>\n",
       "      <th>0</th>\n",
       "      <td>6</td>\n",
       "      <td>5.782930</td>\n",
       "    </tr>\n",
       "    <tr>\n",
       "      <th>1</th>\n",
       "      <td>5</td>\n",
       "      <td>5.036193</td>\n",
       "    </tr>\n",
       "    <tr>\n",
       "      <th>2</th>\n",
       "      <td>7</td>\n",
       "      <td>6.596989</td>\n",
       "    </tr>\n",
       "    <tr>\n",
       "      <th>3</th>\n",
       "      <td>6</td>\n",
       "      <td>5.339126</td>\n",
       "    </tr>\n",
       "    <tr>\n",
       "      <th>4</th>\n",
       "      <td>5</td>\n",
       "      <td>5.939529</td>\n",
       "    </tr>\n",
       "    <tr>\n",
       "      <th>5</th>\n",
       "      <td>6</td>\n",
       "      <td>5.007207</td>\n",
       "    </tr>\n",
       "    <tr>\n",
       "      <th>6</th>\n",
       "      <td>5</td>\n",
       "      <td>5.396162</td>\n",
       "    </tr>\n",
       "    <tr>\n",
       "      <th>7</th>\n",
       "      <td>6</td>\n",
       "      <td>6.052112</td>\n",
       "    </tr>\n",
       "    <tr>\n",
       "      <th>8</th>\n",
       "      <td>4</td>\n",
       "      <td>4.867603</td>\n",
       "    </tr>\n",
       "    <tr>\n",
       "      <th>9</th>\n",
       "      <td>5</td>\n",
       "      <td>4.950676</td>\n",
       "    </tr>\n",
       "    <tr>\n",
       "      <th>10</th>\n",
       "      <td>5</td>\n",
       "      <td>5.285804</td>\n",
       "    </tr>\n",
       "    <tr>\n",
       "      <th>11</th>\n",
       "      <td>5</td>\n",
       "      <td>5.412653</td>\n",
       "    </tr>\n",
       "    <tr>\n",
       "      <th>12</th>\n",
       "      <td>6</td>\n",
       "      <td>5.705742</td>\n",
       "    </tr>\n",
       "    <tr>\n",
       "      <th>13</th>\n",
       "      <td>5</td>\n",
       "      <td>5.129217</td>\n",
       "    </tr>\n",
       "    <tr>\n",
       "      <th>14</th>\n",
       "      <td>6</td>\n",
       "      <td>5.528852</td>\n",
       "    </tr>\n",
       "    <tr>\n",
       "      <th>15</th>\n",
       "      <td>6</td>\n",
       "      <td>6.380524</td>\n",
       "    </tr>\n",
       "    <tr>\n",
       "      <th>16</th>\n",
       "      <td>7</td>\n",
       "      <td>6.810125</td>\n",
       "    </tr>\n",
       "    <tr>\n",
       "      <th>17</th>\n",
       "      <td>5</td>\n",
       "      <td>5.738033</td>\n",
       "    </tr>\n",
       "    <tr>\n",
       "      <th>18</th>\n",
       "      <td>5</td>\n",
       "      <td>5.976188</td>\n",
       "    </tr>\n",
       "    <tr>\n",
       "      <th>19</th>\n",
       "      <td>4</td>\n",
       "      <td>5.086134</td>\n",
       "    </tr>\n",
       "    <tr>\n",
       "      <th>20</th>\n",
       "      <td>7</td>\n",
       "      <td>6.344799</td>\n",
       "    </tr>\n",
       "    <tr>\n",
       "      <th>21</th>\n",
       "      <td>6</td>\n",
       "      <td>5.164010</td>\n",
       "    </tr>\n",
       "    <tr>\n",
       "      <th>22</th>\n",
       "      <td>6</td>\n",
       "      <td>5.642040</td>\n",
       "    </tr>\n",
       "    <tr>\n",
       "      <th>23</th>\n",
       "      <td>4</td>\n",
       "      <td>6.146290</td>\n",
       "    </tr>\n",
       "    <tr>\n",
       "      <th>24</th>\n",
       "      <td>6</td>\n",
       "      <td>5.481780</td>\n",
       "    </tr>\n",
       "  </tbody>\n",
       "</table>\n",
       "</div>"
      ],
      "text/plain": [
       "    Actual  Predicted\n",
       "0        6   5.782930\n",
       "1        5   5.036193\n",
       "2        7   6.596989\n",
       "3        6   5.339126\n",
       "4        5   5.939529\n",
       "5        6   5.007207\n",
       "6        5   5.396162\n",
       "7        6   6.052112\n",
       "8        4   4.867603\n",
       "9        5   4.950676\n",
       "10       5   5.285804\n",
       "11       5   5.412653\n",
       "12       6   5.705742\n",
       "13       5   5.129217\n",
       "14       6   5.528852\n",
       "15       6   6.380524\n",
       "16       7   6.810125\n",
       "17       5   5.738033\n",
       "18       5   5.976188\n",
       "19       4   5.086134\n",
       "20       7   6.344799\n",
       "21       6   5.164010\n",
       "22       6   5.642040\n",
       "23       4   6.146290\n",
       "24       6   5.481780"
      ]
     },
     "execution_count": 30,
     "metadata": {},
     "output_type": "execute_result"
    }
   ],
   "source": [
    "df = pd.DataFrame({'Actual': y_test, 'Predicted': y_pred})\n",
    "df1 = df.head(25)\n",
    "df1"
   ]
  },
  {
   "cell_type": "markdown",
   "metadata": {},
   "source": [
    "A continuación, se realiza un gráfico que permite comparar el valor estimado y el observado, sobre algunas observaciones"
   ]
  },
  {
   "cell_type": "code",
   "execution_count": 31,
   "metadata": {},
   "outputs": [
    {
     "data": {
      "image/png": "[encoded data removed]",
      "text/plain": [
       "<Figure size 720x576 with 1 Axes>"
      ]
     },
     "metadata": {
      "needs_background": "light"
     },
     "output_type": "display_data"
    }
   ],
   "source": [
    "df1.plot(kind='bar',figsize=(10,8))\n",
    "plt.grid(which='major', linestyle='-', linewidth='0.5', color='green')\n",
    "plt.grid(which='minor', linestyle=':', linewidth='0.5', color='black')\n",
    "plt.show()"
   ]
  },
  {
   "cell_type": "markdown",
   "metadata": {},
   "source": [
    "Finalmente, se imprimen algunas métricas."
   ]
  },
  {
   "cell_type": "code",
   "execution_count": 32,
   "metadata": {},
   "outputs": [
    {
     "name": "stdout",
     "output_type": "stream",
     "text": [
      "Mean Absolute Error: 0.46963309286611016\n",
      "Mean Squared Error: 0.3844711978201237\n",
      "Root Mean Squared Error: 0.6200574149384263\n"
     ]
    }
   ],
   "source": [
    "print('Mean Absolute Error:', metrics.mean_absolute_error(y_test, y_pred))  \n",
    "print('Mean Squared Error:', metrics.mean_squared_error(y_test, y_pred))  \n",
    "print('Root Mean Squared Error:', np.sqrt(metrics.mean_squared_error(y_test, y_pred)))"
   ]
  },
  {
   "cell_type": "markdown",
   "metadata": {},
   "source": [
    "### Un análisis más profundo"
   ]
  },
  {
   "cell_type": "code",
   "execution_count": 33,
   "metadata": {},
   "outputs": [],
   "source": [
    "dataset=dataset[['fixed acidity', 'volatile acidity', 'citric acid', 'residual sugar', 'chlorides', 'free sulfur dioxide', 'total sulfur dioxide', 'density', 'pH', 'sulphates','alcohol']].values\n"
   ]
  },
  {
   "cell_type": "code",
   "execution_count": 34,
   "metadata": {},
   "outputs": [],
   "source": [
    "xlabels=['fixed acidity', 'volatile acidity', 'citric acid', 'residual sugar', 'chlorides', 'free sulfur dioxide', 'total sulfur dioxide', 'density', 'pH', 'sulphates','alcohol']"
   ]
  },
  {
   "cell_type": "code",
   "execution_count": 35,
   "metadata": {},
   "outputs": [
    {
     "name": "stdout",
     "output_type": "stream",
     "text": [
      "\n",
      "=========== SUMMARY ===========\n",
      "Residuals:\n",
      "    Min      1Q  Median      3Q     Max\n",
      " 4.2478  5.2596  5.5963  6.0091  7.5836\n",
      "\n",
      "\n",
      "Coefficients:\n",
      "                       Estimate  Std. Error  t value   p value\n",
      "_intercept            34.998711   16.836011   2.0788  0.037835\n",
      "fixed acidity          0.041284    0.009169   4.5024  0.000007\n",
      "volatile acidity      -1.149528    0.120918  -9.5067  0.000000\n",
      "citric acid           -0.177927    0.155172  -1.1466  0.251744\n",
      "residual sugar         0.027870    0.013065   2.1331  0.033103\n",
      "chlorides             -1.873407    0.452351  -4.1415  0.000037\n",
      "free sulfur dioxide    0.002684    0.002219   1.2092  0.226802\n",
      "total sulfur dioxide  -0.002777    0.000491  -5.6570  0.000000\n",
      "density              -31.516666   17.520160  -1.7989  0.072274\n",
      "pH                    -0.254486    0.107163  -2.3747  0.017708\n",
      "sulphates              0.924040    0.113197   8.1631  0.000000\n",
      "alcohol                0.267797    0.010687  25.0593  0.000000\n",
      "---\n",
      "R-squared:  0.36545,    Adjusted R-squared:  0.35994\n",
      "F-statistic: 66.34 on 11 features\n"
     ]
    }
   ],
   "source": [
    "print(\"\\n=========== SUMMARY ===========\")\n",
    "xlabels=np.asarray(xlabels)\n",
    "stats.summary(regressor, X_train, y_train, xlabels)\n"
   ]
  },
  {
   "cell_type": "markdown",
   "metadata": {},
   "source": [
    "### Regresión Lasso y regresión Ridge"
   ]
  },
  {
   "cell_type": "markdown",
   "metadata": {},
   "source": [
    "### Regresión ridge sin restringir de manera significativa los coeficientes estimados beta"
   ]
  },
  {
   "cell_type": "code",
   "execution_count": 36,
   "metadata": {},
   "outputs": [
    {
     "data": {
      "text/plain": [
       "Ridge(alpha=0.01)"
      ]
     },
     "execution_count": 36,
     "metadata": {},
     "output_type": "execute_result"
    }
   ],
   "source": [
    "rr = Ridge(alpha=0.01) # higher the alpha value, more restriction on the coefficients; low alpha > more generalization, coefficients are barely\n",
    "# restricted and in this case linear and ridge regression resembles\n",
    "rr.fit(X_train, y_train)"
   ]
  },
  {
   "cell_type": "code",
   "execution_count": 37,
   "metadata": {},
   "outputs": [
    {
     "name": "stdout",
     "output_type": "stream",
     "text": [
      "\n",
      "=========== SUMMARY ===========\n",
      "Residuals:\n",
      "    Min      1Q  Median      3Q     Max\n",
      " 4.2154  5.2674   5.608  6.0108  7.5063\n",
      "\n",
      "\n",
      "Coefficients:\n",
      "                      Estimate  Std. Error  t value   p value\n",
      "_intercept            6.225103   16.845702   0.3695  0.711789\n",
      "fixed acidity         0.013934    0.009174   1.5188  0.129051\n",
      "volatile acidity     -1.171966    0.120988  -9.6867  0.000000\n",
      "citric acid          -0.179196    0.155261  -1.1542  0.248652\n",
      "residual sugar        0.015726    0.013073   1.2029  0.229219\n",
      "chlorides            -1.920733    0.452612  -4.2437  0.000024\n",
      "free sulfur dioxide   0.002971    0.002221   1.3378  0.181202\n",
      "total sulfur dioxide -0.002867    0.000491  -5.8360  0.000000\n",
      "density              -2.139739   17.530245  -0.1221  0.902871\n",
      "pH                   -0.401655    0.107225  -3.7459  0.000188\n",
      "sulphates             0.882125    0.113262   7.7883  0.000000\n",
      "alcohol               0.294844    0.010693  27.5744  0.000000\n",
      "---\n",
      "R-squared:  0.36472,    Adjusted R-squared:  0.35921\n",
      "F-statistic: 66.13 on 11 features\n"
     ]
    }
   ],
   "source": [
    "print(\"\\n=========== SUMMARY ===========\")\n",
    "xlabels=np.asarray(xlabels)\n",
    "stats.summary(rr, X_train, y_train, xlabels)"
   ]
  },
  {
   "cell_type": "markdown",
   "metadata": {},
   "source": [
    "### Regresión ridge restringiendo los coeficientes betas estimados"
   ]
  },
  {
   "cell_type": "code",
   "execution_count": 38,
   "metadata": {},
   "outputs": [
    {
     "data": {
      "text/plain": [
       "Ridge(alpha=100)"
      ]
     },
     "execution_count": 38,
     "metadata": {},
     "output_type": "execute_result"
    }
   ],
   "source": [
    "rr100 = Ridge(alpha=100) #  comparison with alpha value\n",
    "rr100.fit(X_train, y_train)"
   ]
  },
  {
   "cell_type": "code",
   "execution_count": 39,
   "metadata": {},
   "outputs": [
    {
     "name": "stdout",
     "output_type": "stream",
     "text": [
      "\n",
      "=========== SUMMARY ===========\n",
      "Residuals:\n",
      "    Min      1Q  Median      3Q     Max\n",
      " 4.7596  5.3149   5.581  5.9363  7.5295\n",
      "\n",
      "\n",
      "Coefficients:\n",
      "                      Estimate  Std. Error  t value   p value\n",
      "_intercept            2.251997   17.580117   0.1281  0.898091\n",
      "fixed acidity         0.045626    0.009574   4.7654  0.000002\n",
      "volatile acidity     -0.346752    0.126262  -2.7463  0.006112\n",
      "citric acid           0.095435    0.162030   0.5890  0.555968\n",
      "residual sugar        0.001251    0.013643   0.0917  0.926944\n",
      "chlorides            -0.032935    0.472344  -0.0697  0.944422\n",
      "free sulfur dioxide   0.005296    0.002317   2.2855  0.022446\n",
      "total sulfur dioxide -0.003156    0.000513  -6.1550  0.000000\n",
      "density              -0.000802   18.294504  -0.0000  0.999965\n",
      "pH                   -0.062606    0.111900  -0.5595  0.575933\n",
      "sulphates             0.225313    0.118200   1.9062  0.056849\n",
      "alcohol               0.316396    0.011159  28.3539  0.000000\n",
      "---\n",
      "R-squared:  0.30812,    Adjusted R-squared:  0.30212\n",
      "F-statistic: 51.30 on 11 features\n"
     ]
    }
   ],
   "source": [
    "print(\"\\n=========== SUMMARY ===========\")\n",
    "xlabels=np.asarray(xlabels)\n",
    "stats.summary(rr100, X_train, y_train, xlabels)"
   ]
  },
  {
   "cell_type": "markdown",
   "metadata": {},
   "source": [
    "### Plot para comparar los coeficientes betas estimados"
   ]
  },
  {
   "cell_type": "code",
   "execution_count": 40,
   "metadata": {},
   "outputs": [
    {
     "data": {
      "image/png": "[encoded data removed]",
      "text/plain": [
       "<Figure size 432x288 with 1 Axes>"
      ]
     },
     "metadata": {
      "needs_background": "light"
     },
     "output_type": "display_data"
    }
   ],
   "source": [
    "plt.plot(rr.coef_,alpha=0.7,linestyle='none',marker='*',markersize=5,color='red',label=r'Ridge; $\\alpha = 0.01$',zorder=7) # zorder for ordering the markers\n",
    "plt.plot(rr100.coef_,alpha=0.5,linestyle='none',marker='d',markersize=6,color='blue',label=r'Ridge; $\\alpha = 100$') # alpha here is for transparency\n",
    "plt.plot(regressor.coef_,alpha=0.4,linestyle='none',marker='o',markersize=7,color='green',label='Linear Regression')\n",
    "plt.xlabel('Coefficient Index',fontsize=16)\n",
    "plt.ylabel('Coefficient Magnitude',fontsize=16)\n",
    "plt.legend(fontsize=13,loc=4)\n",
    "plt.show()"
   ]
  },
  {
   "cell_type": "markdown",
   "metadata": {},
   "source": [
    "### A continuación se comparar las medidas de error al aplica el modelo de regresión, el modelo de regresión ridge con aplha=0,01 y el modelo de regresión ridge con alpha=100"
   ]
  },
  {
   "cell_type": "code",
   "execution_count": 41,
   "metadata": {},
   "outputs": [],
   "source": [
    "y_pred_rr = rr.predict(X_test)\n",
    "y_pred_rr100 = rr100.predict(X_test)"
   ]
  },
  {
   "cell_type": "code",
   "execution_count": 42,
   "metadata": {},
   "outputs": [
    {
     "name": "stdout",
     "output_type": "stream",
     "text": [
      "=======Errores del modelo de regresión lineal ========\n",
      "Mean Absolute Error: 0.46963309286611016\n",
      "Mean Squared Error: 0.3844711978201237\n",
      "Root Mean Squared Error: 0.6200574149384263\n",
      "======== Errores del modelo de regresión ridge aplha=0.01 =========\n",
      "Mean Absolute Error: 0.4687283818865495\n",
      "Mean Squared Error: 0.38275494419748324\n",
      "Root Mean Squared Error: 0.6186719196775325\n",
      "======== Errores del modelo de regresión ridge aplha=100 =========\n",
      "Mean Absolute Error: 0.48084341377069756\n",
      "Mean Squared Error: 0.3949972082723098\n",
      "Root Mean Squared Error: 0.628488033515603\n"
     ]
    }
   ],
   "source": [
    "print(\"=======Errores del modelo de regresión lineal ========\")\n",
    "print('Mean Absolute Error:', metrics.mean_absolute_error(y_test, y_pred))  \n",
    "print('Mean Squared Error:', metrics.mean_squared_error(y_test, y_pred))  \n",
    "print('Root Mean Squared Error:', np.sqrt(metrics.mean_squared_error(y_test, y_pred)))\n",
    "\n",
    "print(\"======== Errores del modelo de regresión ridge aplha=0.01 =========\")\n",
    "print('Mean Absolute Error:', metrics.mean_absolute_error(y_test, y_pred_rr))  \n",
    "print('Mean Squared Error:', metrics.mean_squared_error(y_test, y_pred_rr))  \n",
    "print('Root Mean Squared Error:', np.sqrt(metrics.mean_squared_error(y_test, y_pred_rr)))\n",
    "\n",
    "print(\"======== Errores del modelo de regresión ridge aplha=100 =========\")\n",
    "print('Mean Absolute Error:', metrics.mean_absolute_error(y_test, y_pred_rr100))  \n",
    "print('Mean Squared Error:', metrics.mean_squared_error(y_test, y_pred_rr100))  \n",
    "print('Root Mean Squared Error:', np.sqrt(metrics.mean_squared_error(y_test, y_pred_rr100)))\n",
    "\n"
   ]
  },
  {
   "cell_type": "markdown",
   "metadata": {},
   "source": [
    "### Regresión Lasso"
   ]
  },
  {
   "cell_type": "markdown",
   "metadata": {},
   "source": [
    "Ajuste del modelo Lasso con los parámetros por default (alpha = 1)"
   ]
  },
  {
   "cell_type": "code",
   "execution_count": 43,
   "metadata": {},
   "outputs": [
    {
     "data": {
      "text/plain": [
       "Lasso()"
      ]
     },
     "execution_count": 43,
     "metadata": {},
     "output_type": "execute_result"
    }
   ],
   "source": [
    "lasso = Lasso()\n",
    "lasso.fit(X_train,y_train)"
   ]
  },
  {
   "cell_type": "code",
   "execution_count": 44,
   "metadata": {},
   "outputs": [
    {
     "name": "stdout",
     "output_type": "stream",
     "text": [
      "\n",
      "=========== SUMMARY ===========\n",
      "Residuals:\n",
      "    Min      1Q  Median      3Q     Max\n",
      " 4.7765  5.5895  5.6794  5.7369  5.7945\n",
      "\n",
      "\n",
      "Coefficients:\n",
      "                      Estimate  Std. Error  t value   p value\n",
      "_intercept            5.816085   20.789419   0.2798  0.779706\n",
      "fixed acidity         0.000000    0.011322   0.0000  1.000000\n",
      "volatile acidity     -0.000000    0.149312  -0.0000  1.000000\n",
      "citric acid           0.000000    0.191609   0.0000  1.000000\n",
      "residual sugar        0.000000    0.016133   0.0000  1.000000\n",
      "chlorides            -0.000000    0.558572  -0.0000  1.000000\n",
      "free sulfur dioxide   0.000000    0.002740   0.0000  1.000000\n",
      "total sulfur dioxide -0.003597    0.000606  -5.9335  0.000000\n",
      "density              -0.000000   21.634219  -0.0000  1.000000\n",
      "pH                   -0.000000    0.132327  -0.0000  1.000000\n",
      "sulphates             0.000000    0.139778   0.0000  1.000000\n",
      "alcohol               0.000000    0.013196   0.0000  1.000000\n",
      "---\n",
      "R-squared:  0.03246,    Adjusted R-squared:  0.02406\n",
      "F-statistic: 3.86 on 11 features\n"
     ]
    }
   ],
   "source": [
    "print(\"\\n=========== SUMMARY ===========\")\n",
    "xlabels=np.asarray(xlabels)\n",
    "stats.summary(lasso, X_train, y_train, xlabels)"
   ]
  },
  {
   "cell_type": "markdown",
   "metadata": {},
   "source": [
    "### Regresión Lasso con alpha= 0.01"
   ]
  },
  {
   "cell_type": "code",
   "execution_count": 45,
   "metadata": {},
   "outputs": [
    {
     "data": {
      "text/plain": [
       "Lasso(alpha=0.01, max_iter=1000000.0)"
      ]
     },
     "execution_count": 45,
     "metadata": {},
     "output_type": "execute_result"
    }
   ],
   "source": [
    "lasso001 = Lasso(alpha=0.01, max_iter=10e5)\n",
    "lasso001.fit(X_train,y_train)"
   ]
  },
  {
   "cell_type": "code",
   "execution_count": 46,
   "metadata": {},
   "outputs": [
    {
     "name": "stdout",
     "output_type": "stream",
     "text": [
      "\n",
      "=========== SUMMARY ===========\n",
      "Residuals:\n",
      "    Min      1Q  Median      3Q     Max\n",
      " 4.4792  5.2959  5.5915  5.9736  7.4861\n",
      "\n",
      "\n",
      "Coefficients:\n",
      "                      Estimate  Std. Error  t value   p value\n",
      "_intercept            2.446120   17.114037   0.1429  0.886367\n",
      "fixed acidity         0.033734    0.009321   3.6194  0.000307\n",
      "volatile acidity     -0.937567    0.122915  -7.6278  0.000000\n",
      "citric acid           0.000000    0.157735   0.0000  1.000000\n",
      "residual sugar        0.001425    0.013281   0.1073  0.914558\n",
      "chlorides            -0.000000    0.459821  -0.0000  1.000000\n",
      "free sulfur dioxide   0.003449    0.002256   1.5290  0.126519\n",
      "total sulfur dioxide -0.002624    0.000499  -5.2573  0.000000\n",
      "density              -0.000000   17.809484  -0.0000  1.000000\n",
      "pH                   -0.000000    0.108933  -0.0000  1.000000\n",
      "sulphates             0.382792    0.115067   3.3267  0.000904\n",
      "alcohol               0.310018    0.010863  28.5389  0.000000\n",
      "---\n",
      "R-squared:  0.34432,    Adjusted R-squared:  0.33863\n",
      "F-statistic: 60.49 on 11 features\n"
     ]
    }
   ],
   "source": [
    "print(\"\\n=========== SUMMARY ===========\")\n",
    "xlabels=np.asarray(xlabels)\n",
    "\n",
    "stats.summary(lasso001, X_train, y_train, xlabels)"
   ]
  },
  {
   "cell_type": "markdown",
   "metadata": {},
   "source": [
    "### Regresión Lasso con alpha = 0.0001"
   ]
  },
  {
   "cell_type": "code",
   "execution_count": 47,
   "metadata": {},
   "outputs": [
    {
     "data": {
      "text/plain": [
       "Lasso(alpha=0.0001, max_iter=1000000.0)"
      ]
     },
     "execution_count": 47,
     "metadata": {},
     "output_type": "execute_result"
    }
   ],
   "source": [
    "lasso00001 = Lasso(alpha=0.0001, max_iter=10e5)\n",
    "lasso00001.fit(X_train,y_train)"
   ]
  },
  {
   "cell_type": "code",
   "execution_count": 48,
   "metadata": {},
   "outputs": [
    {
     "name": "stdout",
     "output_type": "stream",
     "text": [
      "\n",
      "=========== SUMMARY ===========\n"
     ]
    }
   ],
   "source": [
    "print(\"\\n=========== SUMMARY ===========\")\n",
    "xlabels=np.asarray(xlabels)\n"
   ]
  },
  {
   "cell_type": "code",
   "execution_count": 49,
   "metadata": {},
   "outputs": [
    {
     "name": "stdout",
     "output_type": "stream",
     "text": [
      "Residuals:\n",
      "    Min      1Q  Median      3Q     Max\n",
      " 4.2182  5.2677  5.6083  6.0109  7.4999\n",
      "\n",
      "\n",
      "Coefficients:\n",
      "                      Estimate  Std. Error  t value   p value\n",
      "_intercept            4.081573   16.847347   0.2423  0.808611\n",
      "fixed acidity         0.012283    0.009175   1.3387  0.180915\n",
      "volatile acidity     -1.171399    0.120999  -9.6810  0.000000\n",
      "citric acid          -0.172449    0.155277  -1.1106  0.266953\n",
      "residual sugar        0.014589    0.013074   1.1159  0.264673\n",
      "chlorides            -1.871817    0.452656  -4.1352  0.000038\n",
      "free sulfur dioxide   0.002994    0.002221   1.3483  0.177789\n",
      "total sulfur dioxide -0.002868    0.000491  -5.8373  0.000000\n",
      "density              -0.000000   17.531956  -0.0000  1.000000\n",
      "pH                   -0.399869    0.107236  -3.7289  0.000201\n",
      "sulphates             0.870411    0.113273   7.6842  0.000000\n",
      "alcohol               0.297003    0.010694  27.7736  0.000000\n",
      "---\n",
      "R-squared:  0.36460,    Adjusted R-squared:  0.35908\n",
      "F-statistic: 66.09 on 11 features\n"
     ]
    }
   ],
   "source": [
    "stats.summary(lasso00001, X_train, y_train, xlabels)"
   ]
  },
  {
   "cell_type": "markdown",
   "metadata": {},
   "source": [
    "### Plot para comparar los coeficientes betas estimados"
   ]
  },
  {
   "cell_type": "code",
   "execution_count": 50,
   "metadata": {},
   "outputs": [
    {
     "data": {
      "image/png": "[encoded data removed]",
      "text/plain": [
       "<Figure size 432x288 with 2 Axes>"
      ]
     },
     "metadata": {
      "needs_background": "light"
     },
     "output_type": "display_data"
    }
   ],
   "source": [
    "plt.subplot(1,2,1)\n",
    "plt.plot(lasso.coef_,alpha=0.7,linestyle='none',marker='*',markersize=5,color='red',label=r'Lasso; $\\alpha = 1$',zorder=7) # alpha here is for transparency\n",
    "plt.plot(lasso001.coef_,alpha=0.5,linestyle='none',marker='d',markersize=6,color='blue',label=r'Lasso; $\\alpha = 0.01$') # alpha here is for transparency\n",
    "\n",
    "plt.xlabel('Coefficient Index',fontsize=16)\n",
    "plt.ylabel('Coefficient Magnitude',fontsize=16)\n",
    "plt.legend(fontsize=13,loc=4)\n",
    "plt.subplot(1,2,2)\n",
    "plt.plot(lasso.coef_,alpha=0.7,linestyle='none',marker='*',markersize=5,color='red',label=r'Lasso; $\\alpha = 1$',zorder=7) # alpha here is for transparency\n",
    "plt.plot(lasso001.coef_,alpha=0.5,linestyle='none',marker='d',markersize=6,color='blue',label=r'Lasso; $\\alpha = 0.01$') # alpha here is for transparency\n",
    "plt.plot(lasso00001.coef_,alpha=0.8,linestyle='none',marker='v',markersize=6,color='black',label=r'Lasso; $\\alpha = 0.00001$') # alpha here is for transparency\n",
    "plt.plot(regressor.coef_,alpha=0.7,linestyle='none',marker='o',markersize=5,color='green',label='Linear Regression',zorder=2)\n",
    "plt.xlabel('Coefficient Index',fontsize=16)\n",
    "plt.ylabel('Coefficient Magnitude',fontsize=16)\n",
    "plt.legend(fontsize=13,loc=4)\n",
    "plt.tight_layout()\n",
    "plt.show()\n"
   ]
  },
  {
   "cell_type": "markdown",
   "metadata": {},
   "source": [
    "### A continuación se va a comparar las medidas de error al aplicar sobre la data de test el modelo de regresión lineal, el modelo de regresión lasso con alpha = 1, el modelo de regresión lasso con alpha= 0.01 y el modelo de regresión lasso con alha = 0.0001 "
   ]
  },
  {
   "cell_type": "code",
   "execution_count": 51,
   "metadata": {},
   "outputs": [],
   "source": [
    "y_pred_lasso = lasso.predict(X_test)\n",
    "y_pred_lasso001 = lasso001.predict(X_test)\n",
    "y_pred_lasso00001 = lasso00001.predict(X_test)"
   ]
  },
  {
   "cell_type": "code",
   "execution_count": 52,
   "metadata": {},
   "outputs": [
    {
     "name": "stdout",
     "output_type": "stream",
     "text": [
      "=======Errores del modelo de regresión lineal ========\n",
      "Mean Absolute Error: 0.46963309286611016\n",
      "Mean Squared Error: 0.3844711978201237\n",
      "Root Mean Squared Error: 0.6200574149384263\n",
      "======== Errores del modelo de regresión lasso aplha=1 =========\n",
      "Mean Absolute Error: 0.6159175814801839\n",
      "Mean Squared Error: 0.5558361552524876\n",
      "Root Mean Squared Error: 0.7455442007369433\n",
      "======== Errores del modelo de regresión lasso aplha=0.01 =========\n",
      "Mean Absolute Error: 0.47364766826818816\n",
      "Mean Squared Error: 0.38828664720540534\n",
      "Root Mean Squared Error: 0.6231265097918763\n",
      "======== Errores del modelo de regresión lasso aplha=0.0001 =========\n",
      "Mean Absolute Error: 0.4686774354326323\n",
      "Mean Squared Error: 0.38268336035864814\n",
      "Root Mean Squared Error: 0.6186140641455286\n"
     ]
    }
   ],
   "source": [
    "print(\"=======Errores del modelo de regresión lineal ========\")\n",
    "print('Mean Absolute Error:', metrics.mean_absolute_error(y_test, y_pred))  \n",
    "print('Mean Squared Error:', metrics.mean_squared_error(y_test, y_pred))  \n",
    "print('Root Mean Squared Error:', np.sqrt(metrics.mean_squared_error(y_test, y_pred)))\n",
    "\n",
    "print(\"======== Errores del modelo de regresión lasso aplha=1 =========\")\n",
    "print('Mean Absolute Error:', metrics.mean_absolute_error(y_test, y_pred_lasso))  \n",
    "print('Mean Squared Error:', metrics.mean_squared_error(y_test, y_pred_lasso))  \n",
    "print('Root Mean Squared Error:', np.sqrt(metrics.mean_squared_error(y_test, y_pred_lasso)))\n",
    "\n",
    "print(\"======== Errores del modelo de regresión lasso aplha=0.01 =========\")\n",
    "print('Mean Absolute Error:', metrics.mean_absolute_error(y_test, y_pred_lasso001))  \n",
    "print('Mean Squared Error:', metrics.mean_squared_error(y_test, y_pred_lasso001))  \n",
    "print('Root Mean Squared Error:', np.sqrt(metrics.mean_squared_error(y_test, y_pred_lasso001)))\n",
    "\n",
    "\n",
    "print(\"======== Errores del modelo de regresión lasso aplha=0.0001 =========\")\n",
    "print('Mean Absolute Error:', metrics.mean_absolute_error(y_test, y_pred_lasso00001))  \n",
    "print('Mean Squared Error:', metrics.mean_squared_error(y_test, y_pred_lasso00001))  \n",
    "print('Root Mean Squared Error:', np.sqrt(metrics.mean_squared_error(y_test, y_pred_lasso00001)))\n"
   ]
  },
  {
   "cell_type": "markdown",
   "metadata": {},
   "source": [
    "### Inicio de la solución a la pregunta 2"
   ]
  },
  {
   "cell_type": "code",
   "execution_count": 53,
   "metadata": {},
   "outputs": [],
   "source": [
    "dataset = pd.read_csv('winequality.csv')"
   ]
  },
  {
   "cell_type": "code",
   "execution_count": 54,
   "metadata": {},
   "outputs": [],
   "source": [
    "X = dataset[['fixed acidity', 'volatile acidity', 'citric acid', 'residual sugar', 'chlorides', 'free sulfur dioxide', 'total sulfur dioxide', 'density', 'pH', 'sulphates','alcohol']].values\n",
    "y = dataset['quality'].values"
   ]
  },
  {
   "cell_type": "code",
   "execution_count": 55,
   "metadata": {},
   "outputs": [],
   "source": [
    "X_train, X_test, y_train, y_test = train_test_split(X, y, test_size=0.2, random_state=0)"
   ]
  },
  {
   "cell_type": "code",
   "execution_count": 56,
   "metadata": {},
   "outputs": [],
   "source": [
    "# Este conjunto se cambia teniendo en cuenta la evaluación que se espere realizar.\n",
    "values = [0.0001,0.01, 0.1,0.2,0.5,0.7,1,3,5,10,20,30,60,80,1000]\n",
    "# values.sort(reverse=True)"
   ]
  },
  {
   "cell_type": "code",
   "execution_count": 57,
   "metadata": {},
   "outputs": [],
   "source": [
    "erro_df = pd.DataFrame(columns = ['alpha','er_lasso_train','er_lasso_test','er_ridge_train','er_ridge_test'])"
   ]
  },
  {
   "cell_type": "code",
   "execution_count": 58,
   "metadata": {},
   "outputs": [
    {
     "data": {
      "text/html": [
       "<div>\n",
       "<style scoped>\n",
       "    .dataframe tbody tr th:only-of-type {\n",
       "        vertical-align: middle;\n",
       "    }\n",
       "\n",
       "    .dataframe tbody tr th {\n",
       "        vertical-align: top;\n",
       "    }\n",
       "\n",
       "    .dataframe thead th {\n",
       "        text-align: right;\n",
       "    }\n",
       "</style>\n",
       "<table border=\"1\" class=\"dataframe\">\n",
       "  <thead>\n",
       "    <tr style=\"text-align: right;\">\n",
       "      <th></th>\n",
       "      <th>alpha</th>\n",
       "      <th>er_lasso_train</th>\n",
       "      <th>er_lasso_test</th>\n",
       "      <th>er_ridge_train</th>\n",
       "      <th>er_ridge_test</th>\n",
       "    </tr>\n",
       "  </thead>\n",
       "  <tbody>\n",
       "    <tr>\n",
       "      <th>0</th>\n",
       "      <td>0</td>\n",
       "      <td>1</td>\n",
       "      <td>2</td>\n",
       "      <td>3</td>\n",
       "      <td>4</td>\n",
       "    </tr>\n",
       "  </tbody>\n",
       "</table>\n",
       "</div>"
      ],
      "text/plain": [
       "  alpha er_lasso_train er_lasso_test er_ridge_train er_ridge_test\n",
       "0     0              1             2              3             4"
      ]
     },
     "execution_count": 58,
     "metadata": {},
     "output_type": "execute_result"
    }
   ],
   "source": [
    "erro_df.append({'alpha':0,'er_lasso_train':1,'er_lasso_test':2,'er_ridge_train':3,'er_ridge_test':4},ignore_index=True)"
   ]
  },
  {
   "cell_type": "code",
   "execution_count": 59,
   "metadata": {},
   "outputs": [],
   "source": [
    "for i in values:\n",
    "    ridge = Ridge(alpha=i)\n",
    "    lasso = Lasso(alpha=i)\n",
    "    \n",
    "    ridge.fit(X_train,y_train)\n",
    "    lasso.fit(X_train,y_train)\n",
    "    \n",
    "    y_pred_ridge_train = ridge.predict(X_train)\n",
    "    y_pred_lasso_train = lasso.predict(X_train)\n",
    "    \n",
    "    y_pred_ridge_test = ridge.predict(X_test)\n",
    "    y_pred_lasso_test = lasso.predict(X_test)\n",
    "    \n",
    "    ridge_train_MAE = metrics.mean_absolute_error(y_train, y_pred_ridge_train)\n",
    "    lasso_train_MAE = metrics.mean_absolute_error(y_train, y_pred_lasso_train)\n",
    "    \n",
    "    ridge_test_MAE = metrics.mean_absolute_error(y_test, y_pred_ridge_test)\n",
    "    lasso_test_MAE = metrics.mean_absolute_error(y_test, y_pred_lasso_test)\n",
    "    \n",
    "    erro_df = erro_df.append({'alpha':i,'er_lasso_train':lasso_train_MAE,'er_lasso_test':lasso_test_MAE,\n",
    "                    'er_ridge_train':ridge_train_MAE,'er_ridge_test':ridge_test_MAE},ignore_index=True)"
   ]
  },
  {
   "cell_type": "code",
   "execution_count": 60,
   "metadata": {},
   "outputs": [
    {
     "data": {
      "text/html": [
       "<div>\n",
       "<style scoped>\n",
       "    .dataframe tbody tr th:only-of-type {\n",
       "        vertical-align: middle;\n",
       "    }\n",
       "\n",
       "    .dataframe tbody tr th {\n",
       "        vertical-align: top;\n",
       "    }\n",
       "\n",
       "    .dataframe thead th {\n",
       "        text-align: right;\n",
       "    }\n",
       "</style>\n",
       "<table border=\"1\" class=\"dataframe\">\n",
       "  <thead>\n",
       "    <tr style=\"text-align: right;\">\n",
       "      <th></th>\n",
       "      <th>alpha</th>\n",
       "      <th>er_lasso_train</th>\n",
       "      <th>er_lasso_test</th>\n",
       "      <th>er_ridge_train</th>\n",
       "      <th>er_ridge_test</th>\n",
       "    </tr>\n",
       "  </thead>\n",
       "  <tbody>\n",
       "    <tr>\n",
       "      <th>0</th>\n",
       "      <td>0.0001</td>\n",
       "      <td>0.510585</td>\n",
       "      <td>0.468677</td>\n",
       "      <td>0.509694</td>\n",
       "      <td>0.469417</td>\n",
       "    </tr>\n",
       "    <tr>\n",
       "      <th>1</th>\n",
       "      <td>0.0100</td>\n",
       "      <td>0.520287</td>\n",
       "      <td>0.473648</td>\n",
       "      <td>0.510465</td>\n",
       "      <td>0.468728</td>\n",
       "    </tr>\n",
       "    <tr>\n",
       "      <th>2</th>\n",
       "      <td>0.1000</td>\n",
       "      <td>0.569101</td>\n",
       "      <td>0.511414</td>\n",
       "      <td>0.510580</td>\n",
       "      <td>0.468638</td>\n",
       "    </tr>\n",
       "    <tr>\n",
       "      <th>3</th>\n",
       "      <td>0.2000</td>\n",
       "      <td>0.596778</td>\n",
       "      <td>0.538459</td>\n",
       "      <td>0.510663</td>\n",
       "      <td>0.468578</td>\n",
       "    </tr>\n",
       "    <tr>\n",
       "      <th>4</th>\n",
       "      <td>0.5000</td>\n",
       "      <td>0.661130</td>\n",
       "      <td>0.613070</td>\n",
       "      <td>0.510884</td>\n",
       "      <td>0.468498</td>\n",
       "    </tr>\n",
       "    <tr>\n",
       "      <th>5</th>\n",
       "      <td>0.7000</td>\n",
       "      <td>0.662543</td>\n",
       "      <td>0.614209</td>\n",
       "      <td>0.511014</td>\n",
       "      <td>0.468495</td>\n",
       "    </tr>\n",
       "    <tr>\n",
       "      <th>6</th>\n",
       "      <td>1.0000</td>\n",
       "      <td>0.664663</td>\n",
       "      <td>0.615918</td>\n",
       "      <td>0.511212</td>\n",
       "      <td>0.468506</td>\n",
       "    </tr>\n",
       "    <tr>\n",
       "      <th>7</th>\n",
       "      <td>3.0000</td>\n",
       "      <td>0.678796</td>\n",
       "      <td>0.627307</td>\n",
       "      <td>0.512607</td>\n",
       "      <td>0.469235</td>\n",
       "    </tr>\n",
       "    <tr>\n",
       "      <th>8</th>\n",
       "      <td>5.0000</td>\n",
       "      <td>0.692928</td>\n",
       "      <td>0.638696</td>\n",
       "      <td>0.513486</td>\n",
       "      <td>0.469606</td>\n",
       "    </tr>\n",
       "    <tr>\n",
       "      <th>9</th>\n",
       "      <td>10.0000</td>\n",
       "      <td>0.693312</td>\n",
       "      <td>0.639005</td>\n",
       "      <td>0.515039</td>\n",
       "      <td>0.469979</td>\n",
       "    </tr>\n",
       "    <tr>\n",
       "      <th>10</th>\n",
       "      <td>20.0000</td>\n",
       "      <td>0.693312</td>\n",
       "      <td>0.639005</td>\n",
       "      <td>0.518036</td>\n",
       "      <td>0.471076</td>\n",
       "    </tr>\n",
       "    <tr>\n",
       "      <th>11</th>\n",
       "      <td>30.0000</td>\n",
       "      <td>0.693312</td>\n",
       "      <td>0.639005</td>\n",
       "      <td>0.521258</td>\n",
       "      <td>0.472387</td>\n",
       "    </tr>\n",
       "    <tr>\n",
       "      <th>12</th>\n",
       "      <td>60.0000</td>\n",
       "      <td>0.693312</td>\n",
       "      <td>0.639005</td>\n",
       "      <td>0.528583</td>\n",
       "      <td>0.476601</td>\n",
       "    </tr>\n",
       "    <tr>\n",
       "      <th>13</th>\n",
       "      <td>80.0000</td>\n",
       "      <td>0.693312</td>\n",
       "      <td>0.639005</td>\n",
       "      <td>0.532149</td>\n",
       "      <td>0.478942</td>\n",
       "    </tr>\n",
       "    <tr>\n",
       "      <th>14</th>\n",
       "      <td>1000.0000</td>\n",
       "      <td>0.693312</td>\n",
       "      <td>0.639005</td>\n",
       "      <td>0.572879</td>\n",
       "      <td>0.512134</td>\n",
       "    </tr>\n",
       "  </tbody>\n",
       "</table>\n",
       "</div>"
      ],
      "text/plain": [
       "        alpha  er_lasso_train  er_lasso_test  er_ridge_train  er_ridge_test\n",
       "0      0.0001        0.510585       0.468677        0.509694       0.469417\n",
       "1      0.0100        0.520287       0.473648        0.510465       0.468728\n",
       "2      0.1000        0.569101       0.511414        0.510580       0.468638\n",
       "3      0.2000        0.596778       0.538459        0.510663       0.468578\n",
       "4      0.5000        0.661130       0.613070        0.510884       0.468498\n",
       "5      0.7000        0.662543       0.614209        0.511014       0.468495\n",
       "6      1.0000        0.664663       0.615918        0.511212       0.468506\n",
       "7      3.0000        0.678796       0.627307        0.512607       0.469235\n",
       "8      5.0000        0.692928       0.638696        0.513486       0.469606\n",
       "9     10.0000        0.693312       0.639005        0.515039       0.469979\n",
       "10    20.0000        0.693312       0.639005        0.518036       0.471076\n",
       "11    30.0000        0.693312       0.639005        0.521258       0.472387\n",
       "12    60.0000        0.693312       0.639005        0.528583       0.476601\n",
       "13    80.0000        0.693312       0.639005        0.532149       0.478942\n",
       "14  1000.0000        0.693312       0.639005        0.572879       0.512134"
      ]
     },
     "execution_count": 60,
     "metadata": {},
     "output_type": "execute_result"
    }
   ],
   "source": [
    "erro_df"
   ]
  },
  {
   "cell_type": "code",
   "execution_count": 61,
   "metadata": {},
   "outputs": [],
   "source": [
    "import matplotlib.pyplot as plt"
   ]
  },
  {
   "cell_type": "code",
   "execution_count": 62,
   "metadata": {},
   "outputs": [
    {
     "data": {
      "image/png": "[encoded data removed]",
      "text/plain": [
       "<Figure size 864x144 with 2 Axes>"
      ]
     },
     "metadata": {
      "needs_background": "light"
     },
     "output_type": "display_data"
    }
   ],
   "source": [
    "plt.figure(figsize = (12,2))\n",
    "ax = plt.subplot(1,2,1)\n",
    "plt.plot(erro_df['alpha'].values, erro_df['er_lasso_test'].values, label = 'Validation error')\n",
    "plt.plot(erro_df['alpha'].values, erro_df['er_lasso_train'].values, label = 'Training error')\n",
    "\n",
    "plt.xlim(0,8)\n",
    "ax2 = plt.subplot(1,2,2)\n",
    "plt.plot(erro_df['alpha'].values, erro_df['er_ridge_test'].values, label = 'Validation error')\n",
    "plt.plot(erro_df['alpha'].values, erro_df['er_ridge_train'].values, label = 'Training error')\n",
    "\n",
    "plt.xlim(0,100)\n",
    "\n",
    "ax.legend()\n",
    "ax2.legend()\n",
    "ax.title.set_text('Lasso')\n",
    "ax2.title.set_text('Ridge')\n",
    "ax.title.set_text('Lasso')\n",
    "ax2.title.set_text('Ridge')\n",
    "ax.set_xlabel('alpha')\n",
    "ax.set_ylabel('MAE')\n",
    "ax2.set_xlabel('alpha')\n",
    "ax2.set_ylabel('MAE')\n",
    "\n",
    "ax.invert_xaxis()\n",
    "ax2.invert_xaxis()"
   ]
  },
  {
   "cell_type": "markdown",
   "metadata": {},
   "source": [
    "<h1> Revisión con valores pequeños</h1> "
   ]
  },
  {
   "cell_type": "code",
   "execution_count": 63,
   "metadata": {},
   "outputs": [],
   "source": [
    "dataset = pd.read_csv('winequality.csv')"
   ]
  },
  {
   "cell_type": "code",
   "execution_count": 64,
   "metadata": {},
   "outputs": [],
   "source": [
    "X = dataset[['fixed acidity', 'volatile acidity', 'citric acid', 'residual sugar', 'chlorides', 'free sulfur dioxide', 'total sulfur dioxide', 'density', 'pH', 'sulphates','alcohol']].values\n",
    "y = dataset['quality'].values"
   ]
  },
  {
   "cell_type": "code",
   "execution_count": 65,
   "metadata": {},
   "outputs": [],
   "source": [
    "X_train, X_test, y_train, y_test = train_test_split(X, y, test_size=0.2, random_state=0)"
   ]
  },
  {
   "cell_type": "code",
   "execution_count": 66,
   "metadata": {},
   "outputs": [],
   "source": [
    "values = [0,0.0000001,0.000001,0.00001,0.00001,0.0001,0.001,0.01,0.01,0.1,1 ]"
   ]
  },
  {
   "cell_type": "code",
   "execution_count": 67,
   "metadata": {},
   "outputs": [],
   "source": [
    "erro_df = pd.DataFrame(columns = ['alpha','er_lasso_train','er_lasso_test','er_ridge_train','er_ridge_test'])"
   ]
  },
  {
   "cell_type": "code",
   "execution_count": 68,
   "metadata": {},
   "outputs": [
    {
     "data": {
      "text/html": [
       "<div>\n",
       "<style scoped>\n",
       "    .dataframe tbody tr th:only-of-type {\n",
       "        vertical-align: middle;\n",
       "    }\n",
       "\n",
       "    .dataframe tbody tr th {\n",
       "        vertical-align: top;\n",
       "    }\n",
       "\n",
       "    .dataframe thead th {\n",
       "        text-align: right;\n",
       "    }\n",
       "</style>\n",
       "<table border=\"1\" class=\"dataframe\">\n",
       "  <thead>\n",
       "    <tr style=\"text-align: right;\">\n",
       "      <th></th>\n",
       "      <th>alpha</th>\n",
       "      <th>er_lasso_train</th>\n",
       "      <th>er_lasso_test</th>\n",
       "      <th>er_ridge_train</th>\n",
       "      <th>er_ridge_test</th>\n",
       "    </tr>\n",
       "  </thead>\n",
       "  <tbody>\n",
       "    <tr>\n",
       "      <th>0</th>\n",
       "      <td>0</td>\n",
       "      <td>1</td>\n",
       "      <td>2</td>\n",
       "      <td>3</td>\n",
       "      <td>4</td>\n",
       "    </tr>\n",
       "  </tbody>\n",
       "</table>\n",
       "</div>"
      ],
      "text/plain": [
       "  alpha er_lasso_train er_lasso_test er_ridge_train er_ridge_test\n",
       "0     0              1             2              3             4"
      ]
     },
     "execution_count": 68,
     "metadata": {},
     "output_type": "execute_result"
    }
   ],
   "source": [
    "erro_df.append({'alpha':0,'er_lasso_train':1,'er_lasso_test':2,'er_ridge_train':3,'er_ridge_test':4},ignore_index=True)"
   ]
  },
  {
   "cell_type": "code",
   "execution_count": 69,
   "metadata": {},
   "outputs": [
    {
     "name": "stderr",
     "output_type": "stream",
     "text": [
      "<ipython-input-69-a83f3e0ceeee>:6: UserWarning: With alpha=0, this algorithm does not converge well. You are advised to use the LinearRegression estimator\n",
      "  lasso.fit(X_train,y_train)\n",
      "C:\\Users\\anavr\\anaconda3\\lib\\site-packages\\sklearn\\linear_model\\_coordinate_descent.py:529: UserWarning: Coordinate descent with no regularization may lead to unexpected results and is discouraged.\n",
      "  model = cd_fast.enet_coordinate_descent(\n",
      "C:\\Users\\anavr\\anaconda3\\lib\\site-packages\\sklearn\\linear_model\\_coordinate_descent.py:529: ConvergenceWarning: Objective did not converge. You might want to increase the number of iterations. Duality gap: 272.30445801159647, tolerance: 0.08582627052384678\n",
      "  model = cd_fast.enet_coordinate_descent(\n"
     ]
    }
   ],
   "source": [
    "for i in values:\n",
    "    ridge = Ridge(alpha=i)\n",
    "    lasso = Lasso(alpha=i)\n",
    "    \n",
    "    ridge.fit(X_train,y_train)\n",
    "    lasso.fit(X_train,y_train)\n",
    "    \n",
    "    y_pred_ridge_train = ridge.predict(X_train)\n",
    "    y_pred_lasso_train = lasso.predict(X_train)\n",
    "    \n",
    "    y_pred_ridge_test = ridge.predict(X_test)\n",
    "    y_pred_lasso_test = lasso.predict(X_test)\n",
    "    \n",
    "    ridge_train_MAE = metrics.mean_absolute_error(y_train, y_pred_ridge_train)\n",
    "    lasso_train_MAE = metrics.mean_absolute_error(y_train, y_pred_lasso_train)\n",
    "    \n",
    "    ridge_test_MAE = metrics.mean_absolute_error(y_test, y_pred_ridge_test)\n",
    "    lasso_test_MAE = metrics.mean_absolute_error(y_test, y_pred_lasso_test)\n",
    "    \n",
    "    erro_df = erro_df.append({'alpha':i,'er_lasso_train':lasso_train_MAE,'er_lasso_test':lasso_test_MAE,\n",
    "                    'er_ridge_train':ridge_train_MAE,'er_ridge_test':ridge_test_MAE},ignore_index=True)"
   ]
  },
  {
   "cell_type": "code",
   "execution_count": 70,
   "metadata": {},
   "outputs": [
    {
     "data": {
      "text/html": [
       "<div>\n",
       "<style scoped>\n",
       "    .dataframe tbody tr th:only-of-type {\n",
       "        vertical-align: middle;\n",
       "    }\n",
       "\n",
       "    .dataframe tbody tr th {\n",
       "        vertical-align: top;\n",
       "    }\n",
       "\n",
       "    .dataframe thead th {\n",
       "        text-align: right;\n",
       "    }\n",
       "</style>\n",
       "<table border=\"1\" class=\"dataframe\">\n",
       "  <thead>\n",
       "    <tr style=\"text-align: right;\">\n",
       "      <th></th>\n",
       "      <th>alpha</th>\n",
       "      <th>er_lasso_train</th>\n",
       "      <th>er_lasso_test</th>\n",
       "      <th>er_ridge_train</th>\n",
       "      <th>er_ridge_test</th>\n",
       "    </tr>\n",
       "  </thead>\n",
       "  <tbody>\n",
       "    <tr>\n",
       "      <th>0</th>\n",
       "      <td>0.000000e+00</td>\n",
       "      <td>0.509614</td>\n",
       "      <td>0.469633</td>\n",
       "      <td>0.509614</td>\n",
       "      <td>0.469633</td>\n",
       "    </tr>\n",
       "    <tr>\n",
       "      <th>1</th>\n",
       "      <td>1.000000e-07</td>\n",
       "      <td>0.509618</td>\n",
       "      <td>0.469623</td>\n",
       "      <td>0.509615</td>\n",
       "      <td>0.469633</td>\n",
       "    </tr>\n",
       "    <tr>\n",
       "      <th>2</th>\n",
       "      <td>1.000000e-06</td>\n",
       "      <td>0.509650</td>\n",
       "      <td>0.469534</td>\n",
       "      <td>0.509615</td>\n",
       "      <td>0.469631</td>\n",
       "    </tr>\n",
       "    <tr>\n",
       "      <th>3</th>\n",
       "      <td>1.000000e-05</td>\n",
       "      <td>0.510083</td>\n",
       "      <td>0.468886</td>\n",
       "      <td>0.509623</td>\n",
       "      <td>0.469609</td>\n",
       "    </tr>\n",
       "    <tr>\n",
       "      <th>4</th>\n",
       "      <td>1.000000e-05</td>\n",
       "      <td>0.510083</td>\n",
       "      <td>0.468886</td>\n",
       "      <td>0.509623</td>\n",
       "      <td>0.469609</td>\n",
       "    </tr>\n",
       "    <tr>\n",
       "      <th>5</th>\n",
       "      <td>1.000000e-04</td>\n",
       "      <td>0.510585</td>\n",
       "      <td>0.468677</td>\n",
       "      <td>0.509694</td>\n",
       "      <td>0.469417</td>\n",
       "    </tr>\n",
       "    <tr>\n",
       "      <th>6</th>\n",
       "      <td>1.000000e-03</td>\n",
       "      <td>0.511562</td>\n",
       "      <td>0.468830</td>\n",
       "      <td>0.510103</td>\n",
       "      <td>0.468879</td>\n",
       "    </tr>\n",
       "    <tr>\n",
       "      <th>7</th>\n",
       "      <td>1.000000e-02</td>\n",
       "      <td>0.520287</td>\n",
       "      <td>0.473648</td>\n",
       "      <td>0.510465</td>\n",
       "      <td>0.468728</td>\n",
       "    </tr>\n",
       "    <tr>\n",
       "      <th>8</th>\n",
       "      <td>1.000000e-02</td>\n",
       "      <td>0.520287</td>\n",
       "      <td>0.473648</td>\n",
       "      <td>0.510465</td>\n",
       "      <td>0.468728</td>\n",
       "    </tr>\n",
       "    <tr>\n",
       "      <th>9</th>\n",
       "      <td>1.000000e-01</td>\n",
       "      <td>0.569101</td>\n",
       "      <td>0.511414</td>\n",
       "      <td>0.510580</td>\n",
       "      <td>0.468638</td>\n",
       "    </tr>\n",
       "    <tr>\n",
       "      <th>10</th>\n",
       "      <td>1.000000e+00</td>\n",
       "      <td>0.664663</td>\n",
       "      <td>0.615918</td>\n",
       "      <td>0.511212</td>\n",
       "      <td>0.468506</td>\n",
       "    </tr>\n",
       "  </tbody>\n",
       "</table>\n",
       "</div>"
      ],
      "text/plain": [
       "           alpha  er_lasso_train  er_lasso_test  er_ridge_train  er_ridge_test\n",
       "0   0.000000e+00        0.509614       0.469633        0.509614       0.469633\n",
       "1   1.000000e-07        0.509618       0.469623        0.509615       0.469633\n",
       "2   1.000000e-06        0.509650       0.469534        0.509615       0.469631\n",
       "3   1.000000e-05        0.510083       0.468886        0.509623       0.469609\n",
       "4   1.000000e-05        0.510083       0.468886        0.509623       0.469609\n",
       "5   1.000000e-04        0.510585       0.468677        0.509694       0.469417\n",
       "6   1.000000e-03        0.511562       0.468830        0.510103       0.468879\n",
       "7   1.000000e-02        0.520287       0.473648        0.510465       0.468728\n",
       "8   1.000000e-02        0.520287       0.473648        0.510465       0.468728\n",
       "9   1.000000e-01        0.569101       0.511414        0.510580       0.468638\n",
       "10  1.000000e+00        0.664663       0.615918        0.511212       0.468506"
      ]
     },
     "execution_count": 70,
     "metadata": {},
     "output_type": "execute_result"
    }
   ],
   "source": [
    "erro_df"
   ]
  },
  {
   "cell_type": "code",
   "execution_count": 71,
   "metadata": {},
   "outputs": [
    {
     "data": {
      "image/png": "[encoded data removed]",
      "text/plain": [
       "<Figure size 864x144 with 2 Axes>"
      ]
     },
     "metadata": {
      "needs_background": "light"
     },
     "output_type": "display_data"
    }
   ],
   "source": [
    "fig = plt.figure(figsize = (12,2))\n",
    "ax = plt.subplot(1,2,1)\n",
    "plt.plot(erro_df['alpha'].values, erro_df['er_lasso_test'].values, label = 'Validation error')\n",
    "plt.plot(erro_df['alpha'].values, erro_df['er_lasso_train'].values, label = 'Training error')\n",
    "\n",
    "# plt.xlim(0,2)\n",
    "ax2 = plt.subplot(1,2,2)\n",
    "plt.plot(erro_df['alpha'].values, erro_df['er_ridge_test'].values, label = 'Validation error')\n",
    "plt.plot(erro_df['alpha'].values, erro_df['er_ridge_train'].values, label = 'Training error')\n",
    "\n",
    "# plt.xlim(0,100)\n",
    "\n",
    "ax.legend()\n",
    "ax2.legend()\n",
    "ax.title.set_text('Lasso')\n",
    "ax2.title.set_text('Ridge')\n",
    "ax.set_xlabel('alpha')\n",
    "ax.set_ylabel('MAE')\n",
    "ax2.set_xlabel('alpha')\n",
    "ax2.set_ylabel('MAE')\n",
    "\n",
    "ax.invert_xaxis()\n",
    "ax2.invert_xaxis()"
   ]
  },
  {
   "cell_type": "code",
   "execution_count": 72,
   "metadata": {},
   "outputs": [
    {
     "data": {
      "text/plain": [
       "Text(17.200000000000003, 0.5, 'MAE')"
      ]
     },
     "execution_count": 72,
     "metadata": {},
     "output_type": "execute_result"
    }
   ],
   "source": [
    "ax.set_xlabel('alpha')\n",
    "ax.set_ylabel('MAE')"
   ]
  },
  {
   "attachments": {
    "2f0c7920-c9fb-43f0-8f6f-62bcfb59993a.png": {
     "image/png": "[encoded data removed]"
    },
    "57099d73-56dc-4193-b36b-cdc316c0d7fe.png": {
     "image/png": "[encoded data removed]"
    },
    "66ce40df-52ae-4e18-a585-9b496b9386b3.png": {
     "image/png": "[encoded data removed]"
    },
    "99b36495-6857-470b-8026-ff06840f3225.png": {
     "image/png": "[encoded data removed]"
    }
   },
   "cell_type": "markdown",
   "metadata": {},
   "source": [
    "### Análisis y conclusiones finales de la PREGUNTA 2\n",
    "\n",
    "Se implementaron en una primera instancia 15 diferentes modelos derivados principalmente por la variación de valor para alfa, tanto para RIDGE como LASSO. Se encontró que a medida que alfa disminuía (menor regularización = mayor complejidad), menor era el error para los dos tipos de modelos. En la imagen presetanda para el análisis de este punto, la cual mostraba una curva de validación del error y error de entrenamiento respecto a la complejidad del modelo vs el error, no fue posible observar un comportamiento en donde existe un punto en el cual el error del conjunto training se reduce y de la validación se incrementa. El resultado obtenido y presentado en las siguientes figuras sugiere que la máxima complejidad (en términos de alfa) para RIDGE y LASSO, en este caso, da como resultado los mejores modelos. En cuestión del contexto de estos modelos en el que el alfa es cero o aproximado, implica que el mejor es aquel que tiene muy poca o una regularización nula, lo que en otras palabras también implica que los mejores modelos tienden a ser una simple regresión lineal.\n",
    "\n",
    "![image.png](attachment:2f0c7920-c9fb-43f0-8f6f-62bcfb59993a.png)\n",
    "\n",
    "Las anteriores gráficas presentan el error absoluto medio obtenido para 15 modelos derivados de evaluar diferentes alfas ([0.0001, 0.01, 0.1, 0.2, 0.5, 0.7, 1, 3, 5, 10, 20, 30, 60, 80, 1000]) (Ver In[56] de este notebook) y acotados a regiones de mayor interés, definidas como las regiones donde se encuentra un menor error conjunto para el conjunto de entrenamiento y el conjunto de prueba (train y test). De estos resultados se puede resaltar que a medida que el alfa tiende a cero (más complejo el modelo) se tienen menores errores tanto para la evaluación del modelo en el conjunto train como en el conjunto test. A continuación, se presentan gráficas buscando evaluar valores de alfa cercanos al cero ([0, 0.0000001, 0.000001, 0.00001, 0.00001, 0.0001, 0.001, 0.01, 0.01, 0.1, 1 ]) (Ver In[66] de este notebook).\n",
    "\n",
    "![image.png](attachment:66ce40df-52ae-4e18-a585-9b496b9386b3.png)\n",
    "\n",
    "Se encontró, de igual manera, que el error disminuye continuamente hasta llegar a un valor de alfa aproximado a cero. Con respecto a lo anterior, se entiende que el mejor alfa sería cero o muy cercano. Lo que implica que un modelo lineal puede ser mejor que uno que implique regularización de tipo RIDGE o LASSO.\n",
    "\n",
    "Adicionalmente, evaluando los modelos se evidenció un comportamiento importante derivado de la partición de los conjuntos test y train. Dependiendo de los registros seleccionados el comportamiento del modelo cambia con respecto a ambos sets de una manera que puede ser significativa como se presenta a continuación.\n",
    "\n",
    "![image.png](attachment:99b36495-6857-470b-8026-ff06840f3225.png)\n",
    "\n",
    "![image.png](attachment:57099d73-56dc-4193-b36b-cdc316c0d7fe.png)\n",
    "\n",
    "Básicamente, se evaluó en el método train_test_split() de sklearn el valor de random_state con 0 y 42. Los resultados de las gráficas inmediatamente anteriores se realizaron con random state = 0. Estos resultados implican que el modelo siempre se comporta mejor para el conjunto de validación con respecto al conjunto test lo que se traduce en que el modelo posiblemente no está bien ajustado (underfitting) y/o que estos modelos estan siendo afectado por el conjunto de datos que se seleccione para entrenar y validar, lo que incurre en generar incertidumbre con respecto de los resultados obtenidos, pues se entiende que existe una dependencia de los resultados dada por la partición de los mismos.  Esto anterior puede deberse a la cantidad de registros que se tiene disponible para la generación de los modelos. Métodos como crossvalidation  puede ser la forma en que se elimine esta incertidumbre sin tener que incrementar el número de registros."
   ]
  }
 ],
 "metadata": {
  "kernelspec": {
   "display_name": "Python 3",
   "language": "python",
   "name": "python3"
  },
  "language_info": {
   "codemirror_mode": {
    "name": "ipython",
    "version": 3
   },
   "file_extension": ".py",
   "mimetype": "text/x-python",
   "name": "python",
   "nbconvert_exporter": "python",
   "pygments_lexer": "ipython3",
   "version": "3.8.3"
  }
 },
 "nbformat": 4,
 "nbformat_minor": 4
}
