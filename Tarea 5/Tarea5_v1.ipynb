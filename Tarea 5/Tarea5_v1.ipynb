{
 "cells": [
  {
   "cell_type": "code",
   "execution_count": 109,
   "metadata": {},
   "outputs": [],
   "source": [
    "import pandas as pd  \n",
    "import numpy as np  \n",
    "import matplotlib.pyplot as plt  \n",
    "import seaborn as seabornInstance \n",
    "from sklearn.model_selection import train_test_split \n",
    "from sklearn.linear_model import LinearRegression\n",
    "from sklearn import metrics\n",
    "%matplotlib inline\n",
    "\n",
    "\n",
    "from sklearn import datasets, linear_model\n",
    "#import statsmodels.api as sm\n",
    "from scipy import stats\n",
    "from regressors import stats \n",
    "from sklearn.preprocessing import MinMaxScaler\n",
    "from sklearn.preprocessing import StandardScaler"
   ]
  },
  {
   "cell_type": "markdown",
   "metadata": {},
   "source": [
    "Se toman los datos del repositorio de github con el siguiente link https://github.com/andresenrique08/CDA_Project/blob/master/Tarea%205/Absenteeism_at_work.csv"
   ]
  },
  {
   "cell_type": "code",
   "execution_count": 119,
   "metadata": {},
   "outputs": [
    {
     "data": {
      "text/html": [
       "<div>\n",
       "<style scoped>\n",
       "    .dataframe tbody tr th:only-of-type {\n",
       "        vertical-align: middle;\n",
       "    }\n",
       "\n",
       "    .dataframe tbody tr th {\n",
       "        vertical-align: top;\n",
       "    }\n",
       "\n",
       "    .dataframe thead th {\n",
       "        text-align: right;\n",
       "    }\n",
       "</style>\n",
       "<table border=\"1\" class=\"dataframe\">\n",
       "  <thead>\n",
       "    <tr style=\"text-align: right;\">\n",
       "      <th></th>\n",
       "      <th>ID</th>\n",
       "      <th>Reason for absence</th>\n",
       "      <th>Month of absence</th>\n",
       "      <th>Day of the week</th>\n",
       "      <th>Seasons</th>\n",
       "      <th>Transportation expense</th>\n",
       "      <th>Distance from Residence to Work</th>\n",
       "      <th>Service time</th>\n",
       "      <th>Age</th>\n",
       "      <th>Work load Average/day</th>\n",
       "      <th>...</th>\n",
       "      <th>Disciplinary failure</th>\n",
       "      <th>Education</th>\n",
       "      <th>Son</th>\n",
       "      <th>Social drinker</th>\n",
       "      <th>Social smoker</th>\n",
       "      <th>Pet</th>\n",
       "      <th>Weight</th>\n",
       "      <th>Height</th>\n",
       "      <th>Body mass index</th>\n",
       "      <th>Absenteeism time in hours</th>\n",
       "    </tr>\n",
       "  </thead>\n",
       "  <tbody>\n",
       "    <tr>\n",
       "      <th>0</th>\n",
       "      <td>11</td>\n",
       "      <td>26</td>\n",
       "      <td>7</td>\n",
       "      <td>3</td>\n",
       "      <td>1</td>\n",
       "      <td>289</td>\n",
       "      <td>36</td>\n",
       "      <td>13</td>\n",
       "      <td>33</td>\n",
       "      <td>239.554</td>\n",
       "      <td>...</td>\n",
       "      <td>0</td>\n",
       "      <td>1</td>\n",
       "      <td>2</td>\n",
       "      <td>1</td>\n",
       "      <td>0</td>\n",
       "      <td>1</td>\n",
       "      <td>90</td>\n",
       "      <td>172</td>\n",
       "      <td>30</td>\n",
       "      <td>4</td>\n",
       "    </tr>\n",
       "    <tr>\n",
       "      <th>1</th>\n",
       "      <td>36</td>\n",
       "      <td>0</td>\n",
       "      <td>7</td>\n",
       "      <td>3</td>\n",
       "      <td>1</td>\n",
       "      <td>118</td>\n",
       "      <td>13</td>\n",
       "      <td>18</td>\n",
       "      <td>50</td>\n",
       "      <td>239.554</td>\n",
       "      <td>...</td>\n",
       "      <td>1</td>\n",
       "      <td>1</td>\n",
       "      <td>1</td>\n",
       "      <td>1</td>\n",
       "      <td>0</td>\n",
       "      <td>0</td>\n",
       "      <td>98</td>\n",
       "      <td>178</td>\n",
       "      <td>31</td>\n",
       "      <td>0</td>\n",
       "    </tr>\n",
       "    <tr>\n",
       "      <th>2</th>\n",
       "      <td>3</td>\n",
       "      <td>23</td>\n",
       "      <td>7</td>\n",
       "      <td>4</td>\n",
       "      <td>1</td>\n",
       "      <td>179</td>\n",
       "      <td>51</td>\n",
       "      <td>18</td>\n",
       "      <td>38</td>\n",
       "      <td>239.554</td>\n",
       "      <td>...</td>\n",
       "      <td>0</td>\n",
       "      <td>1</td>\n",
       "      <td>0</td>\n",
       "      <td>1</td>\n",
       "      <td>0</td>\n",
       "      <td>0</td>\n",
       "      <td>89</td>\n",
       "      <td>170</td>\n",
       "      <td>31</td>\n",
       "      <td>2</td>\n",
       "    </tr>\n",
       "    <tr>\n",
       "      <th>3</th>\n",
       "      <td>7</td>\n",
       "      <td>7</td>\n",
       "      <td>7</td>\n",
       "      <td>5</td>\n",
       "      <td>1</td>\n",
       "      <td>279</td>\n",
       "      <td>5</td>\n",
       "      <td>14</td>\n",
       "      <td>39</td>\n",
       "      <td>239.554</td>\n",
       "      <td>...</td>\n",
       "      <td>0</td>\n",
       "      <td>1</td>\n",
       "      <td>2</td>\n",
       "      <td>1</td>\n",
       "      <td>1</td>\n",
       "      <td>0</td>\n",
       "      <td>68</td>\n",
       "      <td>168</td>\n",
       "      <td>24</td>\n",
       "      <td>4</td>\n",
       "    </tr>\n",
       "    <tr>\n",
       "      <th>4</th>\n",
       "      <td>11</td>\n",
       "      <td>23</td>\n",
       "      <td>7</td>\n",
       "      <td>5</td>\n",
       "      <td>1</td>\n",
       "      <td>289</td>\n",
       "      <td>36</td>\n",
       "      <td>13</td>\n",
       "      <td>33</td>\n",
       "      <td>239.554</td>\n",
       "      <td>...</td>\n",
       "      <td>0</td>\n",
       "      <td>1</td>\n",
       "      <td>2</td>\n",
       "      <td>1</td>\n",
       "      <td>0</td>\n",
       "      <td>1</td>\n",
       "      <td>90</td>\n",
       "      <td>172</td>\n",
       "      <td>30</td>\n",
       "      <td>2</td>\n",
       "    </tr>\n",
       "  </tbody>\n",
       "</table>\n",
       "<p>5 rows × 21 columns</p>\n",
       "</div>"
      ],
      "text/plain": [
       "   ID  Reason for absence  Month of absence  Day of the week  Seasons  \\\n",
       "0  11                  26                 7                3        1   \n",
       "1  36                   0                 7                3        1   \n",
       "2   3                  23                 7                4        1   \n",
       "3   7                   7                 7                5        1   \n",
       "4  11                  23                 7                5        1   \n",
       "\n",
       "   Transportation expense  Distance from Residence to Work  Service time  Age  \\\n",
       "0                     289                               36            13   33   \n",
       "1                     118                               13            18   50   \n",
       "2                     179                               51            18   38   \n",
       "3                     279                                5            14   39   \n",
       "4                     289                               36            13   33   \n",
       "\n",
       "   Work load Average/day   ...  Disciplinary failure  Education  Son  \\\n",
       "0                 239.554  ...                     0          1    2   \n",
       "1                 239.554  ...                     1          1    1   \n",
       "2                 239.554  ...                     0          1    0   \n",
       "3                 239.554  ...                     0          1    2   \n",
       "4                 239.554  ...                     0          1    2   \n",
       "\n",
       "   Social drinker  Social smoker  Pet  Weight  Height  Body mass index  \\\n",
       "0               1              0    1      90     172               30   \n",
       "1               1              0    0      98     178               31   \n",
       "2               1              0    0      89     170               31   \n",
       "3               1              1    0      68     168               24   \n",
       "4               1              0    1      90     172               30   \n",
       "\n",
       "   Absenteeism time in hours  \n",
       "0                          4  \n",
       "1                          0  \n",
       "2                          2  \n",
       "3                          4  \n",
       "4                          2  \n",
       "\n",
       "[5 rows x 21 columns]"
      ]
     },
     "execution_count": 119,
     "metadata": {},
     "output_type": "execute_result"
    }
   ],
   "source": [
    "# Reading file from github\n",
    "url = \"https://raw.githubusercontent.com/andresenrique08/CDA_Project/master/Tarea%205/Absenteeism_at_work.csv\"\n",
    "data  = pd.read_csv(url, sep=\";\")\n",
    "data.head()"
   ]
  },
  {
   "cell_type": "code",
   "execution_count": 120,
   "metadata": {},
   "outputs": [
    {
     "data": {
      "text/plain": [
       "ID                                   int64\n",
       "Reason for absence                   int64\n",
       "Month of absence                     int64\n",
       "Day of the week                      int64\n",
       "Seasons                              int64\n",
       "Transportation expense               int64\n",
       "Distance from Residence to Work      int64\n",
       "Service time                         int64\n",
       "Age                                  int64\n",
       "Work load Average/day              float64\n",
       "Hit target                           int64\n",
       "Disciplinary failure                 int64\n",
       "Education                            int64\n",
       "Son                                  int64\n",
       "Social drinker                       int64\n",
       "Social smoker                        int64\n",
       "Pet                                  int64\n",
       "Weight                               int64\n",
       "Height                               int64\n",
       "Body mass index                      int64\n",
       "Absenteeism time in hours            int64\n",
       "dtype: object"
      ]
     },
     "execution_count": 120,
     "metadata": {},
     "output_type": "execute_result"
    }
   ],
   "source": [
    "data.dtypes"
   ]
  },
  {
   "cell_type": "code",
   "execution_count": 117,
   "metadata": {},
   "outputs": [
    {
     "data": {
      "text/plain": [
       "array([1, 4, 2, 3], dtype=int64)"
      ]
     },
     "execution_count": 117,
     "metadata": {},
     "output_type": "execute_result"
    }
   ],
   "source": [
    "data.Seasons.unique()"
   ]
  },
  {
   "cell_type": "code",
   "execution_count": null,
   "metadata": {},
   "outputs": [],
   "source": [
    "data.Seasons.unique()"
   ]
  },
  {
   "cell_type": "code",
   "execution_count": 118,
   "metadata": {},
   "outputs": [
    {
     "data": {
      "text/plain": [
       "Reason for absence                -0.173116\n",
       "Month of absence                   0.024345\n",
       "Day of the week                   -0.124361\n",
       "Seasons                           -0.005615\n",
       "Transportation expense             0.027585\n",
       "Distance from Residence to Work   -0.088363\n",
       "Service time                       0.019029\n",
       "Age                                0.065760\n",
       "Work load Average/day              0.024749\n",
       "Hit target                         0.026695\n",
       "Disciplinary failure              -0.124248\n",
       "Education                         -0.046235\n",
       "Son                                0.113756\n",
       "Social drinker                     0.065067\n",
       "Social smoker                     -0.008936\n",
       "Pet                               -0.028277\n",
       "Weight                             0.015789\n",
       "Height                             0.144420\n",
       "Body mass index                   -0.049719\n",
       "Absenteeism time in hours          1.000000\n",
       "Name: Absenteeism time in hours, dtype: float64"
      ]
     },
     "execution_count": 118,
     "metadata": {},
     "output_type": "execute_result"
    }
   ],
   "source": [
    "data[data.columns[1:]].corr()['Absenteeism time in hours'][:]"
   ]
  },
  {
   "cell_type": "code",
   "execution_count": 7,
   "metadata": {},
   "outputs": [
    {
     "data": {
      "text/plain": [
       "(740, 21)"
      ]
     },
     "execution_count": 7,
     "metadata": {},
     "output_type": "execute_result"
    }
   ],
   "source": [
    "#Tamaño del dataframe\n",
    "data.shape"
   ]
  },
  {
   "cell_type": "code",
   "execution_count": 8,
   "metadata": {},
   "outputs": [],
   "source": [
    "def missing_values_table(df): \n",
    "        val_per = df.isnull().sum()\n",
    "        porcentaje_val_per = 100 * df.isnull().sum()/len(df)\n",
    "        tabla_val_per = pd.concat([val_per, porcentaje_val_per], axis=1)\n",
    "        tabla_val_per_ren_columnas = tabla_val_per.rename(\n",
    "        columns = {0 : 'Valores perdidos', 1 : '% sobre el total'})\n",
    "        return tabla_val_per_ren_columnas "
   ]
  },
  {
   "cell_type": "code",
   "execution_count": 9,
   "metadata": {},
   "outputs": [
    {
     "data": {
      "text/html": [
       "<div>\n",
       "<style scoped>\n",
       "    .dataframe tbody tr th:only-of-type {\n",
       "        vertical-align: middle;\n",
       "    }\n",
       "\n",
       "    .dataframe tbody tr th {\n",
       "        vertical-align: top;\n",
       "    }\n",
       "\n",
       "    .dataframe thead th {\n",
       "        text-align: right;\n",
       "    }\n",
       "</style>\n",
       "<table border=\"1\" class=\"dataframe\">\n",
       "  <thead>\n",
       "    <tr style=\"text-align: right;\">\n",
       "      <th></th>\n",
       "      <th>Valores perdidos</th>\n",
       "      <th>% sobre el total</th>\n",
       "    </tr>\n",
       "  </thead>\n",
       "  <tbody>\n",
       "    <tr>\n",
       "      <th>ID</th>\n",
       "      <td>0</td>\n",
       "      <td>0.0</td>\n",
       "    </tr>\n",
       "    <tr>\n",
       "      <th>Reason for absence</th>\n",
       "      <td>0</td>\n",
       "      <td>0.0</td>\n",
       "    </tr>\n",
       "    <tr>\n",
       "      <th>Month of absence</th>\n",
       "      <td>0</td>\n",
       "      <td>0.0</td>\n",
       "    </tr>\n",
       "    <tr>\n",
       "      <th>Day of the week</th>\n",
       "      <td>0</td>\n",
       "      <td>0.0</td>\n",
       "    </tr>\n",
       "    <tr>\n",
       "      <th>Seasons</th>\n",
       "      <td>0</td>\n",
       "      <td>0.0</td>\n",
       "    </tr>\n",
       "    <tr>\n",
       "      <th>Transportation expense</th>\n",
       "      <td>0</td>\n",
       "      <td>0.0</td>\n",
       "    </tr>\n",
       "    <tr>\n",
       "      <th>Distance from Residence to Work</th>\n",
       "      <td>0</td>\n",
       "      <td>0.0</td>\n",
       "    </tr>\n",
       "    <tr>\n",
       "      <th>Service time</th>\n",
       "      <td>0</td>\n",
       "      <td>0.0</td>\n",
       "    </tr>\n",
       "    <tr>\n",
       "      <th>Age</th>\n",
       "      <td>0</td>\n",
       "      <td>0.0</td>\n",
       "    </tr>\n",
       "    <tr>\n",
       "      <th>Work load Average/day</th>\n",
       "      <td>0</td>\n",
       "      <td>0.0</td>\n",
       "    </tr>\n",
       "    <tr>\n",
       "      <th>Hit target</th>\n",
       "      <td>0</td>\n",
       "      <td>0.0</td>\n",
       "    </tr>\n",
       "    <tr>\n",
       "      <th>Disciplinary failure</th>\n",
       "      <td>0</td>\n",
       "      <td>0.0</td>\n",
       "    </tr>\n",
       "    <tr>\n",
       "      <th>Education</th>\n",
       "      <td>0</td>\n",
       "      <td>0.0</td>\n",
       "    </tr>\n",
       "    <tr>\n",
       "      <th>Son</th>\n",
       "      <td>0</td>\n",
       "      <td>0.0</td>\n",
       "    </tr>\n",
       "    <tr>\n",
       "      <th>Social drinker</th>\n",
       "      <td>0</td>\n",
       "      <td>0.0</td>\n",
       "    </tr>\n",
       "    <tr>\n",
       "      <th>Social smoker</th>\n",
       "      <td>0</td>\n",
       "      <td>0.0</td>\n",
       "    </tr>\n",
       "    <tr>\n",
       "      <th>Pet</th>\n",
       "      <td>0</td>\n",
       "      <td>0.0</td>\n",
       "    </tr>\n",
       "    <tr>\n",
       "      <th>Weight</th>\n",
       "      <td>0</td>\n",
       "      <td>0.0</td>\n",
       "    </tr>\n",
       "    <tr>\n",
       "      <th>Height</th>\n",
       "      <td>0</td>\n",
       "      <td>0.0</td>\n",
       "    </tr>\n",
       "    <tr>\n",
       "      <th>Body mass index</th>\n",
       "      <td>0</td>\n",
       "      <td>0.0</td>\n",
       "    </tr>\n",
       "    <tr>\n",
       "      <th>Absenteeism time in hours</th>\n",
       "      <td>0</td>\n",
       "      <td>0.0</td>\n",
       "    </tr>\n",
       "  </tbody>\n",
       "</table>\n",
       "</div>"
      ],
      "text/plain": [
       "                                 Valores perdidos  % sobre el total\n",
       "ID                                              0               0.0\n",
       "Reason for absence                              0               0.0\n",
       "Month of absence                                0               0.0\n",
       "Day of the week                                 0               0.0\n",
       "Seasons                                         0               0.0\n",
       "Transportation expense                          0               0.0\n",
       "Distance from Residence to Work                 0               0.0\n",
       "Service time                                    0               0.0\n",
       "Age                                             0               0.0\n",
       "Work load Average/day                           0               0.0\n",
       "Hit target                                      0               0.0\n",
       "Disciplinary failure                            0               0.0\n",
       "Education                                       0               0.0\n",
       "Son                                             0               0.0\n",
       "Social drinker                                  0               0.0\n",
       "Social smoker                                   0               0.0\n",
       "Pet                                             0               0.0\n",
       "Weight                                          0               0.0\n",
       "Height                                          0               0.0\n",
       "Body mass index                                 0               0.0\n",
       "Absenteeism time in hours                       0               0.0"
      ]
     },
     "execution_count": 9,
     "metadata": {},
     "output_type": "execute_result"
    }
   ],
   "source": [
    "missing_values_table(data)"
   ]
  },
  {
   "cell_type": "code",
   "execution_count": 10,
   "metadata": {},
   "outputs": [],
   "source": [
    "data = data.drop(columns=['ID','Seasons'],axis=1)"
   ]
  },
  {
   "cell_type": "markdown",
   "metadata": {},
   "source": [
    "## Solo verificando que no hay datos nulos "
   ]
  },
  {
   "cell_type": "code",
   "execution_count": 11,
   "metadata": {},
   "outputs": [],
   "source": [
    "X = data.drop(['Absenteeism time in hours'], axis=1)\n",
    "Y = data['Absenteeism time in hours']"
   ]
  },
  {
   "cell_type": "code",
   "execution_count": 81,
   "metadata": {},
   "outputs": [
    {
     "data": {
      "text/plain": [
       "((583, 18), (157, 18))"
      ]
     },
     "execution_count": 81,
     "metadata": {},
     "output_type": "execute_result"
    }
   ],
   "source": [
    "X_train, X_test, y_train, y_test = train_test_split(X, Y, test_size = 0.211, random_state = 0)\n",
    "# Comparación de tamaños\n",
    "X_train.shape, X_test.shape"
   ]
  },
  {
   "cell_type": "code",
   "execution_count": 82,
   "metadata": {},
   "outputs": [
    {
     "data": {
      "text/plain": [
       "LinearRegression()"
      ]
     },
     "execution_count": 82,
     "metadata": {},
     "output_type": "execute_result"
    }
   ],
   "source": [
    "regressor = LinearRegression()  \n",
    "regressor.fit(X_train, y_train) #training the algorithm"
   ]
  },
  {
   "cell_type": "code",
   "execution_count": 83,
   "metadata": {},
   "outputs": [
    {
     "name": "stdout",
     "output_type": "stream",
     "text": [
      "17.65987960570616\n"
     ]
    }
   ],
   "source": [
    "#To retrieve the intercept:\n",
    "print(regressor.intercept_)"
   ]
  },
  {
   "cell_type": "code",
   "execution_count": 84,
   "metadata": {},
   "outputs": [
    {
     "data": {
      "text/html": [
       "<div>\n",
       "<style scoped>\n",
       "    .dataframe tbody tr th:only-of-type {\n",
       "        vertical-align: middle;\n",
       "    }\n",
       "\n",
       "    .dataframe tbody tr th {\n",
       "        vertical-align: top;\n",
       "    }\n",
       "\n",
       "    .dataframe thead th {\n",
       "        text-align: right;\n",
       "    }\n",
       "</style>\n",
       "<table border=\"1\" class=\"dataframe\">\n",
       "  <thead>\n",
       "    <tr style=\"text-align: right;\">\n",
       "      <th></th>\n",
       "      <th>0</th>\n",
       "      <th>1</th>\n",
       "    </tr>\n",
       "  </thead>\n",
       "  <tbody>\n",
       "    <tr>\n",
       "      <th>0</th>\n",
       "      <td>Reason for absence</td>\n",
       "      <td>-0.525496</td>\n",
       "    </tr>\n",
       "    <tr>\n",
       "      <th>1</th>\n",
       "      <td>Month of absence</td>\n",
       "      <td>0.137831</td>\n",
       "    </tr>\n",
       "    <tr>\n",
       "      <th>2</th>\n",
       "      <td>Day of the week</td>\n",
       "      <td>-1.235763</td>\n",
       "    </tr>\n",
       "    <tr>\n",
       "      <th>3</th>\n",
       "      <td>Transportation expense</td>\n",
       "      <td>0.001598</td>\n",
       "    </tr>\n",
       "    <tr>\n",
       "      <th>4</th>\n",
       "      <td>Distance from Residence to Work</td>\n",
       "      <td>-0.004205</td>\n",
       "    </tr>\n",
       "    <tr>\n",
       "      <th>5</th>\n",
       "      <td>Service time</td>\n",
       "      <td>0.023606</td>\n",
       "    </tr>\n",
       "    <tr>\n",
       "      <th>6</th>\n",
       "      <td>Age</td>\n",
       "      <td>0.251719</td>\n",
       "    </tr>\n",
       "    <tr>\n",
       "      <th>7</th>\n",
       "      <td>Work load Average/day</td>\n",
       "      <td>-0.012891</td>\n",
       "    </tr>\n",
       "    <tr>\n",
       "      <th>8</th>\n",
       "      <td>Hit target</td>\n",
       "      <td>0.188198</td>\n",
       "    </tr>\n",
       "    <tr>\n",
       "      <th>9</th>\n",
       "      <td>Disciplinary failure</td>\n",
       "      <td>-17.741724</td>\n",
       "    </tr>\n",
       "    <tr>\n",
       "      <th>10</th>\n",
       "      <td>Education</td>\n",
       "      <td>-1.836744</td>\n",
       "    </tr>\n",
       "    <tr>\n",
       "      <th>11</th>\n",
       "      <td>Son</td>\n",
       "      <td>1.467812</td>\n",
       "    </tr>\n",
       "    <tr>\n",
       "      <th>12</th>\n",
       "      <td>Social drinker</td>\n",
       "      <td>0.918499</td>\n",
       "    </tr>\n",
       "    <tr>\n",
       "      <th>13</th>\n",
       "      <td>Social smoker</td>\n",
       "      <td>-4.455785</td>\n",
       "    </tr>\n",
       "    <tr>\n",
       "      <th>14</th>\n",
       "      <td>Pet</td>\n",
       "      <td>-0.287513</td>\n",
       "    </tr>\n",
       "    <tr>\n",
       "      <th>15</th>\n",
       "      <td>Weight</td>\n",
       "      <td>0.262716</td>\n",
       "    </tr>\n",
       "    <tr>\n",
       "      <th>16</th>\n",
       "      <td>Height</td>\n",
       "      <td>-0.040791</td>\n",
       "    </tr>\n",
       "    <tr>\n",
       "      <th>17</th>\n",
       "      <td>Body mass index</td>\n",
       "      <td>-1.217205</td>\n",
       "    </tr>\n",
       "  </tbody>\n",
       "</table>\n",
       "</div>"
      ],
      "text/plain": [
       "                                  0          1\n",
       "0                Reason for absence  -0.525496\n",
       "1                  Month of absence   0.137831\n",
       "2                   Day of the week  -1.235763\n",
       "3            Transportation expense   0.001598\n",
       "4   Distance from Residence to Work  -0.004205\n",
       "5                      Service time   0.023606\n",
       "6                               Age   0.251719\n",
       "7            Work load Average/day   -0.012891\n",
       "8                        Hit target   0.188198\n",
       "9              Disciplinary failure -17.741724\n",
       "10                        Education  -1.836744\n",
       "11                              Son   1.467812\n",
       "12                   Social drinker   0.918499\n",
       "13                    Social smoker  -4.455785\n",
       "14                              Pet  -0.287513\n",
       "15                           Weight   0.262716\n",
       "16                           Height  -0.040791\n",
       "17                  Body mass index  -1.217205"
      ]
     },
     "execution_count": 84,
     "metadata": {},
     "output_type": "execute_result"
    }
   ],
   "source": [
    "coeff_df = pd.DataFrame(zip(X.columns,regressor.coef_))  \n",
    "coeff_df"
   ]
  },
  {
   "cell_type": "code",
   "execution_count": 86,
   "metadata": {},
   "outputs": [],
   "source": [
    "y_pred = regressor.predict(X_test)"
   ]
  },
  {
   "cell_type": "code",
   "execution_count": 87,
   "metadata": {},
   "outputs": [
    {
     "name": "stdout",
     "output_type": "stream",
     "text": [
      "Mean Absolute Error: 6.340333921253845\n",
      "Mean Squared Error: 111.64939831725496\n",
      "Root Mean Squared Error: 10.566427888234271\n",
      "R^2: 0.05353685878468972\n"
     ]
    }
   ],
   "source": [
    "print('Mean Absolute Error:', metrics.mean_absolute_error(y_test, y_pred))  \n",
    "print('Mean Squared Error:', metrics.mean_squared_error(y_test, y_pred))  \n",
    "print('Root Mean Squared Error:', np.sqrt(metrics.mean_squared_error(y_test, y_pred)))\n",
    "print('R^2:', metrics.r2_score(y_test, y_pred))"
   ]
  },
  {
   "cell_type": "code",
   "execution_count": 110,
   "metadata": {
    "scrolled": true
   },
   "outputs": [
    {
     "name": "stdout",
     "output_type": "stream",
     "text": [
      "\n",
      "=========== SUMMARY ===========\n",
      "Residuals:\n",
      "    Min      1Q  Median       3Q      Max\n",
      "-6.8148  2.9129  6.0112  10.1106  26.4681\n",
      "\n",
      "\n",
      "Coefficients:\n",
      "                                  Estimate  Std. Error  t value   p value\n",
      "_intercept                       17.659880   83.979365   0.2103  0.833516\n",
      "Reason for absence               -0.525496    0.066649  -7.8846  0.000000\n",
      "Month of absence                  0.137831    0.166804   0.8263  0.408969\n",
      "Day of the week                  -1.235763    0.384775  -3.2117  0.001393\n",
      "Transportation expense            0.001598    0.006961   0.2296  0.818489\n",
      "Distance from Residence to Work  -0.004205    0.039876  -0.1055  0.916048\n",
      "Service time                      0.023606    0.193884   0.1218  0.903137\n",
      "Age                               0.251719    0.110276   2.2826  0.022812\n",
      "Work load Average/day            -0.012891    0.009859  -1.3075  0.191575\n",
      "Hit target                        0.188198    0.127284   1.4786  0.139797\n",
      "Disciplinary failure            -17.741724    2.944269  -6.0259  0.000000\n",
      "Education                        -1.836744    0.944178  -1.9453  0.052216\n",
      "Son                               1.467812    0.580011   2.5307  0.011647\n",
      "Social drinker                    0.918499    1.693875   0.5422  0.587856\n",
      "Social smoker                    -4.455785    2.302333  -1.9353  0.053433\n",
      "Pet                              -0.287513    0.494033  -0.5820  0.560811\n",
      "Weight                            0.262716    0.089722   2.9281  0.003543\n",
      "Height                           -0.040791    0.064634  -0.6311  0.528220\n",
      "Body mass index                  -1.217205    0.458119  -2.6570  0.008101\n",
      "---\n",
      "R-squared:  0.16037,    Adjusted R-squared:  0.13357\n",
      "F-statistic: 5.98 on 18 features\n"
     ]
    }
   ],
   "source": [
    "print(\"\\n=========== SUMMARY ===========\")\n",
    "stats.summary(regressor, X_train, y_train, X.columns)"
   ]
  },
  {
   "cell_type": "markdown",
   "metadata": {},
   "source": [
    "## Nuevos ajustes a los datos"
   ]
  },
  {
   "cell_type": "markdown",
   "metadata": {},
   "source": [
    "### Con minmax"
   ]
  },
  {
   "cell_type": "code",
   "execution_count": 90,
   "metadata": {},
   "outputs": [
    {
     "data": {
      "text/html": [
       "<div>\n",
       "<style scoped>\n",
       "    .dataframe tbody tr th:only-of-type {\n",
       "        vertical-align: middle;\n",
       "    }\n",
       "\n",
       "    .dataframe tbody tr th {\n",
       "        vertical-align: top;\n",
       "    }\n",
       "\n",
       "    .dataframe thead th {\n",
       "        text-align: right;\n",
       "    }\n",
       "</style>\n",
       "<table border=\"1\" class=\"dataframe\">\n",
       "  <thead>\n",
       "    <tr style=\"text-align: right;\">\n",
       "      <th></th>\n",
       "      <th>Reason for absence</th>\n",
       "      <th>Month of absence</th>\n",
       "      <th>Day of the week</th>\n",
       "      <th>Transportation expense</th>\n",
       "      <th>Distance from Residence to Work</th>\n",
       "      <th>Service time</th>\n",
       "      <th>Age</th>\n",
       "      <th>Work load Average/day</th>\n",
       "      <th>Hit target</th>\n",
       "      <th>Disciplinary failure</th>\n",
       "      <th>Education</th>\n",
       "      <th>Son</th>\n",
       "      <th>Social drinker</th>\n",
       "      <th>Social smoker</th>\n",
       "      <th>Pet</th>\n",
       "      <th>Weight</th>\n",
       "      <th>Height</th>\n",
       "      <th>Body mass index</th>\n",
       "      <th>Absenteeism time in hours</th>\n",
       "    </tr>\n",
       "  </thead>\n",
       "  <tbody>\n",
       "    <tr>\n",
       "      <th>0</th>\n",
       "      <td>0.928571</td>\n",
       "      <td>0.583333</td>\n",
       "      <td>0.25</td>\n",
       "      <td>0.633333</td>\n",
       "      <td>0.659574</td>\n",
       "      <td>0.428571</td>\n",
       "      <td>0.193548</td>\n",
       "      <td>0.194471</td>\n",
       "      <td>0.842105</td>\n",
       "      <td>0.0</td>\n",
       "      <td>0.0</td>\n",
       "      <td>0.50</td>\n",
       "      <td>1.0</td>\n",
       "      <td>0.0</td>\n",
       "      <td>0.125</td>\n",
       "      <td>0.653846</td>\n",
       "      <td>0.272727</td>\n",
       "      <td>0.578947</td>\n",
       "      <td>0.033333</td>\n",
       "    </tr>\n",
       "    <tr>\n",
       "      <th>1</th>\n",
       "      <td>0.000000</td>\n",
       "      <td>0.583333</td>\n",
       "      <td>0.25</td>\n",
       "      <td>0.000000</td>\n",
       "      <td>0.170213</td>\n",
       "      <td>0.607143</td>\n",
       "      <td>0.741935</td>\n",
       "      <td>0.194471</td>\n",
       "      <td>0.842105</td>\n",
       "      <td>1.0</td>\n",
       "      <td>0.0</td>\n",
       "      <td>0.25</td>\n",
       "      <td>1.0</td>\n",
       "      <td>0.0</td>\n",
       "      <td>0.000</td>\n",
       "      <td>0.807692</td>\n",
       "      <td>0.454545</td>\n",
       "      <td>0.631579</td>\n",
       "      <td>0.000000</td>\n",
       "    </tr>\n",
       "    <tr>\n",
       "      <th>2</th>\n",
       "      <td>0.821429</td>\n",
       "      <td>0.583333</td>\n",
       "      <td>0.50</td>\n",
       "      <td>0.225926</td>\n",
       "      <td>0.978723</td>\n",
       "      <td>0.607143</td>\n",
       "      <td>0.354839</td>\n",
       "      <td>0.194471</td>\n",
       "      <td>0.842105</td>\n",
       "      <td>0.0</td>\n",
       "      <td>0.0</td>\n",
       "      <td>0.00</td>\n",
       "      <td>1.0</td>\n",
       "      <td>0.0</td>\n",
       "      <td>0.000</td>\n",
       "      <td>0.634615</td>\n",
       "      <td>0.212121</td>\n",
       "      <td>0.631579</td>\n",
       "      <td>0.016667</td>\n",
       "    </tr>\n",
       "    <tr>\n",
       "      <th>3</th>\n",
       "      <td>0.250000</td>\n",
       "      <td>0.583333</td>\n",
       "      <td>0.75</td>\n",
       "      <td>0.596296</td>\n",
       "      <td>0.000000</td>\n",
       "      <td>0.464286</td>\n",
       "      <td>0.387097</td>\n",
       "      <td>0.194471</td>\n",
       "      <td>0.842105</td>\n",
       "      <td>0.0</td>\n",
       "      <td>0.0</td>\n",
       "      <td>0.50</td>\n",
       "      <td>1.0</td>\n",
       "      <td>1.0</td>\n",
       "      <td>0.000</td>\n",
       "      <td>0.230769</td>\n",
       "      <td>0.151515</td>\n",
       "      <td>0.263158</td>\n",
       "      <td>0.033333</td>\n",
       "    </tr>\n",
       "    <tr>\n",
       "      <th>4</th>\n",
       "      <td>0.821429</td>\n",
       "      <td>0.583333</td>\n",
       "      <td>0.75</td>\n",
       "      <td>0.633333</td>\n",
       "      <td>0.659574</td>\n",
       "      <td>0.428571</td>\n",
       "      <td>0.193548</td>\n",
       "      <td>0.194471</td>\n",
       "      <td>0.842105</td>\n",
       "      <td>0.0</td>\n",
       "      <td>0.0</td>\n",
       "      <td>0.50</td>\n",
       "      <td>1.0</td>\n",
       "      <td>0.0</td>\n",
       "      <td>0.125</td>\n",
       "      <td>0.653846</td>\n",
       "      <td>0.272727</td>\n",
       "      <td>0.578947</td>\n",
       "      <td>0.016667</td>\n",
       "    </tr>\n",
       "  </tbody>\n",
       "</table>\n",
       "</div>"
      ],
      "text/plain": [
       "   Reason for absence  Month of absence  Day of the week  \\\n",
       "0            0.928571          0.583333             0.25   \n",
       "1            0.000000          0.583333             0.25   \n",
       "2            0.821429          0.583333             0.50   \n",
       "3            0.250000          0.583333             0.75   \n",
       "4            0.821429          0.583333             0.75   \n",
       "\n",
       "   Transportation expense  Distance from Residence to Work  Service time  \\\n",
       "0                0.633333                         0.659574      0.428571   \n",
       "1                0.000000                         0.170213      0.607143   \n",
       "2                0.225926                         0.978723      0.607143   \n",
       "3                0.596296                         0.000000      0.464286   \n",
       "4                0.633333                         0.659574      0.428571   \n",
       "\n",
       "        Age  Work load Average/day   Hit target  Disciplinary failure  \\\n",
       "0  0.193548                0.194471    0.842105                   0.0   \n",
       "1  0.741935                0.194471    0.842105                   1.0   \n",
       "2  0.354839                0.194471    0.842105                   0.0   \n",
       "3  0.387097                0.194471    0.842105                   0.0   \n",
       "4  0.193548                0.194471    0.842105                   0.0   \n",
       "\n",
       "   Education   Son  Social drinker  Social smoker    Pet    Weight    Height  \\\n",
       "0        0.0  0.50             1.0            0.0  0.125  0.653846  0.272727   \n",
       "1        0.0  0.25             1.0            0.0  0.000  0.807692  0.454545   \n",
       "2        0.0  0.00             1.0            0.0  0.000  0.634615  0.212121   \n",
       "3        0.0  0.50             1.0            1.0  0.000  0.230769  0.151515   \n",
       "4        0.0  0.50             1.0            0.0  0.125  0.653846  0.272727   \n",
       "\n",
       "   Body mass index  Absenteeism time in hours  \n",
       "0         0.578947                   0.033333  \n",
       "1         0.631579                   0.000000  \n",
       "2         0.631579                   0.016667  \n",
       "3         0.263158                   0.033333  \n",
       "4         0.578947                   0.016667  "
      ]
     },
     "execution_count": 90,
     "metadata": {},
     "output_type": "execute_result"
    }
   ],
   "source": [
    "# Se usa el minmaxscaler\n",
    "scaler_minmax = MinMaxScaler()\n",
    "data_minmax = pd.DataFrame(scaler_minmax.fit_transform(data), columns = data.columns) \n",
    "data_minmax.head()"
   ]
  },
  {
   "cell_type": "code",
   "execution_count": 93,
   "metadata": {},
   "outputs": [],
   "source": [
    "X_minmax = data_minmax.drop(['Absenteeism time in hours'], axis=1)\n",
    "Y_minmax= data_minmax['Absenteeism time in hours']"
   ]
  },
  {
   "cell_type": "code",
   "execution_count": 94,
   "metadata": {
    "scrolled": true
   },
   "outputs": [
    {
     "data": {
      "text/plain": [
       "((583, 18), (157, 18))"
      ]
     },
     "execution_count": 94,
     "metadata": {},
     "output_type": "execute_result"
    }
   ],
   "source": [
    "X_train_minmax, X_test_minmax, y_train_minmax, y_test_minmax = train_test_split(X_minmax, Y_minmax, test_size = 0.211, random_state = 0)\n",
    "# Comparación de tamaños\n",
    "X_train_minmax.shape, X_test_minmax.shape"
   ]
  },
  {
   "cell_type": "code",
   "execution_count": 95,
   "metadata": {},
   "outputs": [
    {
     "data": {
      "text/plain": [
       "LinearRegression()"
      ]
     },
     "execution_count": 95,
     "metadata": {},
     "output_type": "execute_result"
    }
   ],
   "source": [
    "regressor_minmax = LinearRegression()  \n",
    "regressor_minmax.fit(X_train_minmax, y_train_minmax) #training the algorithm"
   ]
  },
  {
   "cell_type": "code",
   "execution_count": 96,
   "metadata": {},
   "outputs": [
    {
     "name": "stdout",
     "output_type": "stream",
     "text": [
      "0.14887664101070933\n"
     ]
    }
   ],
   "source": [
    "#To retrieve the intercept:\n",
    "print(regressor_minmax.intercept_)"
   ]
  },
  {
   "cell_type": "code",
   "execution_count": 97,
   "metadata": {},
   "outputs": [
    {
     "data": {
      "text/html": [
       "<div>\n",
       "<style scoped>\n",
       "    .dataframe tbody tr th:only-of-type {\n",
       "        vertical-align: middle;\n",
       "    }\n",
       "\n",
       "    .dataframe tbody tr th {\n",
       "        vertical-align: top;\n",
       "    }\n",
       "\n",
       "    .dataframe thead th {\n",
       "        text-align: right;\n",
       "    }\n",
       "</style>\n",
       "<table border=\"1\" class=\"dataframe\">\n",
       "  <thead>\n",
       "    <tr style=\"text-align: right;\">\n",
       "      <th></th>\n",
       "      <th>0</th>\n",
       "      <th>1</th>\n",
       "    </tr>\n",
       "  </thead>\n",
       "  <tbody>\n",
       "    <tr>\n",
       "      <th>0</th>\n",
       "      <td>Reason for absence</td>\n",
       "      <td>-0.122616</td>\n",
       "    </tr>\n",
       "    <tr>\n",
       "      <th>1</th>\n",
       "      <td>Month of absence</td>\n",
       "      <td>0.013783</td>\n",
       "    </tr>\n",
       "    <tr>\n",
       "      <th>2</th>\n",
       "      <td>Day of the week</td>\n",
       "      <td>-0.041192</td>\n",
       "    </tr>\n",
       "    <tr>\n",
       "      <th>3</th>\n",
       "      <td>Transportation expense</td>\n",
       "      <td>0.003596</td>\n",
       "    </tr>\n",
       "    <tr>\n",
       "      <th>4</th>\n",
       "      <td>Distance from Residence to Work</td>\n",
       "      <td>-0.001647</td>\n",
       "    </tr>\n",
       "    <tr>\n",
       "      <th>5</th>\n",
       "      <td>Service time</td>\n",
       "      <td>0.005508</td>\n",
       "    </tr>\n",
       "    <tr>\n",
       "      <th>6</th>\n",
       "      <td>Age</td>\n",
       "      <td>0.065028</td>\n",
       "    </tr>\n",
       "    <tr>\n",
       "      <th>7</th>\n",
       "      <td>Work load Average/day</td>\n",
       "      <td>-0.018580</td>\n",
       "    </tr>\n",
       "    <tr>\n",
       "      <th>8</th>\n",
       "      <td>Hit target</td>\n",
       "      <td>0.029798</td>\n",
       "    </tr>\n",
       "    <tr>\n",
       "      <th>9</th>\n",
       "      <td>Disciplinary failure</td>\n",
       "      <td>-0.147848</td>\n",
       "    </tr>\n",
       "    <tr>\n",
       "      <th>10</th>\n",
       "      <td>Education</td>\n",
       "      <td>-0.045919</td>\n",
       "    </tr>\n",
       "    <tr>\n",
       "      <th>11</th>\n",
       "      <td>Son</td>\n",
       "      <td>0.048927</td>\n",
       "    </tr>\n",
       "    <tr>\n",
       "      <th>12</th>\n",
       "      <td>Social drinker</td>\n",
       "      <td>0.007654</td>\n",
       "    </tr>\n",
       "    <tr>\n",
       "      <th>13</th>\n",
       "      <td>Social smoker</td>\n",
       "      <td>-0.037132</td>\n",
       "    </tr>\n",
       "    <tr>\n",
       "      <th>14</th>\n",
       "      <td>Pet</td>\n",
       "      <td>-0.019168</td>\n",
       "    </tr>\n",
       "    <tr>\n",
       "      <th>15</th>\n",
       "      <td>Weight</td>\n",
       "      <td>0.113844</td>\n",
       "    </tr>\n",
       "    <tr>\n",
       "      <th>16</th>\n",
       "      <td>Height</td>\n",
       "      <td>-0.011217</td>\n",
       "    </tr>\n",
       "    <tr>\n",
       "      <th>17</th>\n",
       "      <td>Body mass index</td>\n",
       "      <td>-0.192724</td>\n",
       "    </tr>\n",
       "  </tbody>\n",
       "</table>\n",
       "</div>"
      ],
      "text/plain": [
       "                                  0         1\n",
       "0                Reason for absence -0.122616\n",
       "1                  Month of absence  0.013783\n",
       "2                   Day of the week -0.041192\n",
       "3            Transportation expense  0.003596\n",
       "4   Distance from Residence to Work -0.001647\n",
       "5                      Service time  0.005508\n",
       "6                               Age  0.065028\n",
       "7            Work load Average/day  -0.018580\n",
       "8                        Hit target  0.029798\n",
       "9              Disciplinary failure -0.147848\n",
       "10                        Education -0.045919\n",
       "11                              Son  0.048927\n",
       "12                   Social drinker  0.007654\n",
       "13                    Social smoker -0.037132\n",
       "14                              Pet -0.019168\n",
       "15                           Weight  0.113844\n",
       "16                           Height -0.011217\n",
       "17                  Body mass index -0.192724"
      ]
     },
     "execution_count": 97,
     "metadata": {},
     "output_type": "execute_result"
    }
   ],
   "source": [
    "coeff_df_minmax = pd.DataFrame(zip(X_minmax.columns,regressor_minmax.coef_))  \n",
    "coeff_df_minmax"
   ]
  },
  {
   "cell_type": "code",
   "execution_count": 98,
   "metadata": {},
   "outputs": [],
   "source": [
    "y_pred_minmax = regressor_minmax.predict(X_test_minmax)"
   ]
  },
  {
   "cell_type": "code",
   "execution_count": 99,
   "metadata": {},
   "outputs": [
    {
     "name": "stdout",
     "output_type": "stream",
     "text": [
      "Mean Absolute Error: 0.05283611601044873\n",
      "Mean Squared Error: 0.007753430438698269\n",
      "Root Mean Squared Error: 0.08805356573528564\n",
      "R^2: 0.0535368587846885\n"
     ]
    }
   ],
   "source": [
    "print('Mean Absolute Error:', metrics.mean_absolute_error(y_test_minmax, y_pred_minmax))  \n",
    "print('Mean Squared Error:', metrics.mean_squared_error(y_test_minmax, y_pred_minmax))  \n",
    "print('Root Mean Squared Error:', np.sqrt(metrics.mean_squared_error(y_test_minmax, y_pred_minmax)))\n",
    "print('R^2:', metrics.r2_score(y_test_minmax, y_pred_minmax))"
   ]
  },
  {
   "cell_type": "code",
   "execution_count": 112,
   "metadata": {},
   "outputs": [
    {
     "name": "stdout",
     "output_type": "stream",
     "text": [
      "\n",
      "=========== SUMMARY ===========\n",
      "Residuals:\n",
      "    Min      1Q  Median      3Q     Max\n",
      "-0.8647 -0.0155  0.0138  0.0414  0.1586\n",
      "\n",
      "\n",
      "Coefficients:\n",
      "                                 Estimate  Std. Error  t value   p value\n",
      "_intercept                       0.148877    0.036087   4.1255  0.000042\n",
      "Reason for absence              -0.122616    0.016190  -7.5734  0.000000\n",
      "Month of absence                 0.013783    0.015820   0.8712  0.383981\n",
      "Day of the week                 -0.041192    0.012485  -3.2993  0.001029\n",
      "Transportation expense           0.003596    0.021768   0.1652  0.868859\n",
      "Distance from Residence to Work -0.001647    0.019046  -0.0865  0.931117\n",
      "Service time                     0.005508    0.047495   0.1160  0.907716\n",
      "Age                              0.065028    0.030227   2.1513  0.031863\n",
      "Work load Average/day           -0.018580    0.019569  -0.9495  0.342766\n",
      "Hit target                       0.029798    0.022869   1.3030  0.193103\n",
      "Disciplinary failure            -0.147848    0.023641  -6.2539  0.000000\n",
      "Education                       -0.045919    0.023109  -1.9870  0.047386\n",
      "Son                              0.048927    0.018875   2.5922  0.009777\n",
      "Social drinker                   0.007654    0.011694   0.6545  0.513032\n",
      "Social smoker                   -0.037132    0.018493  -2.0079  0.045114\n",
      "Pet                             -0.019168    0.032040  -0.5982  0.549908\n",
      "Weight                           0.113844    0.157188   0.7243  0.469201\n",
      "Height                          -0.011217    0.070674  -0.1587  0.873945\n",
      "Body mass index                 -0.192724    0.172687  -1.1160  0.264868\n",
      "---\n",
      "R-squared:  0.16037,    Adjusted R-squared:  0.13357\n",
      "F-statistic: 5.98 on 18 features\n"
     ]
    }
   ],
   "source": [
    "print(\"\\n=========== SUMMARY ===========\")\n",
    "stats.summary(regressor_minmax, X_train_minmax, y_train_minmax, X_minmax.columns)"
   ]
  },
  {
   "cell_type": "markdown",
   "metadata": {},
   "source": [
    "### Con Standard"
   ]
  },
  {
   "cell_type": "code",
   "execution_count": 91,
   "metadata": {},
   "outputs": [
    {
     "data": {
      "text/html": [
       "<div>\n",
       "<style scoped>\n",
       "    .dataframe tbody tr th:only-of-type {\n",
       "        vertical-align: middle;\n",
       "    }\n",
       "\n",
       "    .dataframe tbody tr th {\n",
       "        vertical-align: top;\n",
       "    }\n",
       "\n",
       "    .dataframe thead th {\n",
       "        text-align: right;\n",
       "    }\n",
       "</style>\n",
       "<table border=\"1\" class=\"dataframe\">\n",
       "  <thead>\n",
       "    <tr style=\"text-align: right;\">\n",
       "      <th></th>\n",
       "      <th>Reason for absence</th>\n",
       "      <th>Month of absence</th>\n",
       "      <th>Day of the week</th>\n",
       "      <th>Transportation expense</th>\n",
       "      <th>Distance from Residence to Work</th>\n",
       "      <th>Service time</th>\n",
       "      <th>Age</th>\n",
       "      <th>Work load Average/day</th>\n",
       "      <th>Hit target</th>\n",
       "      <th>Disciplinary failure</th>\n",
       "      <th>Education</th>\n",
       "      <th>Son</th>\n",
       "      <th>Social drinker</th>\n",
       "      <th>Social smoker</th>\n",
       "      <th>Pet</th>\n",
       "      <th>Weight</th>\n",
       "      <th>Height</th>\n",
       "      <th>Body mass index</th>\n",
       "      <th>Absenteeism time in hours</th>\n",
       "    </tr>\n",
       "  </thead>\n",
       "  <tbody>\n",
       "    <tr>\n",
       "      <th>0</th>\n",
       "      <td>0.804938</td>\n",
       "      <td>0.196763</td>\n",
       "      <td>-0.643947</td>\n",
       "      <td>1.011408</td>\n",
       "      <td>0.429556</td>\n",
       "      <td>0.101770</td>\n",
       "      <td>-0.532868</td>\n",
       "      <td>-0.818212</td>\n",
       "      <td>0.638686</td>\n",
       "      <td>-0.239046</td>\n",
       "      <td>-0.433857</td>\n",
       "      <td>0.893723</td>\n",
       "      <td>0.872872</td>\n",
       "      <td>-0.280566</td>\n",
       "      <td>0.19285</td>\n",
       "      <td>0.851673</td>\n",
       "      <td>-0.019046</td>\n",
       "      <td>0.775932</td>\n",
       "      <td>-0.219511</td>\n",
       "    </tr>\n",
       "    <tr>\n",
       "      <th>1</th>\n",
       "      <td>-2.280124</td>\n",
       "      <td>0.196763</td>\n",
       "      <td>-0.643947</td>\n",
       "      <td>-1.544379</td>\n",
       "      <td>-1.121694</td>\n",
       "      <td>1.242825</td>\n",
       "      <td>2.092860</td>\n",
       "      <td>-0.818212</td>\n",
       "      <td>0.638686</td>\n",
       "      <td>4.183300</td>\n",
       "      <td>-0.433857</td>\n",
       "      <td>-0.017234</td>\n",
       "      <td>0.872872</td>\n",
       "      <td>-0.280566</td>\n",
       "      <td>-0.56624</td>\n",
       "      <td>1.473056</td>\n",
       "      <td>0.975828</td>\n",
       "      <td>1.009438</td>\n",
       "      <td>-0.519767</td>\n",
       "    </tr>\n",
       "    <tr>\n",
       "      <th>2</th>\n",
       "      <td>0.448970</td>\n",
       "      <td>0.196763</td>\n",
       "      <td>0.059924</td>\n",
       "      <td>-0.632665</td>\n",
       "      <td>1.441240</td>\n",
       "      <td>1.242825</td>\n",
       "      <td>0.239405</td>\n",
       "      <td>-0.818212</td>\n",
       "      <td>0.638686</td>\n",
       "      <td>-0.239046</td>\n",
       "      <td>-0.433857</td>\n",
       "      <td>-0.928191</td>\n",
       "      <td>0.872872</td>\n",
       "      <td>-0.280566</td>\n",
       "      <td>-0.56624</td>\n",
       "      <td>0.774000</td>\n",
       "      <td>-0.350671</td>\n",
       "      <td>1.009438</td>\n",
       "      <td>-0.369639</td>\n",
       "    </tr>\n",
       "    <tr>\n",
       "      <th>3</th>\n",
       "      <td>-1.449530</td>\n",
       "      <td>0.196763</td>\n",
       "      <td>0.763796</td>\n",
       "      <td>0.861947</td>\n",
       "      <td>-1.661258</td>\n",
       "      <td>0.329981</td>\n",
       "      <td>0.393859</td>\n",
       "      <td>-0.818212</td>\n",
       "      <td>0.638686</td>\n",
       "      <td>-0.239046</td>\n",
       "      <td>-0.433857</td>\n",
       "      <td>0.893723</td>\n",
       "      <td>0.872872</td>\n",
       "      <td>3.564226</td>\n",
       "      <td>-0.56624</td>\n",
       "      <td>-0.857131</td>\n",
       "      <td>-0.682295</td>\n",
       "      <td>-0.625100</td>\n",
       "      <td>-0.219511</td>\n",
       "    </tr>\n",
       "    <tr>\n",
       "      <th>4</th>\n",
       "      <td>0.448970</td>\n",
       "      <td>0.196763</td>\n",
       "      <td>0.763796</td>\n",
       "      <td>1.011408</td>\n",
       "      <td>0.429556</td>\n",
       "      <td>0.101770</td>\n",
       "      <td>-0.532868</td>\n",
       "      <td>-0.818212</td>\n",
       "      <td>0.638686</td>\n",
       "      <td>-0.239046</td>\n",
       "      <td>-0.433857</td>\n",
       "      <td>0.893723</td>\n",
       "      <td>0.872872</td>\n",
       "      <td>-0.280566</td>\n",
       "      <td>0.19285</td>\n",
       "      <td>0.851673</td>\n",
       "      <td>-0.019046</td>\n",
       "      <td>0.775932</td>\n",
       "      <td>-0.369639</td>\n",
       "    </tr>\n",
       "  </tbody>\n",
       "</table>\n",
       "</div>"
      ],
      "text/plain": [
       "   Reason for absence  Month of absence  Day of the week  \\\n",
       "0            0.804938          0.196763        -0.643947   \n",
       "1           -2.280124          0.196763        -0.643947   \n",
       "2            0.448970          0.196763         0.059924   \n",
       "3           -1.449530          0.196763         0.763796   \n",
       "4            0.448970          0.196763         0.763796   \n",
       "\n",
       "   Transportation expense  Distance from Residence to Work  Service time  \\\n",
       "0                1.011408                         0.429556      0.101770   \n",
       "1               -1.544379                        -1.121694      1.242825   \n",
       "2               -0.632665                         1.441240      1.242825   \n",
       "3                0.861947                        -1.661258      0.329981   \n",
       "4                1.011408                         0.429556      0.101770   \n",
       "\n",
       "        Age  Work load Average/day   Hit target  Disciplinary failure  \\\n",
       "0 -0.532868               -0.818212    0.638686             -0.239046   \n",
       "1  2.092860               -0.818212    0.638686              4.183300   \n",
       "2  0.239405               -0.818212    0.638686             -0.239046   \n",
       "3  0.393859               -0.818212    0.638686             -0.239046   \n",
       "4 -0.532868               -0.818212    0.638686             -0.239046   \n",
       "\n",
       "   Education       Son  Social drinker  Social smoker      Pet    Weight  \\\n",
       "0  -0.433857  0.893723        0.872872      -0.280566  0.19285  0.851673   \n",
       "1  -0.433857 -0.017234        0.872872      -0.280566 -0.56624  1.473056   \n",
       "2  -0.433857 -0.928191        0.872872      -0.280566 -0.56624  0.774000   \n",
       "3  -0.433857  0.893723        0.872872       3.564226 -0.56624 -0.857131   \n",
       "4  -0.433857  0.893723        0.872872      -0.280566  0.19285  0.851673   \n",
       "\n",
       "     Height  Body mass index  Absenteeism time in hours  \n",
       "0 -0.019046         0.775932                  -0.219511  \n",
       "1  0.975828         1.009438                  -0.519767  \n",
       "2 -0.350671         1.009438                  -0.369639  \n",
       "3 -0.682295        -0.625100                  -0.219511  \n",
       "4 -0.019046         0.775932                  -0.369639  "
      ]
     },
     "execution_count": 91,
     "metadata": {},
     "output_type": "execute_result"
    }
   ],
   "source": [
    "# Se usa el StandardScaler\n",
    "scaler = StandardScaler()\n",
    "data_estandar = pd.DataFrame(scaler.fit_transform(data), columns = data.columns) \n",
    "data_estandar.head()"
   ]
  },
  {
   "cell_type": "code",
   "execution_count": 100,
   "metadata": {},
   "outputs": [],
   "source": [
    "X_estandar = data_estandar.drop(['Absenteeism time in hours'], axis=1)\n",
    "Y_estandar= data_estandar['Absenteeism time in hours']"
   ]
  },
  {
   "cell_type": "code",
   "execution_count": 101,
   "metadata": {
    "scrolled": true
   },
   "outputs": [
    {
     "data": {
      "text/plain": [
       "((583, 18), (157, 18))"
      ]
     },
     "execution_count": 101,
     "metadata": {},
     "output_type": "execute_result"
    }
   ],
   "source": [
    "X_train_estandar, X_test_estandar, y_train_estandar, y_test_estandar = train_test_split(X_estandar, Y_estandar, test_size = 0.211, random_state = 0)\n",
    "# Comparación de tamaños\n",
    "X_train_estandar.shape, X_test_estandar.shape"
   ]
  },
  {
   "cell_type": "code",
   "execution_count": 102,
   "metadata": {},
   "outputs": [
    {
     "data": {
      "text/plain": [
       "LinearRegression()"
      ]
     },
     "execution_count": 102,
     "metadata": {},
     "output_type": "execute_result"
    }
   ],
   "source": [
    "regressor_estandar = LinearRegression()  \n",
    "regressor_estandar.fit(X_train_estandar, y_train_estandar) #training the algorithm"
   ]
  },
  {
   "cell_type": "code",
   "execution_count": 103,
   "metadata": {},
   "outputs": [
    {
     "name": "stdout",
     "output_type": "stream",
     "text": [
      "0.00680760240366885\n"
     ]
    }
   ],
   "source": [
    "#To retrieve the intercept:\n",
    "print(regressor_estandar.intercept_)"
   ]
  },
  {
   "cell_type": "code",
   "execution_count": 104,
   "metadata": {},
   "outputs": [
    {
     "data": {
      "text/html": [
       "<div>\n",
       "<style scoped>\n",
       "    .dataframe tbody tr th:only-of-type {\n",
       "        vertical-align: middle;\n",
       "    }\n",
       "\n",
       "    .dataframe tbody tr th {\n",
       "        vertical-align: top;\n",
       "    }\n",
       "\n",
       "    .dataframe thead th {\n",
       "        text-align: right;\n",
       "    }\n",
       "</style>\n",
       "<table border=\"1\" class=\"dataframe\">\n",
       "  <thead>\n",
       "    <tr style=\"text-align: right;\">\n",
       "      <th></th>\n",
       "      <th>0</th>\n",
       "      <th>1</th>\n",
       "    </tr>\n",
       "  </thead>\n",
       "  <tbody>\n",
       "    <tr>\n",
       "      <th>0</th>\n",
       "      <td>Reason for absence</td>\n",
       "      <td>-0.332437</td>\n",
       "    </tr>\n",
       "    <tr>\n",
       "      <th>1</th>\n",
       "      <td>Month of absence</td>\n",
       "      <td>0.035528</td>\n",
       "    </tr>\n",
       "    <tr>\n",
       "      <th>2</th>\n",
       "      <td>Day of the week</td>\n",
       "      <td>-0.131787</td>\n",
       "    </tr>\n",
       "    <tr>\n",
       "      <th>3</th>\n",
       "      <td>Transportation expense</td>\n",
       "      <td>0.008026</td>\n",
       "    </tr>\n",
       "    <tr>\n",
       "      <th>4</th>\n",
       "      <td>Distance from Residence to Work</td>\n",
       "      <td>-0.004680</td>\n",
       "    </tr>\n",
       "    <tr>\n",
       "      <th>5</th>\n",
       "      <td>Service time</td>\n",
       "      <td>0.007765</td>\n",
       "    </tr>\n",
       "    <tr>\n",
       "      <th>6</th>\n",
       "      <td>Age</td>\n",
       "      <td>0.122334</td>\n",
       "    </tr>\n",
       "    <tr>\n",
       "      <th>7</th>\n",
       "      <td>Work load Average/day</td>\n",
       "      <td>-0.037768</td>\n",
       "    </tr>\n",
       "    <tr>\n",
       "      <th>8</th>\n",
       "      <td>Hit target</td>\n",
       "      <td>0.053354</td>\n",
       "    </tr>\n",
       "    <tr>\n",
       "      <th>9</th>\n",
       "      <td>Disciplinary failure</td>\n",
       "      <td>-0.301144</td>\n",
       "    </tr>\n",
       "    <tr>\n",
       "      <th>10</th>\n",
       "      <td>Education</td>\n",
       "      <td>-0.092759</td>\n",
       "    </tr>\n",
       "    <tr>\n",
       "      <th>11</th>\n",
       "      <td>Son</td>\n",
       "      <td>0.120949</td>\n",
       "    </tr>\n",
       "    <tr>\n",
       "      <th>12</th>\n",
       "      <td>Social drinker</td>\n",
       "      <td>0.034157</td>\n",
       "    </tr>\n",
       "    <tr>\n",
       "      <th>13</th>\n",
       "      <td>Social smoker</td>\n",
       "      <td>-0.086993</td>\n",
       "    </tr>\n",
       "    <tr>\n",
       "      <th>14</th>\n",
       "      <td>Pet</td>\n",
       "      <td>-0.028431</td>\n",
       "    </tr>\n",
       "    <tr>\n",
       "      <th>15</th>\n",
       "      <td>Weight</td>\n",
       "      <td>0.253892</td>\n",
       "    </tr>\n",
       "    <tr>\n",
       "      <th>16</th>\n",
       "      <td>Height</td>\n",
       "      <td>-0.018466</td>\n",
       "    </tr>\n",
       "    <tr>\n",
       "      <th>17</th>\n",
       "      <td>Body mass index</td>\n",
       "      <td>-0.391289</td>\n",
       "    </tr>\n",
       "  </tbody>\n",
       "</table>\n",
       "</div>"
      ],
      "text/plain": [
       "                                  0         1\n",
       "0                Reason for absence -0.332437\n",
       "1                  Month of absence  0.035528\n",
       "2                   Day of the week -0.131787\n",
       "3            Transportation expense  0.008026\n",
       "4   Distance from Residence to Work -0.004680\n",
       "5                      Service time  0.007765\n",
       "6                               Age  0.122334\n",
       "7            Work load Average/day  -0.037768\n",
       "8                        Hit target  0.053354\n",
       "9              Disciplinary failure -0.301144\n",
       "10                        Education -0.092759\n",
       "11                              Son  0.120949\n",
       "12                   Social drinker  0.034157\n",
       "13                    Social smoker -0.086993\n",
       "14                              Pet -0.028431\n",
       "15                           Weight  0.253892\n",
       "16                           Height -0.018466\n",
       "17                  Body mass index -0.391289"
      ]
     },
     "execution_count": 104,
     "metadata": {},
     "output_type": "execute_result"
    }
   ],
   "source": [
    "coeff_df_estandar = pd.DataFrame(zip(X_estandar.columns,regressor_estandar.coef_))  \n",
    "coeff_df_estandar"
   ]
  },
  {
   "cell_type": "code",
   "execution_count": 105,
   "metadata": {},
   "outputs": [],
   "source": [
    "y_pred_estandar = regressor_estandar.predict(X_test_estandar)"
   ]
  },
  {
   "cell_type": "code",
   "execution_count": 106,
   "metadata": {},
   "outputs": [
    {
     "name": "stdout",
     "output_type": "stream",
     "text": [
      "Mean Absolute Error: 0.47593002634898607\n",
      "Mean Squared Error: 0.6290980444833508\n",
      "Root Mean Squared Error: 0.7931570112426359\n",
      "R^2: 0.053536858784688945\n"
     ]
    }
   ],
   "source": [
    "print('Mean Absolute Error:', metrics.mean_absolute_error(y_test_estandar, y_pred_estandar))  \n",
    "print('Mean Squared Error:', metrics.mean_squared_error(y_test_estandar, y_pred_estandar))  \n",
    "print('Root Mean Squared Error:', np.sqrt(metrics.mean_squared_error(y_test_estandar, y_pred_estandar)))\n",
    "print('R^2:', metrics.r2_score(y_test_estandar, y_pred_estandar))"
   ]
  },
  {
   "cell_type": "code",
   "execution_count": 111,
   "metadata": {},
   "outputs": [
    {
     "name": "stdout",
     "output_type": "stream",
     "text": [
      "\n",
      "=========== SUMMARY ===========\n",
      "Residuals:\n",
      "    Min      1Q  Median      3Q     Max\n",
      "-7.7886 -0.1397   0.124  0.3731  1.4284\n",
      "\n",
      "\n",
      "Coefficients:\n",
      "                                 Estimate  Std. Error  t value   p value\n",
      "_intercept                       0.006808    0.039717   0.1714  0.863966\n",
      "Reason for absence              -0.332437    0.047487  -7.0006  0.000000\n",
      "Month of absence                 0.035528    0.044250   0.8029  0.422366\n",
      "Day of the week                 -0.131787    0.040923  -3.2203  0.001352\n",
      "Transportation expense           0.008026    0.050073   0.1603  0.872710\n",
      "Distance from Residence to Work -0.004680    0.056673  -0.0826  0.934210\n",
      "Service time                     0.007765    0.065590   0.1184  0.905807\n",
      "Age                              0.122334    0.057748   2.1184  0.034564\n",
      "Work load Average/day           -0.037768    0.041462  -0.9109  0.362719\n",
      "Hit target                       0.053354    0.045184   1.1808  0.238161\n",
      "Disciplinary failure            -0.301144    0.047970  -6.2778  0.000000\n",
      "Education                       -0.092759    0.046799  -1.9821  0.047943\n",
      "Son                              0.120949    0.046928   2.5774  0.010201\n",
      "Social drinker                   0.034157    0.057733   0.5916  0.554326\n",
      "Social smoker                   -0.086993    0.043666  -1.9922  0.046811\n",
      "Pet                             -0.028431    0.046739  -0.6083  0.543227\n",
      "Weight                           0.253892    0.373644   0.6795  0.497090\n",
      "Height                          -0.018466    0.103519  -0.1784  0.858484\n",
      "Body mass index                 -0.391289    0.346371  -1.1297  0.259075\n",
      "---\n",
      "R-squared:  0.16037,    Adjusted R-squared:  0.13357\n",
      "F-statistic: 5.98 on 18 features\n"
     ]
    }
   ],
   "source": [
    "print(\"\\n=========== SUMMARY ===========\")\n",
    "stats.summary(regressor_estandar, X_train_estandar, y_train_estandar, X_estandar.columns)"
   ]
  },
  {
   "cell_type": "markdown",
   "metadata": {},
   "source": [
    "## Selección de variables"
   ]
  },
  {
   "cell_type": "code",
   "execution_count": null,
   "metadata": {},
   "outputs": [],
   "source": []
  },
  {
   "cell_type": "markdown",
   "metadata": {},
   "source": [
    "### Con minmax"
   ]
  },
  {
   "cell_type": "code",
   "execution_count": 115,
   "metadata": {},
   "outputs": [
    {
     "data": {
      "text/plain": [
       "Month of absence                   0.024345\n",
       "Day of the week                   -0.124361\n",
       "Transportation expense             0.027585\n",
       "Distance from Residence to Work   -0.088363\n",
       "Service time                       0.019029\n",
       "Age                                0.065760\n",
       "Work load Average/day              0.024749\n",
       "Hit target                         0.026695\n",
       "Disciplinary failure              -0.124248\n",
       "Education                         -0.046235\n",
       "Son                                0.113756\n",
       "Social drinker                     0.065067\n",
       "Social smoker                     -0.008936\n",
       "Pet                               -0.028277\n",
       "Weight                             0.015789\n",
       "Height                             0.144420\n",
       "Body mass index                   -0.049719\n",
       "Absenteeism time in hours          1.000000\n",
       "Name: Absenteeism time in hours, dtype: float64"
      ]
     },
     "execution_count": 115,
     "metadata": {},
     "output_type": "execute_result"
    }
   ],
   "source": [
    "data_minmax[data_minmax.columns[1:]].corr()['Absenteeism time in hours'][:]"
   ]
  },
  {
   "cell_type": "code",
   "execution_count": null,
   "metadata": {},
   "outputs": [],
   "source": []
  },
  {
   "cell_type": "markdown",
   "metadata": {},
   "source": [
    "### Con standard"
   ]
  },
  {
   "cell_type": "code",
   "execution_count": 113,
   "metadata": {},
   "outputs": [
    {
     "data": {
      "text/plain": [
       "Month of absence                   0.024345\n",
       "Day of the week                   -0.124361\n",
       "Transportation expense             0.027585\n",
       "Distance from Residence to Work   -0.088363\n",
       "Service time                       0.019029\n",
       "Age                                0.065760\n",
       "Work load Average/day              0.024749\n",
       "Hit target                         0.026695\n",
       "Disciplinary failure              -0.124248\n",
       "Education                         -0.046235\n",
       "Son                                0.113756\n",
       "Social drinker                     0.065067\n",
       "Social smoker                     -0.008936\n",
       "Pet                               -0.028277\n",
       "Weight                             0.015789\n",
       "Height                             0.144420\n",
       "Body mass index                   -0.049719\n",
       "Absenteeism time in hours          1.000000\n",
       "Name: Absenteeism time in hours, dtype: float64"
      ]
     },
     "execution_count": 113,
     "metadata": {},
     "output_type": "execute_result"
    }
   ],
   "source": [
    "data_estandar[data_estandar.columns[1:]].corr()['Absenteeism time in hours'][:]"
   ]
  },
  {
   "cell_type": "code",
   "execution_count": null,
   "metadata": {},
   "outputs": [],
   "source": []
  },
  {
   "cell_type": "code",
   "execution_count": null,
   "metadata": {},
   "outputs": [],
   "source": []
  }
 ],
 "metadata": {
  "kernelspec": {
   "display_name": "Python 3",
   "language": "python",
   "name": "python3"
  },
  "language_info": {
   "codemirror_mode": {
    "name": "ipython",
    "version": 3
   },
   "file_extension": ".py",
   "mimetype": "text/x-python",
   "name": "python",
   "nbconvert_exporter": "python",
   "pygments_lexer": "ipython3",
   "version": "3.8.3"
  }
 },
 "nbformat": 4,
 "nbformat_minor": 4
}
