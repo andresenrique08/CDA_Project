{
 "cells": [
  {
   "cell_type": "code",
   "execution_count": 43,
   "metadata": {},
   "outputs": [],
   "source": [
    "import os, sys\n",
    "import pandas as pd\n",
    "import pandas_profiling\n",
    "import numpy as np\n",
    "import matplotlib.pyplot as plt\n",
    "import seaborn as sns"
   ]
  },
  {
   "cell_type": "code",
   "execution_count": 2,
   "metadata": {},
   "outputs": [],
   "source": [
    "def mytable(data):\n",
    "    nulls = pd.DataFrame(data.isnull().sum()/data.shape[0]*100, columns=['% de datos nulos'])\n",
    "    ceros = pd.DataFrame((data==0).sum()/data.shape[0]*100, columns=['% de ceros'])\n",
    "    tipo = pd.DataFrame(data.dtypes,columns=['Tipo de datos'])\n",
    "    val = pd.DataFrame(data.nunique(),columns=['# de valores diferentes'])\n",
    "    mis_val_table = pd.concat([nulls, ceros,tipo, val], axis=1)\n",
    "    return mis_val_table"
   ]
  },
  {
   "cell_type": "code",
   "execution_count": 3,
   "metadata": {},
   "outputs": [],
   "source": [
    "def eliminar_coma(x):\n",
    "    x=str(x).replace(',','.')\n",
    "    return x"
   ]
  },
  {
   "cell_type": "markdown",
   "metadata": {},
   "source": [
    "# Base de datos Daily"
   ]
  },
  {
   "cell_type": "code",
   "execution_count": 4,
   "metadata": {},
   "outputs": [],
   "source": [
    "name = r\"C:\\Users\\anavr\\OneDrive - Universidad de los Andes\\PhD\\Courses\\Ciencia de Datos Aplicada\\Proyecto\\Codes\\Daily.csv\"\n",
    "\n",
    "daily =pd.read_csv(name,sep='|',error_bad_lines=False, warn_bad_lines= False,index_col=False,header=0, low_memory=False)"
   ]
  },
  {
   "cell_type": "code",
   "execution_count": 5,
   "metadata": {},
   "outputs": [
    {
     "data": {
      "text/plain": [
       "(396887, 20)"
      ]
     },
     "execution_count": 5,
     "metadata": {},
     "output_type": "execute_result"
    }
   ],
   "source": [
    "daily.shape"
   ]
  },
  {
   "cell_type": "code",
   "execution_count": 6,
   "metadata": {},
   "outputs": [
    {
     "data": {
      "text/plain": [
       "505"
      ]
     },
     "execution_count": 6,
     "metadata": {},
     "output_type": "execute_result"
    }
   ],
   "source": [
    "daily.duplicated().sum()"
   ]
  },
  {
   "cell_type": "code",
   "execution_count": 46,
   "metadata": {},
   "outputs": [
    {
     "data": {
      "text/html": [
       "<div>\n",
       "<style scoped>\n",
       "    .dataframe tbody tr th:only-of-type {\n",
       "        vertical-align: middle;\n",
       "    }\n",
       "\n",
       "    .dataframe tbody tr th {\n",
       "        vertical-align: top;\n",
       "    }\n",
       "\n",
       "    .dataframe thead th {\n",
       "        text-align: right;\n",
       "    }\n",
       "</style>\n",
       "<table border=\"1\" class=\"dataframe\">\n",
       "  <thead>\n",
       "    <tr style=\"text-align: right;\">\n",
       "      <th></th>\n",
       "      <th>id_sitio</th>\n",
       "      <th>Daily_Date</th>\n",
       "      <th>VolUnCorrected</th>\n",
       "      <th>VolCorrected</th>\n",
       "      <th>Pressure</th>\n",
       "      <th>Temperature</th>\n",
       "      <th>id_RTU</th>\n",
       "    </tr>\n",
       "  </thead>\n",
       "  <tbody>\n",
       "    <tr>\n",
       "      <th>0</th>\n",
       "      <td>34</td>\n",
       "      <td>2013-08-19 23:59:59</td>\n",
       "      <td>39.39</td>\n",
       "      <td>727.25</td>\n",
       "      <td>NaN</td>\n",
       "      <td>NaN</td>\n",
       "      <td>2013-08-19 23:59:59</td>\n",
       "    </tr>\n",
       "    <tr>\n",
       "      <th>1</th>\n",
       "      <td>163</td>\n",
       "      <td>2013-08-21 23:59:59</td>\n",
       "      <td>1434.93</td>\n",
       "      <td>24170.80</td>\n",
       "      <td>NaN</td>\n",
       "      <td>NaN</td>\n",
       "      <td>2013-08-21 23:59:59</td>\n",
       "    </tr>\n",
       "    <tr>\n",
       "      <th>2</th>\n",
       "      <td>40</td>\n",
       "      <td>2013-08-19 23:59:59</td>\n",
       "      <td>7709.26</td>\n",
       "      <td>69097.57</td>\n",
       "      <td>NaN</td>\n",
       "      <td>NaN</td>\n",
       "      <td>2013-08-19 23:59:59</td>\n",
       "    </tr>\n",
       "    <tr>\n",
       "      <th>3</th>\n",
       "      <td>41</td>\n",
       "      <td>2013-08-19 23:59:59</td>\n",
       "      <td>404.14</td>\n",
       "      <td>7004.77</td>\n",
       "      <td>NaN</td>\n",
       "      <td>NaN</td>\n",
       "      <td>2013-08-19 23:59:59</td>\n",
       "    </tr>\n",
       "    <tr>\n",
       "      <th>4</th>\n",
       "      <td>50</td>\n",
       "      <td>2013-08-19 23:59:59</td>\n",
       "      <td>3296.01</td>\n",
       "      <td>15331.19</td>\n",
       "      <td>NaN</td>\n",
       "      <td>NaN</td>\n",
       "      <td>2013-08-19 23:59:59</td>\n",
       "    </tr>\n",
       "    <tr>\n",
       "      <th>...</th>\n",
       "      <td>...</td>\n",
       "      <td>...</td>\n",
       "      <td>...</td>\n",
       "      <td>...</td>\n",
       "      <td>...</td>\n",
       "      <td>...</td>\n",
       "      <td>...</td>\n",
       "    </tr>\n",
       "    <tr>\n",
       "      <th>396882</th>\n",
       "      <td>424</td>\n",
       "      <td>2018-01-22 23:59:59</td>\n",
       "      <td>69.00</td>\n",
       "      <td>523.00</td>\n",
       "      <td>101.33</td>\n",
       "      <td>25.87</td>\n",
       "      <td>2018-01-22 23:59:59</td>\n",
       "    </tr>\n",
       "    <tr>\n",
       "      <th>396883</th>\n",
       "      <td>425</td>\n",
       "      <td>2018-01-22 23:59:59</td>\n",
       "      <td>265.00</td>\n",
       "      <td>584.00</td>\n",
       "      <td>23.50</td>\n",
       "      <td>22.38</td>\n",
       "      <td>2018-01-22 23:59:59</td>\n",
       "    </tr>\n",
       "    <tr>\n",
       "      <th>396884</th>\n",
       "      <td>426</td>\n",
       "      <td>2018-01-22 23:59:59</td>\n",
       "      <td>1538.00</td>\n",
       "      <td>10713.00</td>\n",
       "      <td>91.63</td>\n",
       "      <td>23.23</td>\n",
       "      <td>2018-01-22 23:59:59</td>\n",
       "    </tr>\n",
       "    <tr>\n",
       "      <th>396885</th>\n",
       "      <td>427</td>\n",
       "      <td>2018-01-22 23:59:59</td>\n",
       "      <td>57.00</td>\n",
       "      <td>275.00</td>\n",
       "      <td>58.86</td>\n",
       "      <td>18.88</td>\n",
       "      <td>2018-01-22 23:59:59</td>\n",
       "    </tr>\n",
       "    <tr>\n",
       "      <th>396886</th>\n",
       "      <td>429</td>\n",
       "      <td>2018-01-22 23:59:59</td>\n",
       "      <td>725.00</td>\n",
       "      <td>3171.00</td>\n",
       "      <td>56.31</td>\n",
       "      <td>25.32</td>\n",
       "      <td>2018-01-22 23:59:59</td>\n",
       "    </tr>\n",
       "  </tbody>\n",
       "</table>\n",
       "<p>396379 rows × 7 columns</p>\n",
       "</div>"
      ],
      "text/plain": [
       "        id_sitio           Daily_Date  VolUnCorrected  VolCorrected  Pressure  \\\n",
       "0             34  2013-08-19 23:59:59           39.39        727.25       NaN   \n",
       "1            163  2013-08-21 23:59:59         1434.93      24170.80       NaN   \n",
       "2             40  2013-08-19 23:59:59         7709.26      69097.57       NaN   \n",
       "3             41  2013-08-19 23:59:59          404.14       7004.77       NaN   \n",
       "4             50  2013-08-19 23:59:59         3296.01      15331.19       NaN   \n",
       "...          ...                  ...             ...           ...       ...   \n",
       "396882       424  2018-01-22 23:59:59           69.00        523.00    101.33   \n",
       "396883       425  2018-01-22 23:59:59          265.00        584.00     23.50   \n",
       "396884       426  2018-01-22 23:59:59         1538.00      10713.00     91.63   \n",
       "396885       427  2018-01-22 23:59:59           57.00        275.00     58.86   \n",
       "396886       429  2018-01-22 23:59:59          725.00       3171.00     56.31   \n",
       "\n",
       "        Temperature               id_RTU  \n",
       "0               NaN  2013-08-19 23:59:59  \n",
       "1               NaN  2013-08-21 23:59:59  \n",
       "2               NaN  2013-08-19 23:59:59  \n",
       "3               NaN  2013-08-19 23:59:59  \n",
       "4               NaN  2013-08-19 23:59:59  \n",
       "...             ...                  ...  \n",
       "396882        25.87  2018-01-22 23:59:59  \n",
       "396883        22.38  2018-01-22 23:59:59  \n",
       "396884        23.23  2018-01-22 23:59:59  \n",
       "396885        18.88  2018-01-22 23:59:59  \n",
       "396886        25.32  2018-01-22 23:59:59  \n",
       "\n",
       "[396379 rows x 7 columns]"
      ]
     },
     "execution_count": 46,
     "metadata": {},
     "output_type": "execute_result"
    }
   ],
   "source": [
    "daily.drop_duplicates()"
   ]
  },
  {
   "cell_type": "code",
   "execution_count": 8,
   "metadata": {},
   "outputs": [
    {
     "data": {
      "text/plain": [
       "(396887, 20)"
      ]
     },
     "execution_count": 8,
     "metadata": {},
     "output_type": "execute_result"
    }
   ],
   "source": [
    "daily.shape"
   ]
  },
  {
   "cell_type": "code",
   "execution_count": 9,
   "metadata": {},
   "outputs": [
    {
     "data": {
      "text/html": [
       "<div>\n",
       "<style scoped>\n",
       "    .dataframe tbody tr th:only-of-type {\n",
       "        vertical-align: middle;\n",
       "    }\n",
       "\n",
       "    .dataframe tbody tr th {\n",
       "        vertical-align: top;\n",
       "    }\n",
       "\n",
       "    .dataframe thead th {\n",
       "        text-align: right;\n",
       "    }\n",
       "</style>\n",
       "<table border=\"1\" class=\"dataframe\">\n",
       "  <thead>\n",
       "    <tr style=\"text-align: right;\">\n",
       "      <th></th>\n",
       "      <th>% de datos nulos</th>\n",
       "      <th>% de ceros</th>\n",
       "      <th>Tipo de datos</th>\n",
       "      <th># de valores diferentes</th>\n",
       "    </tr>\n",
       "  </thead>\n",
       "  <tbody>\n",
       "    <tr>\n",
       "      <th>id_sitio</th>\n",
       "      <td>0.000000</td>\n",
       "      <td>0.000000</td>\n",
       "      <td>int64</td>\n",
       "      <td>306</td>\n",
       "    </tr>\n",
       "    <tr>\n",
       "      <th>corte_evento</th>\n",
       "      <td>0.000000</td>\n",
       "      <td>100.000000</td>\n",
       "      <td>bool</td>\n",
       "      <td>1</td>\n",
       "    </tr>\n",
       "    <tr>\n",
       "      <th>Daily_Date</th>\n",
       "      <td>0.000000</td>\n",
       "      <td>0.000000</td>\n",
       "      <td>object</td>\n",
       "      <td>1907</td>\n",
       "    </tr>\n",
       "    <tr>\n",
       "      <th>VolUnCorrected</th>\n",
       "      <td>0.013102</td>\n",
       "      <td>0.000000</td>\n",
       "      <td>object</td>\n",
       "      <td>114051</td>\n",
       "    </tr>\n",
       "    <tr>\n",
       "      <th>VolCorrected</th>\n",
       "      <td>0.017385</td>\n",
       "      <td>0.000000</td>\n",
       "      <td>object</td>\n",
       "      <td>243108</td>\n",
       "    </tr>\n",
       "    <tr>\n",
       "      <th>Pressure</th>\n",
       "      <td>0.096753</td>\n",
       "      <td>0.000000</td>\n",
       "      <td>object</td>\n",
       "      <td>21409</td>\n",
       "    </tr>\n",
       "    <tr>\n",
       "      <th>Temperature</th>\n",
       "      <td>0.096753</td>\n",
       "      <td>0.000000</td>\n",
       "      <td>object</td>\n",
       "      <td>4189</td>\n",
       "    </tr>\n",
       "    <tr>\n",
       "      <th>MaxPressure</th>\n",
       "      <td>97.703628</td>\n",
       "      <td>2.296372</td>\n",
       "      <td>float64</td>\n",
       "      <td>1</td>\n",
       "    </tr>\n",
       "    <tr>\n",
       "      <th>MaxPressureTime</th>\n",
       "      <td>97.703628</td>\n",
       "      <td>0.000000</td>\n",
       "      <td>object</td>\n",
       "      <td>92</td>\n",
       "    </tr>\n",
       "    <tr>\n",
       "      <th>MinPressure</th>\n",
       "      <td>97.703628</td>\n",
       "      <td>2.296372</td>\n",
       "      <td>float64</td>\n",
       "      <td>1</td>\n",
       "    </tr>\n",
       "    <tr>\n",
       "      <th>MinPressureTime</th>\n",
       "      <td>97.703628</td>\n",
       "      <td>0.000000</td>\n",
       "      <td>object</td>\n",
       "      <td>92</td>\n",
       "    </tr>\n",
       "    <tr>\n",
       "      <th>MaxFlow</th>\n",
       "      <td>97.703628</td>\n",
       "      <td>2.296372</td>\n",
       "      <td>float64</td>\n",
       "      <td>1</td>\n",
       "    </tr>\n",
       "    <tr>\n",
       "      <th>maxFlowTime</th>\n",
       "      <td>97.703628</td>\n",
       "      <td>0.000000</td>\n",
       "      <td>object</td>\n",
       "      <td>92</td>\n",
       "    </tr>\n",
       "    <tr>\n",
       "      <th>MinFlow</th>\n",
       "      <td>97.703628</td>\n",
       "      <td>2.296372</td>\n",
       "      <td>float64</td>\n",
       "      <td>1</td>\n",
       "    </tr>\n",
       "    <tr>\n",
       "      <th>MinFlowTime</th>\n",
       "      <td>97.703628</td>\n",
       "      <td>0.000000</td>\n",
       "      <td>object</td>\n",
       "      <td>92</td>\n",
       "    </tr>\n",
       "    <tr>\n",
       "      <th>MaxTemp</th>\n",
       "      <td>97.703628</td>\n",
       "      <td>2.296372</td>\n",
       "      <td>float64</td>\n",
       "      <td>1</td>\n",
       "    </tr>\n",
       "    <tr>\n",
       "      <th>maxTempTime</th>\n",
       "      <td>97.703628</td>\n",
       "      <td>0.000000</td>\n",
       "      <td>object</td>\n",
       "      <td>92</td>\n",
       "    </tr>\n",
       "    <tr>\n",
       "      <th>MinTemp</th>\n",
       "      <td>97.703628</td>\n",
       "      <td>2.296372</td>\n",
       "      <td>float64</td>\n",
       "      <td>1</td>\n",
       "    </tr>\n",
       "    <tr>\n",
       "      <th>MinTempTime</th>\n",
       "      <td>97.703628</td>\n",
       "      <td>0.000000</td>\n",
       "      <td>object</td>\n",
       "      <td>92</td>\n",
       "    </tr>\n",
       "    <tr>\n",
       "      <th>id_RTU</th>\n",
       "      <td>0.066014</td>\n",
       "      <td>0.000000</td>\n",
       "      <td>float64</td>\n",
       "      <td>310</td>\n",
       "    </tr>\n",
       "  </tbody>\n",
       "</table>\n",
       "</div>"
      ],
      "text/plain": [
       "                 % de datos nulos  % de ceros Tipo de datos  \\\n",
       "id_sitio                 0.000000    0.000000         int64   \n",
       "corte_evento             0.000000  100.000000          bool   \n",
       "Daily_Date               0.000000    0.000000        object   \n",
       "VolUnCorrected           0.013102    0.000000        object   \n",
       "VolCorrected             0.017385    0.000000        object   \n",
       "Pressure                 0.096753    0.000000        object   \n",
       "Temperature              0.096753    0.000000        object   \n",
       "MaxPressure             97.703628    2.296372       float64   \n",
       "MaxPressureTime         97.703628    0.000000        object   \n",
       "MinPressure             97.703628    2.296372       float64   \n",
       "MinPressureTime         97.703628    0.000000        object   \n",
       "MaxFlow                 97.703628    2.296372       float64   \n",
       "maxFlowTime             97.703628    0.000000        object   \n",
       "MinFlow                 97.703628    2.296372       float64   \n",
       "MinFlowTime             97.703628    0.000000        object   \n",
       "MaxTemp                 97.703628    2.296372       float64   \n",
       "maxTempTime             97.703628    0.000000        object   \n",
       "MinTemp                 97.703628    2.296372       float64   \n",
       "MinTempTime             97.703628    0.000000        object   \n",
       "id_RTU                   0.066014    0.000000       float64   \n",
       "\n",
       "                 # de valores diferentes  \n",
       "id_sitio                             306  \n",
       "corte_evento                           1  \n",
       "Daily_Date                          1907  \n",
       "VolUnCorrected                    114051  \n",
       "VolCorrected                      243108  \n",
       "Pressure                           21409  \n",
       "Temperature                         4189  \n",
       "MaxPressure                            1  \n",
       "MaxPressureTime                       92  \n",
       "MinPressure                            1  \n",
       "MinPressureTime                       92  \n",
       "MaxFlow                                1  \n",
       "maxFlowTime                           92  \n",
       "MinFlow                                1  \n",
       "MinFlowTime                           92  \n",
       "MaxTemp                                1  \n",
       "maxTempTime                           92  \n",
       "MinTemp                                1  \n",
       "MinTempTime                           92  \n",
       "id_RTU                               310  "
      ]
     },
     "execution_count": 9,
     "metadata": {},
     "output_type": "execute_result"
    }
   ],
   "source": [
    "mytable(daily)"
   ]
  },
  {
   "cell_type": "code",
   "execution_count": 10,
   "metadata": {},
   "outputs": [
    {
     "data": {
      "text/plain": [
       "id_sitio            object\n",
       "corte_evento          bool\n",
       "Daily_Date          object\n",
       "VolUnCorrected     float64\n",
       "VolCorrected       float64\n",
       "Pressure           float64\n",
       "Temperature        float64\n",
       "MaxPressure        float64\n",
       "MaxPressureTime     object\n",
       "MinPressure        float64\n",
       "MinPressureTime     object\n",
       "MaxFlow            float64\n",
       "maxFlowTime         object\n",
       "MinFlow            float64\n",
       "MinFlowTime         object\n",
       "MaxTemp            float64\n",
       "maxTempTime         object\n",
       "MinTemp            float64\n",
       "MinTempTime         object\n",
       "id_RTU              object\n",
       "dtype: object"
      ]
     },
     "execution_count": 10,
     "metadata": {},
     "output_type": "execute_result"
    }
   ],
   "source": [
    "daily['VolUnCorrected']=daily['VolUnCorrected'].apply(eliminar_coma)\n",
    "daily['VolCorrected']=daily['VolCorrected'].apply(eliminar_coma)\n",
    "daily['Pressure']=daily['Pressure'].apply(eliminar_coma)\n",
    "daily['Temperature']=daily['Temperature'].apply(eliminar_coma)\n",
    "\n",
    "\n",
    "convert = {'id_sitio':'object',\n",
    "          'VolUnCorrected':float,\n",
    "          'VolCorrected':float,\n",
    "          'Pressure':float,\n",
    "          'Temperature':float,\n",
    "          'MaxPressure':float,\n",
    "          'MinPressure':float,\n",
    "          'MaxFlow':float,\n",
    "          'MinFlow':float,\n",
    "          'MaxTemp':float,\n",
    "          'MinTemp':float,\n",
    "          'id_RTU':'object'}\n",
    "daily = daily.astype(convert)\n",
    "daily.dtypes"
   ]
  },
  {
   "cell_type": "code",
   "execution_count": 11,
   "metadata": {},
   "outputs": [
    {
     "name": "stdout",
     "output_type": "stream",
     "text": [
      "Hay 306 id_sitio diferentes en la base de datos de daily\n",
      "Estos son:\n",
      "\n",
      "[34 163 40 41 50 56 58 59 60 64 65 67 69 70 72 73 74 75 78 80 86 87 90 91\n",
      " 92 94 95 97 98 99 100 101 103 104 105 111 112 113 129 151 152 153 154 155\n",
      " 156 157 158 159 161 162 164 165 166 168 169 170 42 51 71 76 102 106 124\n",
      " 167 131 132 160 35 36 37 66 81 88 107 127 130 79 89 96 108 115 116 117\n",
      " 119 120 121 122 125 126 133 135 171 176 53 62 16 18 45 46 47 48 49 52 57\n",
      " 118 26 77 39 301 303 304 305 306 307 309 310 311 312 314 315 316 318 319\n",
      " 320 321 323 324 325 327 329 330 331 332 333 334 335 336 338 339 340 341\n",
      " 342 343 344 346 347 348 349 350 351 352 353 354 355 356 357 358 359 361\n",
      " 363 364 365 366 367 368 369 370 372 373 374 136 328 362 308 172 173 174\n",
      " 14 25 44 55 7 29 2 4 5 6 8 9 10 11 17 19 20 21 22 24 27 28 30 31 32 33 43\n",
      " 54 137 13 12 302 177 63 371 376 345 150 114 381 317 382 123 138 140 142\n",
      " 143 360 383 384 378 385 386 375 387 388 377 389 391 390 38 392 322 393\n",
      " 380 3 23 379 313 15 337 326 144 145 141 146 61 68 394 395 396 397 398 180\n",
      " 184 181 186 179 183 182 147 178 399 400 403 401 402 149 404 406 407 410\n",
      " 405 408 409 148 189 191 190 185 188 412 414 417 415 411 413 416 420 419\n",
      " 421 424 418 422 423 425 426 427 429]\n"
     ]
    }
   ],
   "source": [
    "IDs_Sitio_daily = daily.id_sitio.unique()\n",
    "print('Hay {} id_sitio diferentes en la base de datos de daily'.format(len(IDs_Sitio_daily)))\n",
    "print('Estos son:\\n')\n",
    "print(IDs_Sitio_daily)"
   ]
  },
  {
   "cell_type": "markdown",
   "metadata": {},
   "source": [
    "Los ```id_sitio``` a seleccionar están desde el 151 al 170. Estos fueron seleccionado teniendo en cuenta la similitud en sus características. De esta forma queda la siguiente base de datos:\n",
    "\n"
   ]
  },
  {
   "cell_type": "code",
   "execution_count": 12,
   "metadata": {},
   "outputs": [
    {
     "data": {
      "text/html": [
       "<div>\n",
       "<style scoped>\n",
       "    .dataframe tbody tr th:only-of-type {\n",
       "        vertical-align: middle;\n",
       "    }\n",
       "\n",
       "    .dataframe tbody tr th {\n",
       "        vertical-align: top;\n",
       "    }\n",
       "\n",
       "    .dataframe thead th {\n",
       "        text-align: right;\n",
       "    }\n",
       "</style>\n",
       "<table border=\"1\" class=\"dataframe\">\n",
       "  <thead>\n",
       "    <tr style=\"text-align: right;\">\n",
       "      <th></th>\n",
       "      <th>id_sitio</th>\n",
       "      <th>Daily_Date</th>\n",
       "      <th>VolUnCorrected</th>\n",
       "      <th>VolCorrected</th>\n",
       "      <th>Pressure</th>\n",
       "      <th>Temperature</th>\n",
       "      <th>id_RTU</th>\n",
       "    </tr>\n",
       "  </thead>\n",
       "  <tbody>\n",
       "    <tr>\n",
       "      <th>0</th>\n",
       "      <td>34</td>\n",
       "      <td>2013-08-19 23:59:59</td>\n",
       "      <td>39.39</td>\n",
       "      <td>727.25</td>\n",
       "      <td>NaN</td>\n",
       "      <td>NaN</td>\n",
       "      <td>81</td>\n",
       "    </tr>\n",
       "    <tr>\n",
       "      <th>1</th>\n",
       "      <td>163</td>\n",
       "      <td>2013-08-21 23:59:59</td>\n",
       "      <td>1434.93</td>\n",
       "      <td>24170.80</td>\n",
       "      <td>NaN</td>\n",
       "      <td>NaN</td>\n",
       "      <td>3</td>\n",
       "    </tr>\n",
       "    <tr>\n",
       "      <th>2</th>\n",
       "      <td>40</td>\n",
       "      <td>2013-08-19 23:59:59</td>\n",
       "      <td>7709.26</td>\n",
       "      <td>69097.57</td>\n",
       "      <td>NaN</td>\n",
       "      <td>NaN</td>\n",
       "      <td>98</td>\n",
       "    </tr>\n",
       "    <tr>\n",
       "      <th>3</th>\n",
       "      <td>41</td>\n",
       "      <td>2013-08-19 23:59:59</td>\n",
       "      <td>404.14</td>\n",
       "      <td>7004.77</td>\n",
       "      <td>NaN</td>\n",
       "      <td>NaN</td>\n",
       "      <td>89</td>\n",
       "    </tr>\n",
       "    <tr>\n",
       "      <th>4</th>\n",
       "      <td>50</td>\n",
       "      <td>2013-08-19 23:59:59</td>\n",
       "      <td>3296.01</td>\n",
       "      <td>15331.19</td>\n",
       "      <td>NaN</td>\n",
       "      <td>NaN</td>\n",
       "      <td>87</td>\n",
       "    </tr>\n",
       "  </tbody>\n",
       "</table>\n",
       "</div>"
      ],
      "text/plain": [
       "  id_sitio           Daily_Date  VolUnCorrected  VolCorrected  Pressure  \\\n",
       "0       34  2013-08-19 23:59:59           39.39        727.25       NaN   \n",
       "1      163  2013-08-21 23:59:59         1434.93      24170.80       NaN   \n",
       "2       40  2013-08-19 23:59:59         7709.26      69097.57       NaN   \n",
       "3       41  2013-08-19 23:59:59          404.14       7004.77       NaN   \n",
       "4       50  2013-08-19 23:59:59         3296.01      15331.19       NaN   \n",
       "\n",
       "   Temperature id_RTU  \n",
       "0          NaN     81  \n",
       "1          NaN      3  \n",
       "2          NaN     98  \n",
       "3          NaN     89  \n",
       "4          NaN     87  "
      ]
     },
     "execution_count": 12,
     "metadata": {},
     "output_type": "execute_result"
    }
   ],
   "source": [
    "daily = daily[['id_sitio','Daily_Date','VolUnCorrected','VolCorrected','Pressure','Temperature','id_RTU']]\n",
    "daily.head()"
   ]
  },
  {
   "cell_type": "code",
   "execution_count": 13,
   "metadata": {},
   "outputs": [
    {
     "data": {
      "text/html": [
       "<div>\n",
       "<style scoped>\n",
       "    .dataframe tbody tr th:only-of-type {\n",
       "        vertical-align: middle;\n",
       "    }\n",
       "\n",
       "    .dataframe tbody tr th {\n",
       "        vertical-align: top;\n",
       "    }\n",
       "\n",
       "    .dataframe thead th {\n",
       "        text-align: right;\n",
       "    }\n",
       "</style>\n",
       "<table border=\"1\" class=\"dataframe\">\n",
       "  <thead>\n",
       "    <tr style=\"text-align: right;\">\n",
       "      <th></th>\n",
       "      <th>% de datos nulos</th>\n",
       "      <th>% de ceros</th>\n",
       "      <th>Tipo de datos</th>\n",
       "      <th># de valores diferentes</th>\n",
       "    </tr>\n",
       "  </thead>\n",
       "  <tbody>\n",
       "    <tr>\n",
       "      <th>id_sitio</th>\n",
       "      <td>0.000000</td>\n",
       "      <td>0.000000</td>\n",
       "      <td>object</td>\n",
       "      <td>306</td>\n",
       "    </tr>\n",
       "    <tr>\n",
       "      <th>Daily_Date</th>\n",
       "      <td>0.000000</td>\n",
       "      <td>0.000000</td>\n",
       "      <td>object</td>\n",
       "      <td>1907</td>\n",
       "    </tr>\n",
       "    <tr>\n",
       "      <th>VolUnCorrected</th>\n",
       "      <td>0.013102</td>\n",
       "      <td>5.477126</td>\n",
       "      <td>float64</td>\n",
       "      <td>114051</td>\n",
       "    </tr>\n",
       "    <tr>\n",
       "      <th>VolCorrected</th>\n",
       "      <td>0.017385</td>\n",
       "      <td>5.358452</td>\n",
       "      <td>float64</td>\n",
       "      <td>243108</td>\n",
       "    </tr>\n",
       "    <tr>\n",
       "      <th>Pressure</th>\n",
       "      <td>0.096753</td>\n",
       "      <td>1.574756</td>\n",
       "      <td>float64</td>\n",
       "      <td>21409</td>\n",
       "    </tr>\n",
       "    <tr>\n",
       "      <th>Temperature</th>\n",
       "      <td>0.096753</td>\n",
       "      <td>1.444492</td>\n",
       "      <td>float64</td>\n",
       "      <td>4189</td>\n",
       "    </tr>\n",
       "    <tr>\n",
       "      <th>id_RTU</th>\n",
       "      <td>0.066014</td>\n",
       "      <td>0.000000</td>\n",
       "      <td>object</td>\n",
       "      <td>310</td>\n",
       "    </tr>\n",
       "  </tbody>\n",
       "</table>\n",
       "</div>"
      ],
      "text/plain": [
       "                % de datos nulos  % de ceros Tipo de datos  \\\n",
       "id_sitio                0.000000    0.000000        object   \n",
       "Daily_Date              0.000000    0.000000        object   \n",
       "VolUnCorrected          0.013102    5.477126       float64   \n",
       "VolCorrected            0.017385    5.358452       float64   \n",
       "Pressure                0.096753    1.574756       float64   \n",
       "Temperature             0.096753    1.444492       float64   \n",
       "id_RTU                  0.066014    0.000000        object   \n",
       "\n",
       "                # de valores diferentes  \n",
       "id_sitio                            306  \n",
       "Daily_Date                         1907  \n",
       "VolUnCorrected                   114051  \n",
       "VolCorrected                     243108  \n",
       "Pressure                          21409  \n",
       "Temperature                        4189  \n",
       "id_RTU                              310  "
      ]
     },
     "execution_count": 13,
     "metadata": {},
     "output_type": "execute_result"
    }
   ],
   "source": [
    "mytable(daily)"
   ]
  },
  {
   "cell_type": "markdown",
   "metadata": {},
   "source": [
    "## Se crea una base de datos con todo el conjunto de interés"
   ]
  },
  {
   "cell_type": "code",
   "execution_count": 19,
   "metadata": {},
   "outputs": [
    {
     "data": {
      "text/html": [
       "<div>\n",
       "<style scoped>\n",
       "    .dataframe tbody tr th:only-of-type {\n",
       "        vertical-align: middle;\n",
       "    }\n",
       "\n",
       "    .dataframe tbody tr th {\n",
       "        vertical-align: top;\n",
       "    }\n",
       "\n",
       "    .dataframe thead th {\n",
       "        text-align: right;\n",
       "    }\n",
       "</style>\n",
       "<table border=\"1\" class=\"dataframe\">\n",
       "  <thead>\n",
       "    <tr style=\"text-align: right;\">\n",
       "      <th></th>\n",
       "      <th>id_sitio</th>\n",
       "      <th>Daily_Date</th>\n",
       "      <th>VolUnCorrected</th>\n",
       "      <th>VolCorrected</th>\n",
       "      <th>Pressure</th>\n",
       "      <th>Temperature</th>\n",
       "      <th>id_RTU</th>\n",
       "    </tr>\n",
       "  </thead>\n",
       "  <tbody>\n",
       "    <tr>\n",
       "      <th>1</th>\n",
       "      <td>163</td>\n",
       "      <td>2013-08-21 23:59:59</td>\n",
       "      <td>1434.93</td>\n",
       "      <td>24170.80</td>\n",
       "      <td>NaN</td>\n",
       "      <td>NaN</td>\n",
       "      <td>3</td>\n",
       "    </tr>\n",
       "    <tr>\n",
       "      <th>39</th>\n",
       "      <td>151</td>\n",
       "      <td>2013-08-19 23:59:59</td>\n",
       "      <td>995.00</td>\n",
       "      <td>16940.71</td>\n",
       "      <td>NaN</td>\n",
       "      <td>NaN</td>\n",
       "      <td>17</td>\n",
       "    </tr>\n",
       "    <tr>\n",
       "      <th>40</th>\n",
       "      <td>152</td>\n",
       "      <td>2013-08-19 23:59:59</td>\n",
       "      <td>650.00</td>\n",
       "      <td>10917.31</td>\n",
       "      <td>NaN</td>\n",
       "      <td>NaN</td>\n",
       "      <td>2</td>\n",
       "    </tr>\n",
       "    <tr>\n",
       "      <th>41</th>\n",
       "      <td>153</td>\n",
       "      <td>2013-08-19 23:59:59</td>\n",
       "      <td>664.01</td>\n",
       "      <td>11355.21</td>\n",
       "      <td>NaN</td>\n",
       "      <td>NaN</td>\n",
       "      <td>8</td>\n",
       "    </tr>\n",
       "    <tr>\n",
       "      <th>42</th>\n",
       "      <td>154</td>\n",
       "      <td>2013-08-19 23:59:59</td>\n",
       "      <td>370.00</td>\n",
       "      <td>6238.07</td>\n",
       "      <td>NaN</td>\n",
       "      <td>NaN</td>\n",
       "      <td>13</td>\n",
       "    </tr>\n",
       "  </tbody>\n",
       "</table>\n",
       "</div>"
      ],
      "text/plain": [
       "   id_sitio           Daily_Date  VolUnCorrected  VolCorrected  Pressure  \\\n",
       "1       163  2013-08-21 23:59:59         1434.93      24170.80       NaN   \n",
       "39      151  2013-08-19 23:59:59          995.00      16940.71       NaN   \n",
       "40      152  2013-08-19 23:59:59          650.00      10917.31       NaN   \n",
       "41      153  2013-08-19 23:59:59          664.01      11355.21       NaN   \n",
       "42      154  2013-08-19 23:59:59          370.00       6238.07       NaN   \n",
       "\n",
       "    Temperature id_RTU  \n",
       "1           NaN      3  \n",
       "39          NaN     17  \n",
       "40          NaN      2  \n",
       "41          NaN      8  \n",
       "42          NaN     13  "
      ]
     },
     "execution_count": 19,
     "metadata": {},
     "output_type": "execute_result"
    }
   ],
   "source": [
    "lista = list(range(151,171))\n",
    "data1 = daily[daily['id_sitio'].isin(lista)]\n",
    "data1.head()"
   ]
  },
  {
   "cell_type": "code",
   "execution_count": 20,
   "metadata": {},
   "outputs": [
    {
     "name": "stdout",
     "output_type": "stream",
     "text": [
      "Hay 20 id_sitio diferentes en la base de datos de daily\n",
      "Estos son:\n",
      "\n",
      "[163 151 152 153 154 155 156 157 158 159 161 162 164 165 166 168 169 170\n",
      " 167 160]\n"
     ]
    }
   ],
   "source": [
    "IDs_Sitio_daily1 = data1.id_sitio.unique()\n",
    "print('Hay {} id_sitio diferentes en la base de datos de daily'.format(len(IDs_Sitio_daily1)))\n",
    "print('Estos son:\\n')\n",
    "print(IDs_Sitio_daily1)"
   ]
  },
  {
   "cell_type": "code",
   "execution_count": 42,
   "metadata": {},
   "outputs": [
    {
     "data": {
      "text/plain": [
       "Text(0.5, 0.98, 'Grupo de interés')"
      ]
     },
     "execution_count": 42,
     "metadata": {},
     "output_type": "execute_result"
    },
    {
     "data": {
      "image/png": "[encoded data removed]",
      "text/plain": [
       "<Figure size 1008x288 with 4 Axes>"
      ]
     },
     "metadata": {
      "needs_background": "light"
     },
     "output_type": "display_data"
    }
   ],
   "source": [
    "numer = data1.select_dtypes([float])\n",
    "objeto= data1.select_dtypes(['object'])\n",
    "\n",
    "fig = plt.figure(figsize =(14,4))\n",
    "plt.subplot(1,2,1)\n",
    "sns.heatmap(numer.corr(method ='pearson'))\n",
    "plt.title('Pearson')\n",
    "plt.subplot(1,2,2)\n",
    "sns.heatmap(numer.corr(method ='spearman'))\n",
    "plt.title('Spearman')\n",
    "fig.suptitle('Grupo de interés')"
   ]
  },
  {
   "cell_type": "code",
   "execution_count": 66,
   "metadata": {},
   "outputs": [
    {
     "data": {
      "image/png": "[encoded data removed]",
      "text/plain": [
       "<Figure size 576x288 with 2 Axes>"
      ]
     },
     "metadata": {},
     "output_type": "display_data"
    }
   ],
   "source": [
    "fig = plt.figure(figsize=(8,4))\n",
    "plt.tight_layout()\n",
    "ax1=plt.subplot(1,2,1)\n",
    "sns.distplot(data1['Pressure'],label='presion')\n",
    "ax2=plt.subplot(1,2,2)\n",
    "sns.distplot(data1['Temperature'],label='temp')\n",
    "plt.legend()\n",
    "plt.grid()"
   ]
  },
  {
   "cell_type": "code",
   "execution_count": 78,
   "metadata": {},
   "outputs": [
    {
     "data": {
      "image/png": "[encoded data removed]",
      "text/plain": [
       "<Figure size 1080x720 with 4 Axes>"
      ]
     },
     "metadata": {},
     "output_type": "display_data"
    }
   ],
   "source": [
    "variables = ['VolUnCorrected','VolCorrected','Pressure','Temperature']\n",
    "f = plt.figure(figsize=(15,10))\n",
    "f.suptitle('Gráficas de densidad de probabilidad de las variables', y=0.93, fontsize=16)\n",
    "\n",
    "cont = 1\n",
    "for v in variables:\n",
    "    if cont == 2:\n",
    "        x = 'PSI'\n",
    "    elif cont == 3:\n",
    "        x = '°C'\n",
    "    else:\n",
    "        x = ''\n",
    "        \n",
    "    axarr = plt.subplot(2,2,cont)    \n",
    "    axarr.set_title(r'$\\bf{}$'.format(v), fontsize=14)\n",
    "    axarr.set_xlabel(x)\n",
    "    axarr.set_ylabel('Densidad')\n",
    "    axarr.grid(linestyle='--',b=True, which='major')\n",
    "\n",
    "    sns.distplot(data1[v],label=v)\n",
    "    cont = cont + 1\n",
    "    "
   ]
  },
  {
   "cell_type": "code",
   "execution_count": 52,
   "metadata": {},
   "outputs": [
    {
     "name": "stdout",
     "output_type": "stream",
     "text": [
      "VolUnCorrected yeah\n",
      "VolCorrected yeah\n",
      "Pressure yeah\n",
      "Temperature yeah\n"
     ]
    }
   ],
   "source": [
    "variables = ['VolUnCorrected','VolCorrected','Pressure','Temperature']\n",
    "\n",
    "for v in variables:\n",
    "    print(v)"
   ]
  },
  {
   "cell_type": "markdown",
   "metadata": {},
   "source": [
    "### Grupo 1"
   ]
  },
  {
   "cell_type": "code",
   "execution_count": 25,
   "metadata": {},
   "outputs": [
    {
     "data": {
      "text/html": [
       "<div>\n",
       "<style scoped>\n",
       "    .dataframe tbody tr th:only-of-type {\n",
       "        vertical-align: middle;\n",
       "    }\n",
       "\n",
       "    .dataframe tbody tr th {\n",
       "        vertical-align: top;\n",
       "    }\n",
       "\n",
       "    .dataframe thead th {\n",
       "        text-align: right;\n",
       "    }\n",
       "</style>\n",
       "<table border=\"1\" class=\"dataframe\">\n",
       "  <thead>\n",
       "    <tr style=\"text-align: right;\">\n",
       "      <th></th>\n",
       "      <th>id_sitio</th>\n",
       "      <th>Daily_Date</th>\n",
       "      <th>VolUnCorrected</th>\n",
       "      <th>VolCorrected</th>\n",
       "      <th>Pressure</th>\n",
       "      <th>Temperature</th>\n",
       "      <th>id_RTU</th>\n",
       "    </tr>\n",
       "  </thead>\n",
       "  <tbody>\n",
       "    <tr>\n",
       "      <th>41</th>\n",
       "      <td>153</td>\n",
       "      <td>2013-08-19 23:59:59</td>\n",
       "      <td>664.01</td>\n",
       "      <td>11355.21</td>\n",
       "      <td>NaN</td>\n",
       "      <td>NaN</td>\n",
       "      <td>8</td>\n",
       "    </tr>\n",
       "    <tr>\n",
       "      <th>42</th>\n",
       "      <td>154</td>\n",
       "      <td>2013-08-19 23:59:59</td>\n",
       "      <td>370.00</td>\n",
       "      <td>6238.07</td>\n",
       "      <td>NaN</td>\n",
       "      <td>NaN</td>\n",
       "      <td>13</td>\n",
       "    </tr>\n",
       "    <tr>\n",
       "      <th>45</th>\n",
       "      <td>157</td>\n",
       "      <td>2013-08-19 23:59:59</td>\n",
       "      <td>606.87</td>\n",
       "      <td>10347.95</td>\n",
       "      <td>NaN</td>\n",
       "      <td>NaN</td>\n",
       "      <td>5</td>\n",
       "    </tr>\n",
       "    <tr>\n",
       "      <th>52</th>\n",
       "      <td>165</td>\n",
       "      <td>2013-08-19 23:59:59</td>\n",
       "      <td>297.00</td>\n",
       "      <td>5149.09</td>\n",
       "      <td>NaN</td>\n",
       "      <td>NaN</td>\n",
       "      <td>15</td>\n",
       "    </tr>\n",
       "    <tr>\n",
       "      <th>103</th>\n",
       "      <td>153</td>\n",
       "      <td>2013-08-21 23:59:59</td>\n",
       "      <td>849.01</td>\n",
       "      <td>14217.33</td>\n",
       "      <td>NaN</td>\n",
       "      <td>NaN</td>\n",
       "      <td>8</td>\n",
       "    </tr>\n",
       "  </tbody>\n",
       "</table>\n",
       "</div>"
      ],
      "text/plain": [
       "    id_sitio           Daily_Date  VolUnCorrected  VolCorrected  Pressure  \\\n",
       "41       153  2013-08-19 23:59:59          664.01      11355.21       NaN   \n",
       "42       154  2013-08-19 23:59:59          370.00       6238.07       NaN   \n",
       "45       157  2013-08-19 23:59:59          606.87      10347.95       NaN   \n",
       "52       165  2013-08-19 23:59:59          297.00       5149.09       NaN   \n",
       "103      153  2013-08-21 23:59:59          849.01      14217.33       NaN   \n",
       "\n",
       "     Temperature id_RTU  \n",
       "41           NaN      8  \n",
       "42           NaN     13  \n",
       "45           NaN      5  \n",
       "52           NaN     15  \n",
       "103          NaN      8  "
      ]
     },
     "execution_count": 25,
     "metadata": {},
     "output_type": "execute_result"
    }
   ],
   "source": [
    "lista1 =  [153, 154, 157, 160, 165, 167]\n",
    "grupo1 = daily[daily['id_sitio'].isin(lista1)]\n",
    "grupo1.head()"
   ]
  },
  {
   "cell_type": "code",
   "execution_count": 26,
   "metadata": {},
   "outputs": [
    {
     "name": "stdout",
     "output_type": "stream",
     "text": [
      "Hay 6 id_sitio diferentes en la base de datos del grupo 1\n",
      "Estos son:\n",
      "\n",
      "[153 154 157 165 167 160]\n"
     ]
    }
   ],
   "source": [
    "IDs_Sitio_grupo1 = grupo1.id_sitio.unique()\n",
    "print('Hay {} id_sitio diferentes en la base de datos del grupo 1'.format(len(IDs_Sitio_grupo1)))\n",
    "print('Estos son:\\n')\n",
    "print(IDs_Sitio_grupo1)"
   ]
  },
  {
   "cell_type": "code",
   "execution_count": 40,
   "metadata": {},
   "outputs": [
    {
     "data": {
      "text/plain": [
       "Text(0.5, 0.98, 'Grupo1')"
      ]
     },
     "execution_count": 40,
     "metadata": {},
     "output_type": "execute_result"
    },
    {
     "data": {
      "image/png": "[encoded data removed]",
      "text/plain": [
       "<Figure size 1008x288 with 4 Axes>"
      ]
     },
     "metadata": {
      "needs_background": "light"
     },
     "output_type": "display_data"
    }
   ],
   "source": [
    "numer = grupo1.select_dtypes([float])\n",
    "#objeto= grupo1.select_dtypes(['object'])\n",
    "\n",
    "fig = plt.figure(figsize =(14,4))\n",
    "plt.subplot(1,2,1)\n",
    "sns.heatmap(numer.corr(method ='pearson'))\n",
    "plt.title('Pearson')\n",
    "plt.subplot(1,2,2)\n",
    "sns.heatmap(numer.corr(method ='spearman'))\n",
    "plt.title('Spearman')\n",
    "fig.suptitle('Grupo1')"
   ]
  },
  {
   "cell_type": "markdown",
   "metadata": {},
   "source": [
    "### Grupo 2"
   ]
  },
  {
   "cell_type": "code",
   "execution_count": 35,
   "metadata": {},
   "outputs": [
    {
     "data": {
      "text/html": [
       "<div>\n",
       "<style scoped>\n",
       "    .dataframe tbody tr th:only-of-type {\n",
       "        vertical-align: middle;\n",
       "    }\n",
       "\n",
       "    .dataframe tbody tr th {\n",
       "        vertical-align: top;\n",
       "    }\n",
       "\n",
       "    .dataframe thead th {\n",
       "        text-align: right;\n",
       "    }\n",
       "</style>\n",
       "<table border=\"1\" class=\"dataframe\">\n",
       "  <thead>\n",
       "    <tr style=\"text-align: right;\">\n",
       "      <th></th>\n",
       "      <th>id_sitio</th>\n",
       "      <th>Daily_Date</th>\n",
       "      <th>VolUnCorrected</th>\n",
       "      <th>VolCorrected</th>\n",
       "      <th>Pressure</th>\n",
       "      <th>Temperature</th>\n",
       "      <th>id_RTU</th>\n",
       "    </tr>\n",
       "  </thead>\n",
       "  <tbody>\n",
       "    <tr>\n",
       "      <th>1</th>\n",
       "      <td>163</td>\n",
       "      <td>2013-08-21 23:59:59</td>\n",
       "      <td>1434.93</td>\n",
       "      <td>24170.80</td>\n",
       "      <td>NaN</td>\n",
       "      <td>NaN</td>\n",
       "      <td>3</td>\n",
       "    </tr>\n",
       "    <tr>\n",
       "      <th>39</th>\n",
       "      <td>151</td>\n",
       "      <td>2013-08-19 23:59:59</td>\n",
       "      <td>995.00</td>\n",
       "      <td>16940.71</td>\n",
       "      <td>NaN</td>\n",
       "      <td>NaN</td>\n",
       "      <td>17</td>\n",
       "    </tr>\n",
       "    <tr>\n",
       "      <th>40</th>\n",
       "      <td>152</td>\n",
       "      <td>2013-08-19 23:59:59</td>\n",
       "      <td>650.00</td>\n",
       "      <td>10917.31</td>\n",
       "      <td>NaN</td>\n",
       "      <td>NaN</td>\n",
       "      <td>2</td>\n",
       "    </tr>\n",
       "    <tr>\n",
       "      <th>43</th>\n",
       "      <td>155</td>\n",
       "      <td>2013-08-19 23:59:59</td>\n",
       "      <td>888.33</td>\n",
       "      <td>15146.56</td>\n",
       "      <td>NaN</td>\n",
       "      <td>NaN</td>\n",
       "      <td>16</td>\n",
       "    </tr>\n",
       "    <tr>\n",
       "      <th>44</th>\n",
       "      <td>156</td>\n",
       "      <td>2013-08-19 23:59:59</td>\n",
       "      <td>463.81</td>\n",
       "      <td>7932.45</td>\n",
       "      <td>NaN</td>\n",
       "      <td>NaN</td>\n",
       "      <td>12</td>\n",
       "    </tr>\n",
       "  </tbody>\n",
       "</table>\n",
       "</div>"
      ],
      "text/plain": [
       "   id_sitio           Daily_Date  VolUnCorrected  VolCorrected  Pressure  \\\n",
       "1       163  2013-08-21 23:59:59         1434.93      24170.80       NaN   \n",
       "39      151  2013-08-19 23:59:59          995.00      16940.71       NaN   \n",
       "40      152  2013-08-19 23:59:59          650.00      10917.31       NaN   \n",
       "43      155  2013-08-19 23:59:59          888.33      15146.56       NaN   \n",
       "44      156  2013-08-19 23:59:59          463.81       7932.45       NaN   \n",
       "\n",
       "    Temperature id_RTU  \n",
       "1           NaN      3  \n",
       "39          NaN     17  \n",
       "40          NaN      2  \n",
       "43          NaN     16  \n",
       "44          NaN     12  "
      ]
     },
     "execution_count": 35,
     "metadata": {},
     "output_type": "execute_result"
    }
   ],
   "source": [
    "lista2 =  lista = [151, 152, 155, 156, 158, 159, 161, 162, 163, 164, 166, 168, 169, 170]\n",
    "grupo2 = daily[daily['id_sitio'].isin(lista2)]\n",
    "grupo2.head()"
   ]
  },
  {
   "cell_type": "code",
   "execution_count": 36,
   "metadata": {},
   "outputs": [
    {
     "name": "stdout",
     "output_type": "stream",
     "text": [
      "Hay 14 id_sitio diferentes en la base de datos del grupo 2\n",
      "Estos son:\n",
      "\n",
      "[163 151 152 155 156 158 159 161 162 164 166 168 169 170]\n"
     ]
    }
   ],
   "source": [
    "IDs_Sitio_grupo2 = grupo2.id_sitio.unique()\n",
    "print('Hay {} id_sitio diferentes en la base de datos del grupo 2'.format(len(IDs_Sitio_grupo2)))\n",
    "print('Estos son:\\n')\n",
    "print(IDs_Sitio_grupo2)"
   ]
  },
  {
   "cell_type": "code",
   "execution_count": 41,
   "metadata": {},
   "outputs": [
    {
     "data": {
      "text/plain": [
       "Text(0.5, 0.98, 'Grupo2')"
      ]
     },
     "execution_count": 41,
     "metadata": {},
     "output_type": "execute_result"
    },
    {
     "data": {
      "image/png": "[encoded data removed]",
      "text/plain": [
       "<Figure size 1008x288 with 4 Axes>"
      ]
     },
     "metadata": {
      "needs_background": "light"
     },
     "output_type": "display_data"
    }
   ],
   "source": [
    "numer = grupo2.select_dtypes([float])\n",
    "#objeto= grupo1.select_dtypes(['object'])\n",
    "\n",
    "fig = plt.figure(figsize =(14,4))\n",
    "plt.subplot(1,2,1)\n",
    "sns.heatmap(numer.corr(method ='pearson'))\n",
    "plt.title('Pearson')\n",
    "plt.subplot(1,2,2)\n",
    "sns.heatmap(numer.corr(method ='spearman'))\n",
    "plt.title('Spearman')\n",
    "fig.suptitle('Grupo2')"
   ]
  },
  {
   "cell_type": "code",
   "execution_count": 80,
   "metadata": {},
   "outputs": [
    {
     "data": {
      "image/png": "[encoded data removed]",
      "text/plain": [
       "<Figure size 1080x720 with 4 Axes>"
      ]
     },
     "metadata": {},
     "output_type": "display_data"
    }
   ],
   "source": [
    "variables = ['VolUnCorrected','VolCorrected','Pressure','Temperature']\n",
    "f = plt.figure(figsize=(15,10))\n",
    "f.suptitle('Gráficas de densidad de probabilidad de las variables', y=0.93, fontsize=16)\n",
    "\n",
    "cont = 1\n",
    "for v in variables:\n",
    "    if cont == 2:\n",
    "        x = 'PSI'\n",
    "    elif cont == 3:\n",
    "        x = '°C'\n",
    "    else:\n",
    "        x = ''\n",
    "        \n",
    "    axarr = plt.subplot(2,2,cont)    \n",
    "    axarr.set_title(r'$\\bf{}$'.format(v), fontsize=14)\n",
    "    axarr.set_xlabel(x)\n",
    "    axarr.set_ylabel('Densidad')\n",
    "    axarr.grid(linestyle='--',b=True, which='major')\n",
    "\n",
    "    sns.distplot(grupo1[v],label='Grupo 1')\n",
    "    sns.distplot(grupo2[v],label='Grupo 2')\n",
    "    cont = cont + 1"
   ]
  },
  {
   "cell_type": "markdown",
   "metadata": {},
   "source": [
    "## Aquí se crea una base de datos para cada sitio de interés"
   ]
  },
  {
   "cell_type": "code",
   "execution_count": 14,
   "metadata": {},
   "outputs": [
    {
     "name": "stdout",
     "output_type": "stream",
     "text": [
      "El tamaño de la base de datos del id_sitio 151 es (1619, 7)\n",
      "El tamaño de la base de datos del id_sitio 152 es (1605, 7)\n",
      "El tamaño de la base de datos del id_sitio 153 es (1618, 7)\n",
      "El tamaño de la base de datos del id_sitio 154 es (1619, 7)\n",
      "El tamaño de la base de datos del id_sitio 155 es (1383, 7)\n",
      "El tamaño de la base de datos del id_sitio 156 es (1620, 7)\n",
      "El tamaño de la base de datos del id_sitio 157 es (1617, 7)\n",
      "El tamaño de la base de datos del id_sitio 158 es (1615, 7)\n",
      "El tamaño de la base de datos del id_sitio 159 es (1560, 7)\n",
      "El tamaño de la base de datos del id_sitio 160 es (1613, 7)\n",
      "El tamaño de la base de datos del id_sitio 161 es (1618, 7)\n",
      "El tamaño de la base de datos del id_sitio 162 es (1588, 7)\n",
      "El tamaño de la base de datos del id_sitio 163 es (1618, 7)\n",
      "El tamaño de la base de datos del id_sitio 164 es (1620, 7)\n",
      "El tamaño de la base de datos del id_sitio 165 es (1618, 7)\n",
      "El tamaño de la base de datos del id_sitio 166 es (1621, 7)\n",
      "El tamaño de la base de datos del id_sitio 167 es (1618, 7)\n",
      "El tamaño de la base de datos del id_sitio 169 es (1619, 7)\n",
      "El tamaño de la base de datos del id_sitio 170 es (1615, 7)\n"
     ]
    }
   ],
   "source": [
    "d={}\n",
    "for i in range(151,171,1):\n",
    "    if i!=168:\n",
    "        d['daily_id_sitio_'+str(i)] = (daily[daily['id_sitio']==i]).copy()\n",
    "        d['daily_id_sitio_'+str(i)]['Daily_Date'] = pd.to_datetime(d['daily_id_sitio_'+str(i)]['Daily_Date'])\n",
    "        N=d['daily_id_sitio_'+str(i)].shape\n",
    "        print('El tamaño de la base de datos del id_sitio {} es {}'.format(i,N))   \n",
    "    "
   ]
  },
  {
   "cell_type": "code",
   "execution_count": 15,
   "metadata": {},
   "outputs": [
    {
     "name": "stdout",
     "output_type": "stream",
     "text": [
      "El id_sitio 151 está asociado al id_RTU [17.0]\n",
      "El id_sitio 152 está asociado al id_RTU [2.0]\n",
      "El id_sitio 153 está asociado al id_RTU [8.0]\n",
      "El id_sitio 154 está asociado al id_RTU [13.0]\n",
      "El id_sitio 155 está asociado al id_RTU [16.0]\n",
      "El id_sitio 156 está asociado al id_RTU [12.0]\n",
      "El id_sitio 157 está asociado al id_RTU [5.0]\n",
      "El id_sitio 158 está asociado al id_RTU [6.0]\n",
      "El id_sitio 159 está asociado al id_RTU [4.0]\n",
      "El id_sitio 160 está asociado al id_RTU [11.0]\n",
      "El id_sitio 161 está asociado al id_RTU [10.0]\n",
      "El id_sitio 162 está asociado al id_RTU [18.0]\n",
      "El id_sitio 163 está asociado al id_RTU [3.0]\n",
      "El id_sitio 164 está asociado al id_RTU [9.0]\n",
      "El id_sitio 165 está asociado al id_RTU [15.0 nan]\n",
      "El id_sitio 166 está asociado al id_RTU [1.0]\n",
      "El id_sitio 167 está asociado al id_RTU [7.0]\n",
      "El id_sitio 169 está asociado al id_RTU [19.0]\n",
      "El id_sitio 170 está asociado al id_RTU [20.0]\n"
     ]
    }
   ],
   "source": [
    "for i in range(151,171,1):\n",
    "    if i!=168:\n",
    "        uniq=d['daily_id_sitio_'+str(i)]['id_RTU'].unique()\n",
    "        print('El id_sitio {} está asociado al id_RTU {}'.format(i,uniq))  "
   ]
  },
  {
   "cell_type": "code",
   "execution_count": 16,
   "metadata": {},
   "outputs": [
    {
     "data": {
      "text/html": [
       "<div>\n",
       "<style scoped>\n",
       "    .dataframe tbody tr th:only-of-type {\n",
       "        vertical-align: middle;\n",
       "    }\n",
       "\n",
       "    .dataframe tbody tr th {\n",
       "        vertical-align: top;\n",
       "    }\n",
       "\n",
       "    .dataframe thead th {\n",
       "        text-align: right;\n",
       "    }\n",
       "</style>\n",
       "<table border=\"1\" class=\"dataframe\">\n",
       "  <thead>\n",
       "    <tr style=\"text-align: right;\">\n",
       "      <th></th>\n",
       "      <th>% de datos nulos</th>\n",
       "      <th>% de ceros</th>\n",
       "      <th>Tipo de datos</th>\n",
       "      <th># de valores diferentes</th>\n",
       "    </tr>\n",
       "  </thead>\n",
       "  <tbody>\n",
       "    <tr>\n",
       "      <th>id_sitio</th>\n",
       "      <td>0.000000</td>\n",
       "      <td>0.000000</td>\n",
       "      <td>object</td>\n",
       "      <td>1</td>\n",
       "    </tr>\n",
       "    <tr>\n",
       "      <th>Daily_Date</th>\n",
       "      <td>0.000000</td>\n",
       "      <td>0.000000</td>\n",
       "      <td>datetime64[ns]</td>\n",
       "      <td>1614</td>\n",
       "    </tr>\n",
       "    <tr>\n",
       "      <th>VolUnCorrected</th>\n",
       "      <td>0.000000</td>\n",
       "      <td>2.101360</td>\n",
       "      <td>float64</td>\n",
       "      <td>1156</td>\n",
       "    </tr>\n",
       "    <tr>\n",
       "      <th>VolCorrected</th>\n",
       "      <td>0.000000</td>\n",
       "      <td>2.224969</td>\n",
       "      <td>float64</td>\n",
       "      <td>1575</td>\n",
       "    </tr>\n",
       "    <tr>\n",
       "      <th>Pressure</th>\n",
       "      <td>0.247219</td>\n",
       "      <td>0.000000</td>\n",
       "      <td>float64</td>\n",
       "      <td>822</td>\n",
       "    </tr>\n",
       "    <tr>\n",
       "      <th>Temperature</th>\n",
       "      <td>0.247219</td>\n",
       "      <td>0.061805</td>\n",
       "      <td>float64</td>\n",
       "      <td>405</td>\n",
       "    </tr>\n",
       "    <tr>\n",
       "      <th>id_RTU</th>\n",
       "      <td>0.123609</td>\n",
       "      <td>0.000000</td>\n",
       "      <td>object</td>\n",
       "      <td>1</td>\n",
       "    </tr>\n",
       "  </tbody>\n",
       "</table>\n",
       "</div>"
      ],
      "text/plain": [
       "                % de datos nulos  % de ceros   Tipo de datos  \\\n",
       "id_sitio                0.000000    0.000000          object   \n",
       "Daily_Date              0.000000    0.000000  datetime64[ns]   \n",
       "VolUnCorrected          0.000000    2.101360         float64   \n",
       "VolCorrected            0.000000    2.224969         float64   \n",
       "Pressure                0.247219    0.000000         float64   \n",
       "Temperature             0.247219    0.061805         float64   \n",
       "id_RTU                  0.123609    0.000000          object   \n",
       "\n",
       "                # de valores diferentes  \n",
       "id_sitio                              1  \n",
       "Daily_Date                         1614  \n",
       "VolUnCorrected                     1156  \n",
       "VolCorrected                       1575  \n",
       "Pressure                            822  \n",
       "Temperature                         405  \n",
       "id_RTU                                1  "
      ]
     },
     "execution_count": 16,
     "metadata": {},
     "output_type": "execute_result"
    }
   ],
   "source": [
    "mytable(d['daily_id_sitio_165'])"
   ]
  }
 ],
 "metadata": {
  "kernelspec": {
   "display_name": "Python 3",
   "language": "python",
   "name": "python3"
  },
  "language_info": {
   "codemirror_mode": {
    "name": "ipython",
    "version": 3
   },
   "file_extension": ".py",
   "mimetype": "text/x-python",
   "name": "python",
   "nbconvert_exporter": "python",
   "pygments_lexer": "ipython3",
   "version": "3.8.3"
  }
 },
 "nbformat": 4,
 "nbformat_minor": 4
}
