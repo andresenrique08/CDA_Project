{
 "cells": [
  {
   "cell_type": "markdown",
   "metadata": {},
   "source": [
    "## Bienvenidos a la clase de ANOVA"
   ]
  },
  {
   "cell_type": "markdown",
   "metadata": {},
   "source": [
    "## Teoría"
   ]
  },
  {
   "cell_type": "markdown",
   "metadata": {},
   "source": [
    "\n",
    "<h3>¿Qué es ANOVA (ANalysis Of VAriance)?</h3><ol>\n",
    "<li>Se utiliza para comparar la media de 2 grupos o más (el t-test solo compara dos grupos).</li>\n",
    "<li>La diferencia de medias se basa en en análisis de la varianza.</li>\n",
    "<li>Existen dos principales tipos: ANOVA de una vía (un factor) y de dos vías (dos factores). Un factor es una variable independiente.</li>\n",
    "</ol>\n"
   ]
  },
  {
   "cell_type": "markdown",
   "metadata": {},
   "source": [
    "\n",
    "<h3>Hipótesis de ANOVA</h3><ol>\n",
    "<li>Hipótesis Nula: La media de los grupos son iguales (No hay variación significativa en la media de los grupos)</li>\n",
    "<li>Hipótesis Alterna: Al menos una de las medias es diferente a las demás.</li>\n",
    "</ol>\n",
    "\n",
    "$H_0: \\forall i,j | \\mu_i = \\mu_j$ <br>\n",
    "$H_1: \\exists i,j | \\mu_i \\neq \\mu_j$"
   ]
  },
  {
   "cell_type": "markdown",
   "metadata": {},
   "source": [
    "<h3>Supuestos de ANOVA</h3><ol>\n",
    "<li>Los residuos (error experimental) están distribuidos normalmente. (Test Shapiro Wilks)</li>\n",
    "<li>Homoscedasticidad (las varianzas son iguales entre los tratamientos) (Test Levene o Bartlett)</li>\n",
    "<li>Las observaciones son independientes e identicamente distribuidas.</li>\n",
    "</ol>"
   ]
  },
  {
   "cell_type": "markdown",
   "metadata": {},
   "source": [
    "\n",
    "<h3>¿Cómo funciona ANOVA?</h3><ol>\n",
    "<li>Tamaño de la muestra: Cantidad igual de datos en cada tratamiento.</li>\n",
    "<li> Calcular el MS de cada grupo $ MS_{grupo} = \\frac{\\sum_{i \\in a}SS_i}{k}$: k = niveles-1.  Son los grados de libertad (df) para un grupo.</li>\n",
    "<li> Calcular MSE:  $MSE =  \\frac{\\sum_{i \\in a}SS_{error}}{num_{datos}-k}$</li>\n",
    "<li>Calcular F-value $\\frac{MS_{grupo}}{MSE}$</li>\n",
    "</ol>\n"
   ]
  },
  {
   "cell_type": "markdown",
   "metadata": {},
   "source": [
    "\n",
    "<h3>ANOVA de una vía</h3>\n"
   ]
  },
  {
   "cell_type": "code",
   "execution_count": 1,
   "metadata": {},
   "outputs": [],
   "source": [
    "# load packages\n",
    "import pandas as pd\n",
    "import scipy.stats as stats\n",
    "import statsmodels.api as sm\n",
    "from statsmodels.formula.api import ols\n",
    "from statsmodels.stats.multicomp import pairwise_tukeyhsd\n",
    "import seaborn as sns\n",
    "# load data file\n",
    "d = pd.read_csv(\"https://reneshbedre.github.io/assets/posts/anova/onewayanova.txt\", sep=\"\\t\")"
   ]
  },
  {
   "cell_type": "code",
   "execution_count": 2,
   "metadata": {},
   "outputs": [
    {
     "data": {
      "text/html": [
       "<div>\n",
       "<style scoped>\n",
       "    .dataframe tbody tr th:only-of-type {\n",
       "        vertical-align: middle;\n",
       "    }\n",
       "\n",
       "    .dataframe tbody tr th {\n",
       "        vertical-align: top;\n",
       "    }\n",
       "\n",
       "    .dataframe thead th {\n",
       "        text-align: right;\n",
       "    }\n",
       "</style>\n",
       "<table border=\"1\" class=\"dataframe\">\n",
       "  <thead>\n",
       "    <tr style=\"text-align: right;\">\n",
       "      <th></th>\n",
       "      <th>A</th>\n",
       "      <th>B</th>\n",
       "      <th>C</th>\n",
       "      <th>D</th>\n",
       "    </tr>\n",
       "  </thead>\n",
       "  <tbody>\n",
       "    <tr>\n",
       "      <th>0</th>\n",
       "      <td>25</td>\n",
       "      <td>45</td>\n",
       "      <td>30</td>\n",
       "      <td>54</td>\n",
       "    </tr>\n",
       "    <tr>\n",
       "      <th>1</th>\n",
       "      <td>30</td>\n",
       "      <td>55</td>\n",
       "      <td>29</td>\n",
       "      <td>60</td>\n",
       "    </tr>\n",
       "    <tr>\n",
       "      <th>2</th>\n",
       "      <td>28</td>\n",
       "      <td>29</td>\n",
       "      <td>33</td>\n",
       "      <td>51</td>\n",
       "    </tr>\n",
       "    <tr>\n",
       "      <th>3</th>\n",
       "      <td>36</td>\n",
       "      <td>56</td>\n",
       "      <td>37</td>\n",
       "      <td>62</td>\n",
       "    </tr>\n",
       "    <tr>\n",
       "      <th>4</th>\n",
       "      <td>29</td>\n",
       "      <td>40</td>\n",
       "      <td>27</td>\n",
       "      <td>73</td>\n",
       "    </tr>\n",
       "  </tbody>\n",
       "</table>\n",
       "</div>"
      ],
      "text/plain": [
       "    A   B   C   D\n",
       "0  25  45  30  54\n",
       "1  30  55  29  60\n",
       "2  28  29  33  51\n",
       "3  36  56  37  62\n",
       "4  29  40  27  73"
      ]
     },
     "execution_count": 2,
     "metadata": {},
     "output_type": "execute_result"
    }
   ],
   "source": [
    "d.head()"
   ]
  },
  {
   "cell_type": "markdown",
   "metadata": {},
   "source": [
    "<p>Aquí, hay cuatro tratamientos (A, B, C y D), que son grupos para el análisis ANOVA. Los tratamientos son variables independientes y se denominan factor. Como hay cuatro tipos de tratamientos, el factor de tratamiento tiene cuatro niveles.</p>"
   ]
  },
  {
   "cell_type": "markdown",
   "metadata": {},
   "source": [
    "\n",
    "<p>Para este diseño experimental, solo hay un factor (tratamientos) o una variable independiente para evaluar, y por lo tanto, ANOVA a una vía es suficiente.</p>\n"
   ]
  },
  {
   "cell_type": "markdown",
   "metadata": {},
   "source": [
    "<h3 id=\"AnÃ¡lisis-descriptivo\">Análisis descriptivo</h3>"
   ]
  },
  {
   "cell_type": "code",
   "execution_count": 3,
   "metadata": {},
   "outputs": [
    {
     "data": {
      "text/plain": [
       "<matplotlib.axes._subplots.AxesSubplot at 0x14d8c86d588>"
      ]
     },
     "execution_count": 3,
     "metadata": {},
     "output_type": "execute_result"
    },
    {
     "data": {
      "image/png": "[encoded data removed]",
      "text/plain": [
       "<Figure size 432x288 with 1 Axes>"
      ]
     },
     "metadata": {
      "needs_background": "light"
     },
     "output_type": "display_data"
    }
   ],
   "source": [
    "d.boxplot(column=['A', 'B', 'C', 'D'], grid=False)"
   ]
  },
  {
   "cell_type": "markdown",
   "metadata": {},
   "source": [
    "Las funciones ``stats.f_oneway`` recibe los grupos y retorna el F-value y el p-value."
   ]
  },
  {
   "cell_type": "code",
   "execution_count": 4,
   "metadata": {},
   "outputs": [
    {
     "name": "stdout",
     "output_type": "stream",
     "text": [
      "17.492810457516338 2.639241146210922e-05\n"
     ]
    }
   ],
   "source": [
    "fvalue, pvalue = stats.f_oneway(d['A'], d['B'], d['C'], d['D'])\n",
    "print(fvalue, pvalue)"
   ]
  },
  {
   "cell_type": "code",
   "execution_count": 6,
   "metadata": {},
   "outputs": [
    {
     "data": {
      "text/html": [
       "<div>\n",
       "<style scoped>\n",
       "    .dataframe tbody tr th:only-of-type {\n",
       "        vertical-align: middle;\n",
       "    }\n",
       "\n",
       "    .dataframe tbody tr th {\n",
       "        vertical-align: top;\n",
       "    }\n",
       "\n",
       "    .dataframe thead th {\n",
       "        text-align: right;\n",
       "    }\n",
       "</style>\n",
       "<table border=\"1\" class=\"dataframe\">\n",
       "  <thead>\n",
       "    <tr style=\"text-align: right;\">\n",
       "      <th></th>\n",
       "      <th>index</th>\n",
       "      <th>variable</th>\n",
       "      <th>value</th>\n",
       "    </tr>\n",
       "  </thead>\n",
       "  <tbody>\n",
       "    <tr>\n",
       "      <th>0</th>\n",
       "      <td>0</td>\n",
       "      <td>A</td>\n",
       "      <td>25</td>\n",
       "    </tr>\n",
       "    <tr>\n",
       "      <th>1</th>\n",
       "      <td>1</td>\n",
       "      <td>A</td>\n",
       "      <td>30</td>\n",
       "    </tr>\n",
       "    <tr>\n",
       "      <th>2</th>\n",
       "      <td>2</td>\n",
       "      <td>A</td>\n",
       "      <td>28</td>\n",
       "    </tr>\n",
       "    <tr>\n",
       "      <th>3</th>\n",
       "      <td>3</td>\n",
       "      <td>A</td>\n",
       "      <td>36</td>\n",
       "    </tr>\n",
       "    <tr>\n",
       "      <th>4</th>\n",
       "      <td>4</td>\n",
       "      <td>A</td>\n",
       "      <td>29</td>\n",
       "    </tr>\n",
       "    <tr>\n",
       "      <th>5</th>\n",
       "      <td>0</td>\n",
       "      <td>B</td>\n",
       "      <td>45</td>\n",
       "    </tr>\n",
       "    <tr>\n",
       "      <th>6</th>\n",
       "      <td>1</td>\n",
       "      <td>B</td>\n",
       "      <td>55</td>\n",
       "    </tr>\n",
       "    <tr>\n",
       "      <th>7</th>\n",
       "      <td>2</td>\n",
       "      <td>B</td>\n",
       "      <td>29</td>\n",
       "    </tr>\n",
       "    <tr>\n",
       "      <th>8</th>\n",
       "      <td>3</td>\n",
       "      <td>B</td>\n",
       "      <td>56</td>\n",
       "    </tr>\n",
       "    <tr>\n",
       "      <th>9</th>\n",
       "      <td>4</td>\n",
       "      <td>B</td>\n",
       "      <td>40</td>\n",
       "    </tr>\n",
       "    <tr>\n",
       "      <th>10</th>\n",
       "      <td>0</td>\n",
       "      <td>C</td>\n",
       "      <td>30</td>\n",
       "    </tr>\n",
       "    <tr>\n",
       "      <th>11</th>\n",
       "      <td>1</td>\n",
       "      <td>C</td>\n",
       "      <td>29</td>\n",
       "    </tr>\n",
       "    <tr>\n",
       "      <th>12</th>\n",
       "      <td>2</td>\n",
       "      <td>C</td>\n",
       "      <td>33</td>\n",
       "    </tr>\n",
       "    <tr>\n",
       "      <th>13</th>\n",
       "      <td>3</td>\n",
       "      <td>C</td>\n",
       "      <td>37</td>\n",
       "    </tr>\n",
       "    <tr>\n",
       "      <th>14</th>\n",
       "      <td>4</td>\n",
       "      <td>C</td>\n",
       "      <td>27</td>\n",
       "    </tr>\n",
       "    <tr>\n",
       "      <th>15</th>\n",
       "      <td>0</td>\n",
       "      <td>D</td>\n",
       "      <td>54</td>\n",
       "    </tr>\n",
       "    <tr>\n",
       "      <th>16</th>\n",
       "      <td>1</td>\n",
       "      <td>D</td>\n",
       "      <td>60</td>\n",
       "    </tr>\n",
       "    <tr>\n",
       "      <th>17</th>\n",
       "      <td>2</td>\n",
       "      <td>D</td>\n",
       "      <td>51</td>\n",
       "    </tr>\n",
       "    <tr>\n",
       "      <th>18</th>\n",
       "      <td>3</td>\n",
       "      <td>D</td>\n",
       "      <td>62</td>\n",
       "    </tr>\n",
       "    <tr>\n",
       "      <th>19</th>\n",
       "      <td>4</td>\n",
       "      <td>D</td>\n",
       "      <td>73</td>\n",
       "    </tr>\n",
       "  </tbody>\n",
       "</table>\n",
       "</div>"
      ],
      "text/plain": [
       "    index variable  value\n",
       "0       0        A     25\n",
       "1       1        A     30\n",
       "2       2        A     28\n",
       "3       3        A     36\n",
       "4       4        A     29\n",
       "5       0        B     45\n",
       "6       1        B     55\n",
       "7       2        B     29\n",
       "8       3        B     56\n",
       "9       4        B     40\n",
       "10      0        C     30\n",
       "11      1        C     29\n",
       "12      2        C     33\n",
       "13      3        C     37\n",
       "14      4        C     27\n",
       "15      0        D     54\n",
       "16      1        D     60\n",
       "17      2        D     51\n",
       "18      3        D     62\n",
       "19      4        D     73"
      ]
     },
     "metadata": {},
     "output_type": "display_data"
    },
    {
     "data": {
      "text/html": [
       "<div>\n",
       "<style scoped>\n",
       "    .dataframe tbody tr th:only-of-type {\n",
       "        vertical-align: middle;\n",
       "    }\n",
       "\n",
       "    .dataframe tbody tr th {\n",
       "        vertical-align: top;\n",
       "    }\n",
       "\n",
       "    .dataframe thead th {\n",
       "        text-align: right;\n",
       "    }\n",
       "</style>\n",
       "<table border=\"1\" class=\"dataframe\">\n",
       "  <thead>\n",
       "    <tr style=\"text-align: right;\">\n",
       "      <th></th>\n",
       "      <th>sum_sq</th>\n",
       "      <th>df</th>\n",
       "      <th>F</th>\n",
       "      <th>PR(&gt;F)</th>\n",
       "    </tr>\n",
       "  </thead>\n",
       "  <tbody>\n",
       "    <tr>\n",
       "      <th>C(treatments)</th>\n",
       "      <td>3010.95</td>\n",
       "      <td>3.0</td>\n",
       "      <td>17.49281</td>\n",
       "      <td>0.000026</td>\n",
       "    </tr>\n",
       "    <tr>\n",
       "      <th>Residual</th>\n",
       "      <td>918.00</td>\n",
       "      <td>16.0</td>\n",
       "      <td>NaN</td>\n",
       "      <td>NaN</td>\n",
       "    </tr>\n",
       "  </tbody>\n",
       "</table>\n",
       "</div>"
      ],
      "text/plain": [
       "                sum_sq    df         F    PR(>F)\n",
       "C(treatments)  3010.95   3.0  17.49281  0.000026\n",
       "Residual        918.00  16.0       NaN       NaN"
      ]
     },
     "execution_count": 6,
     "metadata": {},
     "output_type": "execute_result"
    }
   ],
   "source": [
    "# reacomoda los datos para que el paquede lo pueda leer \n",
    "d_melt = pd.melt(d.reset_index(), id_vars=['index'], value_vars=['A', 'B', 'C', 'D'])\n",
    "display(d_melt)\n",
    "# Reemplaza el no,bre de las columnas\n",
    "d_melt.columns = ['index', 'treatments', 'value']\n",
    "# Modelo Ordinary Least Squares (OLS)\n",
    "model = ols('value ~ C(treatments)', data=d_melt).fit()\n",
    "anova_table = sm.stats.anova_lm(model, typ=2)\n",
    "anova_table"
   ]
  },
  {
   "cell_type": "code",
   "execution_count": 7,
   "metadata": {},
   "outputs": [
    {
     "data": {
      "text/html": [
       "<div>\n",
       "<style scoped>\n",
       "    .dataframe tbody tr th:only-of-type {\n",
       "        vertical-align: middle;\n",
       "    }\n",
       "\n",
       "    .dataframe tbody tr th {\n",
       "        vertical-align: top;\n",
       "    }\n",
       "\n",
       "    .dataframe thead th {\n",
       "        text-align: right;\n",
       "    }\n",
       "</style>\n",
       "<table border=\"1\" class=\"dataframe\">\n",
       "  <thead>\n",
       "    <tr style=\"text-align: right;\">\n",
       "      <th></th>\n",
       "      <th>index</th>\n",
       "      <th>treatments</th>\n",
       "      <th>value</th>\n",
       "    </tr>\n",
       "  </thead>\n",
       "  <tbody>\n",
       "    <tr>\n",
       "      <th>0</th>\n",
       "      <td>0</td>\n",
       "      <td>A</td>\n",
       "      <td>25</td>\n",
       "    </tr>\n",
       "    <tr>\n",
       "      <th>1</th>\n",
       "      <td>1</td>\n",
       "      <td>A</td>\n",
       "      <td>30</td>\n",
       "    </tr>\n",
       "    <tr>\n",
       "      <th>2</th>\n",
       "      <td>2</td>\n",
       "      <td>A</td>\n",
       "      <td>28</td>\n",
       "    </tr>\n",
       "    <tr>\n",
       "      <th>3</th>\n",
       "      <td>3</td>\n",
       "      <td>A</td>\n",
       "      <td>36</td>\n",
       "    </tr>\n",
       "    <tr>\n",
       "      <th>4</th>\n",
       "      <td>4</td>\n",
       "      <td>A</td>\n",
       "      <td>29</td>\n",
       "    </tr>\n",
       "    <tr>\n",
       "      <th>5</th>\n",
       "      <td>0</td>\n",
       "      <td>B</td>\n",
       "      <td>45</td>\n",
       "    </tr>\n",
       "    <tr>\n",
       "      <th>6</th>\n",
       "      <td>1</td>\n",
       "      <td>B</td>\n",
       "      <td>55</td>\n",
       "    </tr>\n",
       "    <tr>\n",
       "      <th>7</th>\n",
       "      <td>2</td>\n",
       "      <td>B</td>\n",
       "      <td>29</td>\n",
       "    </tr>\n",
       "    <tr>\n",
       "      <th>8</th>\n",
       "      <td>3</td>\n",
       "      <td>B</td>\n",
       "      <td>56</td>\n",
       "    </tr>\n",
       "    <tr>\n",
       "      <th>9</th>\n",
       "      <td>4</td>\n",
       "      <td>B</td>\n",
       "      <td>40</td>\n",
       "    </tr>\n",
       "    <tr>\n",
       "      <th>10</th>\n",
       "      <td>0</td>\n",
       "      <td>C</td>\n",
       "      <td>30</td>\n",
       "    </tr>\n",
       "    <tr>\n",
       "      <th>11</th>\n",
       "      <td>1</td>\n",
       "      <td>C</td>\n",
       "      <td>29</td>\n",
       "    </tr>\n",
       "    <tr>\n",
       "      <th>12</th>\n",
       "      <td>2</td>\n",
       "      <td>C</td>\n",
       "      <td>33</td>\n",
       "    </tr>\n",
       "    <tr>\n",
       "      <th>13</th>\n",
       "      <td>3</td>\n",
       "      <td>C</td>\n",
       "      <td>37</td>\n",
       "    </tr>\n",
       "    <tr>\n",
       "      <th>14</th>\n",
       "      <td>4</td>\n",
       "      <td>C</td>\n",
       "      <td>27</td>\n",
       "    </tr>\n",
       "    <tr>\n",
       "      <th>15</th>\n",
       "      <td>0</td>\n",
       "      <td>D</td>\n",
       "      <td>54</td>\n",
       "    </tr>\n",
       "    <tr>\n",
       "      <th>16</th>\n",
       "      <td>1</td>\n",
       "      <td>D</td>\n",
       "      <td>60</td>\n",
       "    </tr>\n",
       "    <tr>\n",
       "      <th>17</th>\n",
       "      <td>2</td>\n",
       "      <td>D</td>\n",
       "      <td>51</td>\n",
       "    </tr>\n",
       "    <tr>\n",
       "      <th>18</th>\n",
       "      <td>3</td>\n",
       "      <td>D</td>\n",
       "      <td>62</td>\n",
       "    </tr>\n",
       "    <tr>\n",
       "      <th>19</th>\n",
       "      <td>4</td>\n",
       "      <td>D</td>\n",
       "      <td>73</td>\n",
       "    </tr>\n",
       "  </tbody>\n",
       "</table>\n",
       "</div>"
      ],
      "text/plain": [
       "    index treatments  value\n",
       "0       0          A     25\n",
       "1       1          A     30\n",
       "2       2          A     28\n",
       "3       3          A     36\n",
       "4       4          A     29\n",
       "5       0          B     45\n",
       "6       1          B     55\n",
       "7       2          B     29\n",
       "8       3          B     56\n",
       "9       4          B     40\n",
       "10      0          C     30\n",
       "11      1          C     29\n",
       "12      2          C     33\n",
       "13      3          C     37\n",
       "14      4          C     27\n",
       "15      0          D     54\n",
       "16      1          D     60\n",
       "17      2          D     51\n",
       "18      3          D     62\n",
       "19      4          D     73"
      ]
     },
     "execution_count": 7,
     "metadata": {},
     "output_type": "execute_result"
    }
   ],
   "source": [
    "d_melt"
   ]
  },
  {
   "cell_type": "markdown",
   "metadata": {},
   "source": [
    "<h3 id=\"InterpretaciÃ³n:\">Interpretación:</h3><p>El valor P obtenido del análisis ANOVA es significativo (P &lt;0.05) y, por lo tanto, concluimos que existen diferencias significativas entre los tratamientos.</p>\n"
   ]
  },
  {
   "cell_type": "markdown",
   "metadata": {},
   "source": [
    "<h3 id=\"ComparaciÃ³n-entre-pares-de-tratamiento\">Comparacón entre pares de tratamiento</h3><p>Según el análisis de ANOVA, sabemos que las diferencias de tratamiento son estadísticamente significativas, pero ANOVA no dice qué tratamientos son significativamente diferentes entre sí. Para conocer los pares de tratamientos diferentes significativos, realizaremos análisis de comparación múltiple por pares (comparación post-hoc) usando la prueba Tukey HSD.</p>"
   ]
  },
  {
   "cell_type": "code",
   "execution_count": 8,
   "metadata": {},
   "outputs": [
    {
     "data": {
      "text/html": [
       "<table class=\"simpletable\">\n",
       "<caption>Multiple Comparison of Means - Tukey HSD, FWER=0.05</caption>\n",
       "<tr>\n",
       "  <th>group1</th> <th>group2</th> <th>meandiff</th>  <th>p-adj</th>   <th>lower</th>   <th>upper</th>  <th>reject</th>\n",
       "</tr>\n",
       "<tr>\n",
       "     <td>A</td>      <td>B</td>     <td>15.4</td>   <td>0.0251</td>  <td>1.6929</td>  <td>29.1071</td>  <td>True</td> \n",
       "</tr>\n",
       "<tr>\n",
       "     <td>A</td>      <td>C</td>      <td>1.6</td>     <td>0.9</td>  <td>-12.1071</td> <td>15.3071</td>  <td>False</td>\n",
       "</tr>\n",
       "<tr>\n",
       "     <td>A</td>      <td>D</td>     <td>30.4</td>    <td>0.001</td>  <td>16.6929</td> <td>44.1071</td>  <td>True</td> \n",
       "</tr>\n",
       "<tr>\n",
       "     <td>B</td>      <td>C</td>     <td>-13.8</td>  <td>0.0482</td> <td>-27.5071</td> <td>-0.0929</td>  <td>True</td> \n",
       "</tr>\n",
       "<tr>\n",
       "     <td>B</td>      <td>D</td>     <td>15.0</td>   <td>0.0296</td>  <td>1.2929</td>  <td>28.7071</td>  <td>True</td> \n",
       "</tr>\n",
       "<tr>\n",
       "     <td>C</td>      <td>D</td>     <td>28.8</td>    <td>0.001</td>  <td>15.0929</td> <td>42.5071</td>  <td>True</td> \n",
       "</tr>\n",
       "</table>"
      ],
      "text/plain": [
       "<class 'statsmodels.iolib.table.SimpleTable'>"
      ]
     },
     "metadata": {},
     "output_type": "display_data"
    },
    {
     "data": {
      "image/png": "[encoded data removed]",
      "text/plain": [
       "<Figure size 720x432 with 1 Axes>"
      ]
     },
     "execution_count": 8,
     "metadata": {},
     "output_type": "execute_result"
    },
    {
     "data": {
      "image/png": "[encoded data removed]",
      "text/plain": [
       "<Figure size 720x432 with 1 Axes>"
      ]
     },
     "metadata": {
      "needs_background": "light"
     },
     "output_type": "display_data"
    }
   ],
   "source": [
    "m_comp = pairwise_tukeyhsd(endog=d_melt['value'], groups=d_melt['treatments'], alpha=0.05)\n",
    "display(m_comp.summary())\n",
    "m_comp.plot_simultaneous()"
   ]
  },
  {
   "cell_type": "markdown",
   "metadata": {},
   "source": [
    "\n",
    "<h3 id=\"InterpretaciÃ³n\">Interpretación</h3><p>Los resultados anteriores de Tukey HSD sugieren que, excepto A-C, todas las demás comparaciones por pares para tratamientos rechazan la hipótesis nula e indican diferencias estadísticamente significativas.</p>\n"
   ]
  },
  {
   "cell_type": "markdown",
   "metadata": {},
   "source": [
    "\n",
    "<h3 id=\"Test-ANOVA-assumptions\">Supuestos de Test ANOVA</h3>\n"
   ]
  },
  {
   "cell_type": "markdown",
   "metadata": {},
   "source": [
    "\n",
    "<p>La prueba de Levene se puede utilizar para verificar la homogeneidad de las varianzas. Hipótesis nula: las muestras de poblaciones tienen varianzas iguales.</p>\n"
   ]
  },
  {
   "cell_type": "code",
   "execution_count": 9,
   "metadata": {},
   "outputs": [
    {
     "name": "stdout",
     "output_type": "stream",
     "text": [
      "1.9219593192195938 0.16673281219949276\n"
     ]
    }
   ],
   "source": [
    "w, pvalue = stats.levene(d['A'], d['B'], d['C'], d['D'])\n",
    "print(w, pvalue)"
   ]
  },
  {
   "cell_type": "markdown",
   "metadata": {},
   "source": [
    "\n",
    "<p>Como el valor P no es significativo (&gt; 0.05), no podemos rechazar la hipótesis nula de igualdad de varianzas.</p>\n"
   ]
  },
  {
   "cell_type": "markdown",
   "metadata": {},
   "source": [
    "\n",
    "<p>La prueba de Shapiro-Wilk se puede usar para verificar la distribución normal de los residuos. Hipótesis nula: los datos provienen de una distribución normal.</p>\n"
   ]
  },
  {
   "cell_type": "code",
   "execution_count": 10,
   "metadata": {},
   "outputs": [
    {
     "name": "stdout",
     "output_type": "stream",
     "text": [
      "0.9685019850730896 0.7229772806167603\n"
     ]
    }
   ],
   "source": [
    "w, pvalue = stats.shapiro(model.resid)\n",
    "print(w, pvalue)"
   ]
  },
  {
   "cell_type": "markdown",
   "metadata": {},
   "source": [
    "\n",
    "<p>Como el valor P no es significativo, no podemos rechazar la hipótesis nula y concluir que los datos se extraen de la distribución normal.</p>\n"
   ]
  },
  {
   "cell_type": "markdown",
   "metadata": {},
   "source": [
    "\n",
    "<h3 id=\"Two-way-(two-factor)-ANOVA\">ANOVA de dos factores</h3>\n"
   ]
  },
  {
   "cell_type": "markdown",
   "metadata": {},
   "source": [
    "\n",
    "<p>Del conjunto de datos, hay dos factores (variables independientes) a saber. genotipos y rendimiento en años. Los genotipos y los años tienen cinco y tres niveles respectivamente (ver ANOVA unidireccional para conocer factores y niveles).</p>\n",
    "<p>Para este diseño experimental, hay dos factores a evaluar y, por lo tanto, el ANOVA de dos vías es adecuado para el análisis. Aquí, usando ANOVA de dos vías, podemos evaluar simultáneamente cómo el tipo de genotipo y los años afectan los rendimientos de las plantas. Si aplica ANOVA unidireccional aquí, puede evaluar solo un factor a la vez.</p>\n",
    "<p>A partir de ANOVA de dos vías, podemos probar tres hipótesis: <ol>\n",
    "   <li> Efecto del genotipo en el rendimiento </li>\n",
    "   <li> Efecto del tiempo (años) en el rendimiento y </li>\n",
    "   <li> Efecto de las interacciones genotipo y tiempo (años) en el rendimiento.</li></ol></p>\n"
   ]
  },
  {
   "cell_type": "code",
   "execution_count": 11,
   "metadata": {},
   "outputs": [
    {
     "data": {
      "text/html": [
       "<div>\n",
       "<style scoped>\n",
       "    .dataframe tbody tr th:only-of-type {\n",
       "        vertical-align: middle;\n",
       "    }\n",
       "\n",
       "    .dataframe tbody tr th {\n",
       "        vertical-align: top;\n",
       "    }\n",
       "\n",
       "    .dataframe thead th {\n",
       "        text-align: right;\n",
       "    }\n",
       "</style>\n",
       "<table border=\"1\" class=\"dataframe\">\n",
       "  <thead>\n",
       "    <tr style=\"text-align: right;\">\n",
       "      <th></th>\n",
       "      <th>Genotype</th>\n",
       "      <th>1_year</th>\n",
       "      <th>2_year</th>\n",
       "      <th>3_year</th>\n",
       "    </tr>\n",
       "  </thead>\n",
       "  <tbody>\n",
       "    <tr>\n",
       "      <th>0</th>\n",
       "      <td>A</td>\n",
       "      <td>1.53</td>\n",
       "      <td>4.08</td>\n",
       "      <td>6.69</td>\n",
       "    </tr>\n",
       "    <tr>\n",
       "      <th>1</th>\n",
       "      <td>A</td>\n",
       "      <td>1.83</td>\n",
       "      <td>3.84</td>\n",
       "      <td>5.97</td>\n",
       "    </tr>\n",
       "    <tr>\n",
       "      <th>2</th>\n",
       "      <td>A</td>\n",
       "      <td>1.38</td>\n",
       "      <td>3.96</td>\n",
       "      <td>6.33</td>\n",
       "    </tr>\n",
       "    <tr>\n",
       "      <th>3</th>\n",
       "      <td>B</td>\n",
       "      <td>3.60</td>\n",
       "      <td>5.70</td>\n",
       "      <td>8.55</td>\n",
       "    </tr>\n",
       "    <tr>\n",
       "      <th>4</th>\n",
       "      <td>B</td>\n",
       "      <td>2.94</td>\n",
       "      <td>5.07</td>\n",
       "      <td>7.95</td>\n",
       "    </tr>\n",
       "  </tbody>\n",
       "</table>\n",
       "</div>"
      ],
      "text/plain": [
       "  Genotype  1_year  2_year  3_year\n",
       "0        A    1.53    4.08    6.69\n",
       "1        A    1.83    3.84    5.97\n",
       "2        A    1.38    3.96    6.33\n",
       "3        B    3.60    5.70    8.55\n",
       "4        B    2.94    5.07    7.95"
      ]
     },
     "execution_count": 11,
     "metadata": {},
     "output_type": "execute_result"
    }
   ],
   "source": [
    "# load data file\n",
    "d = pd.read_csv(\"https://reneshbedre.github.io/assets/posts/anova/twowayanova.txt\", sep=\"\\t\")\n",
    "d.head()"
   ]
  },
  {
   "cell_type": "markdown",
   "metadata": {},
   "source": [
    "\n",
    "<h3 id=\"AnÃ¡lisis-descriptivo\">Análisis descriptivo</h3>\n"
   ]
  },
  {
   "cell_type": "code",
   "execution_count": 12,
   "metadata": {},
   "outputs": [
    {
     "data": {
      "text/html": [
       "<div>\n",
       "<style scoped>\n",
       "    .dataframe tbody tr th:only-of-type {\n",
       "        vertical-align: middle;\n",
       "    }\n",
       "\n",
       "    .dataframe tbody tr th {\n",
       "        vertical-align: top;\n",
       "    }\n",
       "\n",
       "    .dataframe thead th {\n",
       "        text-align: right;\n",
       "    }\n",
       "</style>\n",
       "<table border=\"1\" class=\"dataframe\">\n",
       "  <thead>\n",
       "    <tr style=\"text-align: right;\">\n",
       "      <th></th>\n",
       "      <th>Genotype</th>\n",
       "      <th>variable</th>\n",
       "      <th>value</th>\n",
       "    </tr>\n",
       "  </thead>\n",
       "  <tbody>\n",
       "    <tr>\n",
       "      <th>0</th>\n",
       "      <td>A</td>\n",
       "      <td>1_year</td>\n",
       "      <td>1.53</td>\n",
       "    </tr>\n",
       "    <tr>\n",
       "      <th>1</th>\n",
       "      <td>A</td>\n",
       "      <td>1_year</td>\n",
       "      <td>1.83</td>\n",
       "    </tr>\n",
       "    <tr>\n",
       "      <th>2</th>\n",
       "      <td>A</td>\n",
       "      <td>1_year</td>\n",
       "      <td>1.38</td>\n",
       "    </tr>\n",
       "    <tr>\n",
       "      <th>3</th>\n",
       "      <td>B</td>\n",
       "      <td>1_year</td>\n",
       "      <td>3.60</td>\n",
       "    </tr>\n",
       "    <tr>\n",
       "      <th>4</th>\n",
       "      <td>B</td>\n",
       "      <td>1_year</td>\n",
       "      <td>2.94</td>\n",
       "    </tr>\n",
       "    <tr>\n",
       "      <th>5</th>\n",
       "      <td>B</td>\n",
       "      <td>1_year</td>\n",
       "      <td>4.02</td>\n",
       "    </tr>\n",
       "    <tr>\n",
       "      <th>6</th>\n",
       "      <td>C</td>\n",
       "      <td>1_year</td>\n",
       "      <td>3.99</td>\n",
       "    </tr>\n",
       "    <tr>\n",
       "      <th>7</th>\n",
       "      <td>C</td>\n",
       "      <td>1_year</td>\n",
       "      <td>3.30</td>\n",
       "    </tr>\n",
       "    <tr>\n",
       "      <th>8</th>\n",
       "      <td>C</td>\n",
       "      <td>1_year</td>\n",
       "      <td>4.41</td>\n",
       "    </tr>\n",
       "    <tr>\n",
       "      <th>9</th>\n",
       "      <td>D</td>\n",
       "      <td>1_year</td>\n",
       "      <td>3.75</td>\n",
       "    </tr>\n",
       "    <tr>\n",
       "      <th>10</th>\n",
       "      <td>D</td>\n",
       "      <td>1_year</td>\n",
       "      <td>3.63</td>\n",
       "    </tr>\n",
       "    <tr>\n",
       "      <th>11</th>\n",
       "      <td>D</td>\n",
       "      <td>1_year</td>\n",
       "      <td>3.57</td>\n",
       "    </tr>\n",
       "    <tr>\n",
       "      <th>12</th>\n",
       "      <td>E</td>\n",
       "      <td>1_year</td>\n",
       "      <td>1.71</td>\n",
       "    </tr>\n",
       "    <tr>\n",
       "      <th>13</th>\n",
       "      <td>E</td>\n",
       "      <td>1_year</td>\n",
       "      <td>2.01</td>\n",
       "    </tr>\n",
       "    <tr>\n",
       "      <th>14</th>\n",
       "      <td>E</td>\n",
       "      <td>1_year</td>\n",
       "      <td>2.04</td>\n",
       "    </tr>\n",
       "    <tr>\n",
       "      <th>15</th>\n",
       "      <td>F</td>\n",
       "      <td>1_year</td>\n",
       "      <td>3.96</td>\n",
       "    </tr>\n",
       "    <tr>\n",
       "      <th>16</th>\n",
       "      <td>F</td>\n",
       "      <td>1_year</td>\n",
       "      <td>4.77</td>\n",
       "    </tr>\n",
       "    <tr>\n",
       "      <th>17</th>\n",
       "      <td>F</td>\n",
       "      <td>1_year</td>\n",
       "      <td>4.65</td>\n",
       "    </tr>\n",
       "    <tr>\n",
       "      <th>18</th>\n",
       "      <td>A</td>\n",
       "      <td>2_year</td>\n",
       "      <td>4.08</td>\n",
       "    </tr>\n",
       "    <tr>\n",
       "      <th>19</th>\n",
       "      <td>A</td>\n",
       "      <td>2_year</td>\n",
       "      <td>3.84</td>\n",
       "    </tr>\n",
       "    <tr>\n",
       "      <th>20</th>\n",
       "      <td>A</td>\n",
       "      <td>2_year</td>\n",
       "      <td>3.96</td>\n",
       "    </tr>\n",
       "    <tr>\n",
       "      <th>21</th>\n",
       "      <td>B</td>\n",
       "      <td>2_year</td>\n",
       "      <td>5.70</td>\n",
       "    </tr>\n",
       "    <tr>\n",
       "      <th>22</th>\n",
       "      <td>B</td>\n",
       "      <td>2_year</td>\n",
       "      <td>5.07</td>\n",
       "    </tr>\n",
       "    <tr>\n",
       "      <th>23</th>\n",
       "      <td>B</td>\n",
       "      <td>2_year</td>\n",
       "      <td>7.20</td>\n",
       "    </tr>\n",
       "    <tr>\n",
       "      <th>24</th>\n",
       "      <td>C</td>\n",
       "      <td>2_year</td>\n",
       "      <td>6.09</td>\n",
       "    </tr>\n",
       "    <tr>\n",
       "      <th>25</th>\n",
       "      <td>C</td>\n",
       "      <td>2_year</td>\n",
       "      <td>5.88</td>\n",
       "    </tr>\n",
       "    <tr>\n",
       "      <th>26</th>\n",
       "      <td>C</td>\n",
       "      <td>2_year</td>\n",
       "      <td>6.51</td>\n",
       "    </tr>\n",
       "    <tr>\n",
       "      <th>27</th>\n",
       "      <td>D</td>\n",
       "      <td>2_year</td>\n",
       "      <td>5.19</td>\n",
       "    </tr>\n",
       "    <tr>\n",
       "      <th>28</th>\n",
       "      <td>D</td>\n",
       "      <td>2_year</td>\n",
       "      <td>5.37</td>\n",
       "    </tr>\n",
       "    <tr>\n",
       "      <th>29</th>\n",
       "      <td>D</td>\n",
       "      <td>2_year</td>\n",
       "      <td>5.55</td>\n",
       "    </tr>\n",
       "    <tr>\n",
       "      <th>30</th>\n",
       "      <td>E</td>\n",
       "      <td>2_year</td>\n",
       "      <td>3.60</td>\n",
       "    </tr>\n",
       "    <tr>\n",
       "      <th>31</th>\n",
       "      <td>E</td>\n",
       "      <td>2_year</td>\n",
       "      <td>5.10</td>\n",
       "    </tr>\n",
       "    <tr>\n",
       "      <th>32</th>\n",
       "      <td>E</td>\n",
       "      <td>2_year</td>\n",
       "      <td>6.99</td>\n",
       "    </tr>\n",
       "    <tr>\n",
       "      <th>33</th>\n",
       "      <td>F</td>\n",
       "      <td>2_year</td>\n",
       "      <td>5.25</td>\n",
       "    </tr>\n",
       "    <tr>\n",
       "      <th>34</th>\n",
       "      <td>F</td>\n",
       "      <td>2_year</td>\n",
       "      <td>5.28</td>\n",
       "    </tr>\n",
       "    <tr>\n",
       "      <th>35</th>\n",
       "      <td>F</td>\n",
       "      <td>2_year</td>\n",
       "      <td>5.07</td>\n",
       "    </tr>\n",
       "    <tr>\n",
       "      <th>36</th>\n",
       "      <td>A</td>\n",
       "      <td>3_year</td>\n",
       "      <td>6.69</td>\n",
       "    </tr>\n",
       "    <tr>\n",
       "      <th>37</th>\n",
       "      <td>A</td>\n",
       "      <td>3_year</td>\n",
       "      <td>5.97</td>\n",
       "    </tr>\n",
       "    <tr>\n",
       "      <th>38</th>\n",
       "      <td>A</td>\n",
       "      <td>3_year</td>\n",
       "      <td>6.33</td>\n",
       "    </tr>\n",
       "    <tr>\n",
       "      <th>39</th>\n",
       "      <td>B</td>\n",
       "      <td>3_year</td>\n",
       "      <td>8.55</td>\n",
       "    </tr>\n",
       "    <tr>\n",
       "      <th>40</th>\n",
       "      <td>B</td>\n",
       "      <td>3_year</td>\n",
       "      <td>7.95</td>\n",
       "    </tr>\n",
       "    <tr>\n",
       "      <th>41</th>\n",
       "      <td>B</td>\n",
       "      <td>3_year</td>\n",
       "      <td>8.94</td>\n",
       "    </tr>\n",
       "    <tr>\n",
       "      <th>42</th>\n",
       "      <td>C</td>\n",
       "      <td>3_year</td>\n",
       "      <td>10.02</td>\n",
       "    </tr>\n",
       "    <tr>\n",
       "      <th>43</th>\n",
       "      <td>C</td>\n",
       "      <td>3_year</td>\n",
       "      <td>9.63</td>\n",
       "    </tr>\n",
       "    <tr>\n",
       "      <th>44</th>\n",
       "      <td>C</td>\n",
       "      <td>3_year</td>\n",
       "      <td>10.38</td>\n",
       "    </tr>\n",
       "    <tr>\n",
       "      <th>45</th>\n",
       "      <td>D</td>\n",
       "      <td>3_year</td>\n",
       "      <td>11.40</td>\n",
       "    </tr>\n",
       "    <tr>\n",
       "      <th>46</th>\n",
       "      <td>D</td>\n",
       "      <td>3_year</td>\n",
       "      <td>9.66</td>\n",
       "    </tr>\n",
       "    <tr>\n",
       "      <th>47</th>\n",
       "      <td>D</td>\n",
       "      <td>3_year</td>\n",
       "      <td>10.53</td>\n",
       "    </tr>\n",
       "    <tr>\n",
       "      <th>48</th>\n",
       "      <td>E</td>\n",
       "      <td>3_year</td>\n",
       "      <td>6.87</td>\n",
       "    </tr>\n",
       "    <tr>\n",
       "      <th>49</th>\n",
       "      <td>E</td>\n",
       "      <td>3_year</td>\n",
       "      <td>6.93</td>\n",
       "    </tr>\n",
       "    <tr>\n",
       "      <th>50</th>\n",
       "      <td>E</td>\n",
       "      <td>3_year</td>\n",
       "      <td>6.84</td>\n",
       "    </tr>\n",
       "    <tr>\n",
       "      <th>51</th>\n",
       "      <td>F</td>\n",
       "      <td>3_year</td>\n",
       "      <td>9.84</td>\n",
       "    </tr>\n",
       "    <tr>\n",
       "      <th>52</th>\n",
       "      <td>F</td>\n",
       "      <td>3_year</td>\n",
       "      <td>9.87</td>\n",
       "    </tr>\n",
       "    <tr>\n",
       "      <th>53</th>\n",
       "      <td>F</td>\n",
       "      <td>3_year</td>\n",
       "      <td>10.08</td>\n",
       "    </tr>\n",
       "  </tbody>\n",
       "</table>\n",
       "</div>"
      ],
      "text/plain": [
       "   Genotype variable  value\n",
       "0         A   1_year   1.53\n",
       "1         A   1_year   1.83\n",
       "2         A   1_year   1.38\n",
       "3         B   1_year   3.60\n",
       "4         B   1_year   2.94\n",
       "5         B   1_year   4.02\n",
       "6         C   1_year   3.99\n",
       "7         C   1_year   3.30\n",
       "8         C   1_year   4.41\n",
       "9         D   1_year   3.75\n",
       "10        D   1_year   3.63\n",
       "11        D   1_year   3.57\n",
       "12        E   1_year   1.71\n",
       "13        E   1_year   2.01\n",
       "14        E   1_year   2.04\n",
       "15        F   1_year   3.96\n",
       "16        F   1_year   4.77\n",
       "17        F   1_year   4.65\n",
       "18        A   2_year   4.08\n",
       "19        A   2_year   3.84\n",
       "20        A   2_year   3.96\n",
       "21        B   2_year   5.70\n",
       "22        B   2_year   5.07\n",
       "23        B   2_year   7.20\n",
       "24        C   2_year   6.09\n",
       "25        C   2_year   5.88\n",
       "26        C   2_year   6.51\n",
       "27        D   2_year   5.19\n",
       "28        D   2_year   5.37\n",
       "29        D   2_year   5.55\n",
       "30        E   2_year   3.60\n",
       "31        E   2_year   5.10\n",
       "32        E   2_year   6.99\n",
       "33        F   2_year   5.25\n",
       "34        F   2_year   5.28\n",
       "35        F   2_year   5.07\n",
       "36        A   3_year   6.69\n",
       "37        A   3_year   5.97\n",
       "38        A   3_year   6.33\n",
       "39        B   3_year   8.55\n",
       "40        B   3_year   7.95\n",
       "41        B   3_year   8.94\n",
       "42        C   3_year  10.02\n",
       "43        C   3_year   9.63\n",
       "44        C   3_year  10.38\n",
       "45        D   3_year  11.40\n",
       "46        D   3_year   9.66\n",
       "47        D   3_year  10.53\n",
       "48        E   3_year   6.87\n",
       "49        E   3_year   6.93\n",
       "50        E   3_year   6.84\n",
       "51        F   3_year   9.84\n",
       "52        F   3_year   9.87\n",
       "53        F   3_year  10.08"
      ]
     },
     "metadata": {},
     "output_type": "display_data"
    },
    {
     "data": {
      "text/plain": [
       "<matplotlib.axes._subplots.AxesSubplot at 0x14d8eba9a20>"
      ]
     },
     "execution_count": 12,
     "metadata": {},
     "output_type": "execute_result"
    },
    {
     "data": {
      "image/png": "[encoded data removed]",
      "text/plain": [
       "<Figure size 432x288 with 1 Axes>"
      ]
     },
     "metadata": {
      "needs_background": "light"
     },
     "output_type": "display_data"
    }
   ],
   "source": [
    "\n",
    "\n",
    "d_melt = pd.melt(d, id_vars=['Genotype'], value_vars=['1_year', '2_year', '3_year'])\n",
    "display(d_melt)\n",
    "\n",
    "d_melt.columns = ['Genotype', 'years', 'value']\n",
    "\n",
    "sns.boxplot(x=\"Genotype\", y=\"value\", hue=\"years\", data=d_melt, palette=\"Set3\") "
   ]
  },
  {
   "cell_type": "code",
   "execution_count": 26,
   "metadata": {},
   "outputs": [
    {
     "data": {
      "text/html": [
       "<div>\n",
       "<style scoped>\n",
       "    .dataframe tbody tr th:only-of-type {\n",
       "        vertical-align: middle;\n",
       "    }\n",
       "\n",
       "    .dataframe tbody tr th {\n",
       "        vertical-align: top;\n",
       "    }\n",
       "\n",
       "    .dataframe thead th {\n",
       "        text-align: right;\n",
       "    }\n",
       "</style>\n",
       "<table border=\"1\" class=\"dataframe\">\n",
       "  <thead>\n",
       "    <tr style=\"text-align: right;\">\n",
       "      <th></th>\n",
       "      <th>sum_sq</th>\n",
       "      <th>df</th>\n",
       "      <th>F</th>\n",
       "      <th>PR(&gt;F)</th>\n",
       "    </tr>\n",
       "  </thead>\n",
       "  <tbody>\n",
       "    <tr>\n",
       "      <th>C(Genotype)</th>\n",
       "      <td>58.551733</td>\n",
       "      <td>5.0</td>\n",
       "      <td>32.748581</td>\n",
       "      <td>1.931655e-12</td>\n",
       "    </tr>\n",
       "    <tr>\n",
       "      <th>C(years)</th>\n",
       "      <td>278.925633</td>\n",
       "      <td>2.0</td>\n",
       "      <td>390.014868</td>\n",
       "      <td>4.006243e-25</td>\n",
       "    </tr>\n",
       "    <tr>\n",
       "      <th>C(Genotype):C(years)</th>\n",
       "      <td>17.122967</td>\n",
       "      <td>10.0</td>\n",
       "      <td>4.788525</td>\n",
       "      <td>2.230094e-04</td>\n",
       "    </tr>\n",
       "    <tr>\n",
       "      <th>Residual</th>\n",
       "      <td>12.873000</td>\n",
       "      <td>36.0</td>\n",
       "      <td>NaN</td>\n",
       "      <td>NaN</td>\n",
       "    </tr>\n",
       "  </tbody>\n",
       "</table>\n",
       "</div>"
      ],
      "text/plain": [
       "                          sum_sq    df           F        PR(>F)\n",
       "C(Genotype)            58.551733   5.0   32.748581  1.931655e-12\n",
       "C(years)              278.925633   2.0  390.014868  4.006243e-25\n",
       "C(Genotype):C(years)   17.122967  10.0    4.788525  2.230094e-04\n",
       "Residual               12.873000  36.0         NaN           NaN"
      ]
     },
     "execution_count": 26,
     "metadata": {},
     "output_type": "execute_result"
    }
   ],
   "source": [
    "# Ordinary Least Squares (OLS) model\n",
    "# C(Genotype):C(years) represent interaction term\n",
    "model = ols('value ~ C(Genotype) + C(years) + C(Genotype):C(years)', data=d_melt).fit()\n",
    "anova_table = sm.stats.anova_lm(model, typ=2)\n",
    "anova_table"
   ]
  },
  {
   "cell_type": "markdown",
   "metadata": {},
   "source": [
    "\n",
    "<h3 id=\"InterpretaciÃ³n:\">Interpretación:</h3><p>El valor P obtenido del análisis ANOVA para el genotipo, los años y la interacción son estadísticamente significativos (P &lt;0.05). Llegamos a la conclusión de que el tipo de genotipo afecta significativamente el resultado de rendimiento, el tiempo (años) afecta significativamente el resultado de rendimiento, y la interacción de ambos genotipo y el tiempo (años) afecta significativamente el resultado del rendimiento.</p>\n",
    "<p>Ahora, sabemos que (años) diferencias genotípicas y de tiempo son estadísticamente significativos, pero ANOVA no le dice a la cual el genotipo y el tiempo (años) son significativamente diferentes entre sí. Para conocer los pares de genotipos y tiempos (años) significativamente diferentes, realice análisis de comparación múltiple por pares (comparación post-hoc) utilizando la prueba Tukey HSD.</p>\n"
   ]
  },
  {
   "cell_type": "markdown",
   "metadata": {},
   "source": [
    "\n",
    "<p>Similar al ANOVA a una vía, puede usar las pruebas de Levene y Shapiro-Wilk para validar los supuestos de homogeneidad de las variaciones y la distribución normal de los residuos.</p>\n"
   ]
  },
  {
   "cell_type": "code",
   "execution_count": 41,
   "metadata": {},
   "outputs": [
    {
     "data": {
      "text/html": [
       "<div>\n",
       "<style scoped>\n",
       "    .dataframe tbody tr th:only-of-type {\n",
       "        vertical-align: middle;\n",
       "    }\n",
       "\n",
       "    .dataframe tbody tr th {\n",
       "        vertical-align: top;\n",
       "    }\n",
       "\n",
       "    .dataframe thead th {\n",
       "        text-align: right;\n",
       "    }\n",
       "</style>\n",
       "<table border=\"1\" class=\"dataframe\">\n",
       "  <thead>\n",
       "    <tr style=\"text-align: right;\">\n",
       "      <th></th>\n",
       "      <th>Genotype</th>\n",
       "      <th>1_year</th>\n",
       "      <th>2_year</th>\n",
       "      <th>3_year</th>\n",
       "    </tr>\n",
       "  </thead>\n",
       "  <tbody>\n",
       "    <tr>\n",
       "      <th>0</th>\n",
       "      <td>A</td>\n",
       "      <td>1.53</td>\n",
       "      <td>4.08</td>\n",
       "      <td>6.69</td>\n",
       "    </tr>\n",
       "    <tr>\n",
       "      <th>1</th>\n",
       "      <td>A</td>\n",
       "      <td>1.83</td>\n",
       "      <td>3.84</td>\n",
       "      <td>5.97</td>\n",
       "    </tr>\n",
       "    <tr>\n",
       "      <th>2</th>\n",
       "      <td>A</td>\n",
       "      <td>1.38</td>\n",
       "      <td>3.96</td>\n",
       "      <td>6.33</td>\n",
       "    </tr>\n",
       "    <tr>\n",
       "      <th>3</th>\n",
       "      <td>B</td>\n",
       "      <td>3.60</td>\n",
       "      <td>5.70</td>\n",
       "      <td>8.55</td>\n",
       "    </tr>\n",
       "    <tr>\n",
       "      <th>4</th>\n",
       "      <td>B</td>\n",
       "      <td>2.94</td>\n",
       "      <td>5.07</td>\n",
       "      <td>7.95</td>\n",
       "    </tr>\n",
       "  </tbody>\n",
       "</table>\n",
       "</div>"
      ],
      "text/plain": [
       "  Genotype  1_year  2_year  3_year\n",
       "0        A    1.53    4.08    6.69\n",
       "1        A    1.83    3.84    5.97\n",
       "2        A    1.38    3.96    6.33\n",
       "3        B    3.60    5.70    8.55\n",
       "4        B    2.94    5.07    7.95"
      ]
     },
     "execution_count": 41,
     "metadata": {},
     "output_type": "execute_result"
    }
   ],
   "source": [
    "d.head()"
   ]
  },
  {
   "cell_type": "code",
   "execution_count": 28,
   "metadata": {},
   "outputs": [],
   "source": [
    "dc = d.copy()\n",
    "dc = dc.set_index('Genotype').T"
   ]
  },
  {
   "cell_type": "code",
   "execution_count": 42,
   "metadata": {},
   "outputs": [
    {
     "data": {
      "text/html": [
       "<div>\n",
       "<style scoped>\n",
       "    .dataframe tbody tr th:only-of-type {\n",
       "        vertical-align: middle;\n",
       "    }\n",
       "\n",
       "    .dataframe tbody tr th {\n",
       "        vertical-align: top;\n",
       "    }\n",
       "\n",
       "    .dataframe thead th {\n",
       "        text-align: right;\n",
       "    }\n",
       "</style>\n",
       "<table border=\"1\" class=\"dataframe\">\n",
       "  <thead>\n",
       "    <tr style=\"text-align: right;\">\n",
       "      <th>Genotype</th>\n",
       "      <th>A</th>\n",
       "      <th>A</th>\n",
       "      <th>A</th>\n",
       "      <th>B</th>\n",
       "      <th>B</th>\n",
       "      <th>B</th>\n",
       "      <th>C</th>\n",
       "      <th>C</th>\n",
       "      <th>C</th>\n",
       "      <th>D</th>\n",
       "      <th>D</th>\n",
       "      <th>D</th>\n",
       "      <th>E</th>\n",
       "      <th>E</th>\n",
       "      <th>E</th>\n",
       "      <th>F</th>\n",
       "      <th>F</th>\n",
       "      <th>F</th>\n",
       "    </tr>\n",
       "  </thead>\n",
       "  <tbody>\n",
       "    <tr>\n",
       "      <th>1_year</th>\n",
       "      <td>1.53</td>\n",
       "      <td>1.83</td>\n",
       "      <td>1.38</td>\n",
       "      <td>3.60</td>\n",
       "      <td>2.94</td>\n",
       "      <td>4.02</td>\n",
       "      <td>3.99</td>\n",
       "      <td>3.30</td>\n",
       "      <td>4.41</td>\n",
       "      <td>3.75</td>\n",
       "      <td>3.63</td>\n",
       "      <td>3.57</td>\n",
       "      <td>1.71</td>\n",
       "      <td>2.01</td>\n",
       "      <td>2.04</td>\n",
       "      <td>3.96</td>\n",
       "      <td>4.77</td>\n",
       "      <td>4.65</td>\n",
       "    </tr>\n",
       "    <tr>\n",
       "      <th>2_year</th>\n",
       "      <td>4.08</td>\n",
       "      <td>3.84</td>\n",
       "      <td>3.96</td>\n",
       "      <td>5.70</td>\n",
       "      <td>5.07</td>\n",
       "      <td>7.20</td>\n",
       "      <td>6.09</td>\n",
       "      <td>5.88</td>\n",
       "      <td>6.51</td>\n",
       "      <td>5.19</td>\n",
       "      <td>5.37</td>\n",
       "      <td>5.55</td>\n",
       "      <td>3.60</td>\n",
       "      <td>5.10</td>\n",
       "      <td>6.99</td>\n",
       "      <td>5.25</td>\n",
       "      <td>5.28</td>\n",
       "      <td>5.07</td>\n",
       "    </tr>\n",
       "    <tr>\n",
       "      <th>3_year</th>\n",
       "      <td>6.69</td>\n",
       "      <td>5.97</td>\n",
       "      <td>6.33</td>\n",
       "      <td>8.55</td>\n",
       "      <td>7.95</td>\n",
       "      <td>8.94</td>\n",
       "      <td>10.02</td>\n",
       "      <td>9.63</td>\n",
       "      <td>10.38</td>\n",
       "      <td>11.40</td>\n",
       "      <td>9.66</td>\n",
       "      <td>10.53</td>\n",
       "      <td>6.87</td>\n",
       "      <td>6.93</td>\n",
       "      <td>6.84</td>\n",
       "      <td>9.84</td>\n",
       "      <td>9.87</td>\n",
       "      <td>10.08</td>\n",
       "    </tr>\n",
       "  </tbody>\n",
       "</table>\n",
       "</div>"
      ],
      "text/plain": [
       "Genotype     A     A     A     B     B     B      C     C      C      D     D  \\\n",
       "1_year    1.53  1.83  1.38  3.60  2.94  4.02   3.99  3.30   4.41   3.75  3.63   \n",
       "2_year    4.08  3.84  3.96  5.70  5.07  7.20   6.09  5.88   6.51   5.19  5.37   \n",
       "3_year    6.69  5.97  6.33  8.55  7.95  8.94  10.02  9.63  10.38  11.40  9.66   \n",
       "\n",
       "Genotype      D     E     E     E     F     F      F  \n",
       "1_year     3.57  1.71  2.01  2.04  3.96  4.77   4.65  \n",
       "2_year     5.55  3.60  5.10  6.99  5.25  5.28   5.07  \n",
       "3_year    10.53  6.87  6.93  6.84  9.84  9.87  10.08  "
      ]
     },
     "execution_count": 42,
     "metadata": {},
     "output_type": "execute_result"
    }
   ],
   "source": [
    "\n",
    "df = dc\n",
    "dc"
   ]
  },
  {
   "cell_type": "code",
   "execution_count": 43,
   "metadata": {},
   "outputs": [
    {
     "data": {
      "text/html": [
       "<div>\n",
       "<style scoped>\n",
       "    .dataframe tbody tr th:only-of-type {\n",
       "        vertical-align: middle;\n",
       "    }\n",
       "\n",
       "    .dataframe tbody tr th {\n",
       "        vertical-align: top;\n",
       "    }\n",
       "\n",
       "    .dataframe thead th {\n",
       "        text-align: right;\n",
       "    }\n",
       "</style>\n",
       "<table border=\"1\" class=\"dataframe\">\n",
       "  <thead>\n",
       "    <tr style=\"text-align: right;\">\n",
       "      <th></th>\n",
       "      <th>A</th>\n",
       "      <th>B</th>\n",
       "      <th>C</th>\n",
       "      <th>D</th>\n",
       "      <th>E</th>\n",
       "      <th>F</th>\n",
       "    </tr>\n",
       "  </thead>\n",
       "  <tbody>\n",
       "    <tr>\n",
       "      <th>0</th>\n",
       "      <td>1.53</td>\n",
       "      <td>3.60</td>\n",
       "      <td>3.99</td>\n",
       "      <td>3.75</td>\n",
       "      <td>1.71</td>\n",
       "      <td>3.96</td>\n",
       "    </tr>\n",
       "    <tr>\n",
       "      <th>1</th>\n",
       "      <td>1.83</td>\n",
       "      <td>2.94</td>\n",
       "      <td>3.30</td>\n",
       "      <td>3.63</td>\n",
       "      <td>2.01</td>\n",
       "      <td>4.77</td>\n",
       "    </tr>\n",
       "    <tr>\n",
       "      <th>2</th>\n",
       "      <td>1.38</td>\n",
       "      <td>4.02</td>\n",
       "      <td>4.41</td>\n",
       "      <td>3.57</td>\n",
       "      <td>2.04</td>\n",
       "      <td>4.65</td>\n",
       "    </tr>\n",
       "    <tr>\n",
       "      <th>3</th>\n",
       "      <td>4.08</td>\n",
       "      <td>5.70</td>\n",
       "      <td>6.09</td>\n",
       "      <td>5.19</td>\n",
       "      <td>3.60</td>\n",
       "      <td>5.25</td>\n",
       "    </tr>\n",
       "    <tr>\n",
       "      <th>4</th>\n",
       "      <td>3.84</td>\n",
       "      <td>5.07</td>\n",
       "      <td>5.88</td>\n",
       "      <td>5.37</td>\n",
       "      <td>5.10</td>\n",
       "      <td>5.28</td>\n",
       "    </tr>\n",
       "    <tr>\n",
       "      <th>5</th>\n",
       "      <td>3.96</td>\n",
       "      <td>7.20</td>\n",
       "      <td>6.51</td>\n",
       "      <td>5.55</td>\n",
       "      <td>6.99</td>\n",
       "      <td>5.07</td>\n",
       "    </tr>\n",
       "    <tr>\n",
       "      <th>6</th>\n",
       "      <td>6.69</td>\n",
       "      <td>8.55</td>\n",
       "      <td>10.02</td>\n",
       "      <td>11.40</td>\n",
       "      <td>6.87</td>\n",
       "      <td>9.84</td>\n",
       "    </tr>\n",
       "    <tr>\n",
       "      <th>7</th>\n",
       "      <td>5.97</td>\n",
       "      <td>7.95</td>\n",
       "      <td>9.63</td>\n",
       "      <td>9.66</td>\n",
       "      <td>6.93</td>\n",
       "      <td>9.87</td>\n",
       "    </tr>\n",
       "    <tr>\n",
       "      <th>8</th>\n",
       "      <td>6.33</td>\n",
       "      <td>8.94</td>\n",
       "      <td>10.38</td>\n",
       "      <td>10.53</td>\n",
       "      <td>6.84</td>\n",
       "      <td>10.08</td>\n",
       "    </tr>\n",
       "  </tbody>\n",
       "</table>\n",
       "</div>"
      ],
      "text/plain": [
       "      A     B      C      D     E      F\n",
       "0  1.53  3.60   3.99   3.75  1.71   3.96\n",
       "1  1.83  2.94   3.30   3.63  2.01   4.77\n",
       "2  1.38  4.02   4.41   3.57  2.04   4.65\n",
       "3  4.08  5.70   6.09   5.19  3.60   5.25\n",
       "4  3.84  5.07   5.88   5.37  5.10   5.28\n",
       "5  3.96  7.20   6.51   5.55  6.99   5.07\n",
       "6  6.69  8.55  10.02  11.40  6.87   9.84\n",
       "7  5.97  7.95   9.63   9.66  6.93   9.87\n",
       "8  6.33  8.94  10.38  10.53  6.84  10.08"
      ]
     },
     "execution_count": 43,
     "metadata": {},
     "output_type": "execute_result"
    }
   ],
   "source": [
    "df =df.groupby(df.columns.values, axis=1).agg(lambda x: x.values.tolist()).sum().apply(pd.Series).T#.sort_values('pp')\n",
    "df"
   ]
  },
  {
   "cell_type": "code",
   "execution_count": null,
   "metadata": {},
   "outputs": [],
   "source": []
  },
  {
   "cell_type": "code",
   "execution_count": 31,
   "metadata": {},
   "outputs": [
    {
     "name": "stdout",
     "output_type": "stream",
     "text": [
      "0.2046984008809889 0.9589434083738608\n"
     ]
    }
   ],
   "source": [
    "w, pvalue = stats.levene(df['A'], df['B'], df['C'], df['D'],df['E'],df['F'])\n",
    "print(w, pvalue)"
   ]
  },
  {
   "cell_type": "markdown",
   "metadata": {},
   "source": [
    "con pvalue >0.05 no se rechasa la HO: de igualdadde varianzas"
   ]
  },
  {
   "cell_type": "code",
   "execution_count": 32,
   "metadata": {},
   "outputs": [
    {
     "name": "stdout",
     "output_type": "stream",
     "text": [
      "3.7640414132406605 0.02987100822975102\n"
     ]
    }
   ],
   "source": [
    "w, pvalue = stats.levene(d['1_year'], d['2_year'], d['3_year'])\n",
    "print(w, pvalue)"
   ]
  },
  {
   "cell_type": "markdown",
   "metadata": {},
   "source": [
    "con pvalue <0.05 se rechasa la HO: de igualdadde varianzas"
   ]
  },
  {
   "cell_type": "code",
   "execution_count": 33,
   "metadata": {},
   "outputs": [
    {
     "name": "stdout",
     "output_type": "stream",
     "text": [
      "0.8978845477104187 0.00023986827000044286\n"
     ]
    }
   ],
   "source": [
    "w, pvalue = stats.shapiro(model.resid)\n",
    "print(w, pvalue)"
   ]
  },
  {
   "cell_type": "markdown",
   "metadata": {},
   "source": [
    "con pvalue <0.05 se rechaza H0: los datos no son de una distribucion normal."
   ]
  },
  {
   "cell_type": "code",
   "execution_count": 24,
   "metadata": {},
   "outputs": [],
   "source": [
    "# d_melt"
   ]
  },
  {
   "cell_type": "code",
   "execution_count": 22,
   "metadata": {},
   "outputs": [
    {
     "data": {
      "text/html": [
       "<table class=\"simpletable\">\n",
       "<caption>Multiple Comparison of Means - Tukey HSD, FWER=0.05</caption>\n",
       "<tr>\n",
       "  <th>group1</th> <th>group2</th> <th>meandiff</th>  <th>p-adj</th>  <th>lower</th>   <th>upper</th> <th>reject</th>\n",
       "</tr>\n",
       "<tr>\n",
       "     <td>A</td>      <td>B</td>     <td>2.04</td>   <td>0.5304</td> <td>-1.5094</td> <td>5.5894</td>  <td>False</td>\n",
       "</tr>\n",
       "<tr>\n",
       "     <td>A</td>      <td>C</td>    <td>2.7333</td>   <td>0.22</td>  <td>-0.816</td>  <td>6.2827</td>  <td>False</td>\n",
       "</tr>\n",
       "<tr>\n",
       "     <td>A</td>      <td>D</td>     <td>2.56</td>   <td>0.2847</td> <td>-0.9894</td> <td>6.1094</td>  <td>False</td>\n",
       "</tr>\n",
       "<tr>\n",
       "     <td>A</td>      <td>E</td>     <td>0.72</td>     <td>0.9</td>  <td>-2.8294</td> <td>4.2694</td>  <td>False</td>\n",
       "</tr>\n",
       "<tr>\n",
       "     <td>A</td>      <td>F</td>    <td>2.5733</td>  <td>0.2793</td> <td>-0.976</td>  <td>6.1227</td>  <td>False</td>\n",
       "</tr>\n",
       "<tr>\n",
       "     <td>B</td>      <td>C</td>    <td>0.6933</td>    <td>0.9</td>  <td>-2.856</td>  <td>4.2427</td>  <td>False</td>\n",
       "</tr>\n",
       "<tr>\n",
       "     <td>B</td>      <td>D</td>     <td>0.52</td>     <td>0.9</td>  <td>-3.0294</td> <td>4.0694</td>  <td>False</td>\n",
       "</tr>\n",
       "<tr>\n",
       "     <td>B</td>      <td>E</td>     <td>-1.32</td>  <td>0.8679</td> <td>-4.8694</td> <td>2.2294</td>  <td>False</td>\n",
       "</tr>\n",
       "<tr>\n",
       "     <td>B</td>      <td>F</td>    <td>0.5333</td>    <td>0.9</td>  <td>-3.016</td>  <td>4.0827</td>  <td>False</td>\n",
       "</tr>\n",
       "<tr>\n",
       "     <td>C</td>      <td>D</td>    <td>-0.1733</td>   <td>0.9</td>  <td>-3.7227</td>  <td>3.376</td>  <td>False</td>\n",
       "</tr>\n",
       "<tr>\n",
       "     <td>C</td>      <td>E</td>    <td>-2.0133</td> <td>0.5429</td> <td>-5.5627</td>  <td>1.536</td>  <td>False</td>\n",
       "</tr>\n",
       "<tr>\n",
       "     <td>C</td>      <td>F</td>     <td>-0.16</td>    <td>0.9</td>  <td>-3.7094</td> <td>3.3894</td>  <td>False</td>\n",
       "</tr>\n",
       "<tr>\n",
       "     <td>D</td>      <td>E</td>     <td>-1.84</td>  <td>0.6241</td> <td>-5.3894</td> <td>1.7094</td>  <td>False</td>\n",
       "</tr>\n",
       "<tr>\n",
       "     <td>D</td>      <td>F</td>    <td>0.0133</td>    <td>0.9</td>  <td>-3.536</td>  <td>3.5627</td>  <td>False</td>\n",
       "</tr>\n",
       "<tr>\n",
       "     <td>E</td>      <td>F</td>    <td>1.8533</td>  <td>0.6179</td> <td>-1.696</td>  <td>5.4027</td>  <td>False</td>\n",
       "</tr>\n",
       "</table>"
      ],
      "text/plain": [
       "<class 'statsmodels.iolib.table.SimpleTable'>"
      ]
     },
     "metadata": {},
     "output_type": "display_data"
    },
    {
     "data": {
      "image/png": "[encoded data removed]",
      "text/plain": [
       "<Figure size 720x432 with 1 Axes>"
      ]
     },
     "execution_count": 22,
     "metadata": {},
     "output_type": "execute_result"
    },
    {
     "data": {
      "image/png": "[encoded data removed]",
      "text/plain": [
       "<Figure size 720x432 with 1 Axes>"
      ]
     },
     "metadata": {
      "needs_background": "light"
     },
     "output_type": "display_data"
    }
   ],
   "source": [
    "m_comp = pairwise_tukeyhsd(endog=d_melt['value'], groups=d_melt['Genotype'], alpha=0.05)\n",
    "display(m_comp.summary())\n",
    "m_comp.plot_simultaneous()"
   ]
  },
  {
   "cell_type": "code",
   "execution_count": 23,
   "metadata": {},
   "outputs": [
    {
     "data": {
      "text/html": [
       "<table class=\"simpletable\">\n",
       "<caption>Multiple Comparison of Means - Tukey HSD, FWER=0.05</caption>\n",
       "<tr>\n",
       "  <th>group1</th> <th>group2</th> <th>meandiff</th> <th>p-adj</th>  <th>lower</th>  <th>upper</th> <th>reject</th>\n",
       "</tr>\n",
       "<tr>\n",
       "  <td>1_year</td> <td>2_year</td>  <td>2.1467</td>  <td>0.001</td> <td>1.0864</td> <td>3.2069</td>  <td>True</td> \n",
       "</tr>\n",
       "<tr>\n",
       "  <td>1_year</td> <td>3_year</td>  <td>5.5217</td>  <td>0.001</td> <td>4.4614</td> <td>6.5819</td>  <td>True</td> \n",
       "</tr>\n",
       "<tr>\n",
       "  <td>2_year</td> <td>3_year</td>   <td>3.375</td>  <td>0.001</td> <td>2.3147</td> <td>4.4353</td>  <td>True</td> \n",
       "</tr>\n",
       "</table>"
      ],
      "text/plain": [
       "<class 'statsmodels.iolib.table.SimpleTable'>"
      ]
     },
     "metadata": {},
     "output_type": "display_data"
    },
    {
     "data": {
      "image/png": "[encoded data removed]",
      "text/plain": [
       "<Figure size 720x432 with 1 Axes>"
      ]
     },
     "execution_count": 23,
     "metadata": {},
     "output_type": "execute_result"
    },
    {
     "data": {
      "image/png": "[encoded data removed]",
      "text/plain": [
       "<Figure size 720x432 with 1 Axes>"
      ]
     },
     "metadata": {
      "needs_background": "light"
     },
     "output_type": "display_data"
    }
   ],
   "source": [
    "m_comp = pairwise_tukeyhsd(endog=d_melt['value'], groups=d_melt['years'], alpha=0.05)\n",
    "display(m_comp.summary())\n",
    "m_comp.plot_simultaneous()"
   ]
  },
  {
   "cell_type": "markdown",
   "metadata": {},
   "source": [
    "## Taller\n",
    "Un estudio nutricional ha realizado un experimento a 78 pacientes para demostrar 3 diferentes tipos de dietas que quieren llevar al mercado. Sin embargo por falta de presupuesto solo pueden lanzar al mercado una de las dietas que experimentaron. Para ello le han propuesto realizar un estudio ANOVA para determinar cual es el tipo de dieta que deberían lanzar al mercado.\n",
    "\n",
    "Siguiendo la metodología de ANOVA, realice los siguientes pasos:\n",
    "1. Importe los datos del archivo `Diet.xlsx`\n",
    "2. Realice un nuevo campo con la diferencia de peso registrado entre las 6 semanas de estudio.\n",
    "3. Verifique los supuestos y realice las modificaciones necesarias. \n",
    "4. Determine si existe suficientes pruebas estadísticas para demostrar que las dietas no son iguales.\n",
    "5. Determine el mejor tipo de dieta para lanzar al mercado"
   ]
  },
  {
   "cell_type": "markdown",
   "metadata": {},
   "source": [
    "Un expertó sugirió que el peso de los pacientes no sólo influía por la dieta realizada, sino también por el género del paciente. Por lo tanto le pidió que repita el procedimiento anterior realizando un ANOVA de dos factores para determinar cual es la mejor dieta para cada género."
   ]
  },
  {
   "cell_type": "code",
   "execution_count": 115,
   "metadata": {},
   "outputs": [],
   "source": [
    "from imblearn.under_sampling import RandomUnderSampler"
   ]
  },
  {
   "cell_type": "markdown",
   "metadata": {},
   "source": [
    "# 1. Importacion de datos"
   ]
  },
  {
   "cell_type": "code",
   "execution_count": 35,
   "metadata": {},
   "outputs": [],
   "source": [
    "data =pd.read_excel('Diet.xlsx')"
   ]
  },
  {
   "cell_type": "code",
   "execution_count": 36,
   "metadata": {},
   "outputs": [
    {
     "data": {
      "text/html": [
       "<div>\n",
       "<style scoped>\n",
       "    .dataframe tbody tr th:only-of-type {\n",
       "        vertical-align: middle;\n",
       "    }\n",
       "\n",
       "    .dataframe tbody tr th {\n",
       "        vertical-align: top;\n",
       "    }\n",
       "\n",
       "    .dataframe thead th {\n",
       "        text-align: right;\n",
       "    }\n",
       "</style>\n",
       "<table border=\"1\" class=\"dataframe\">\n",
       "  <thead>\n",
       "    <tr style=\"text-align: right;\">\n",
       "      <th></th>\n",
       "      <th>gender</th>\n",
       "      <th>Diet</th>\n",
       "      <th>weight</th>\n",
       "      <th>weight6weeks</th>\n",
       "    </tr>\n",
       "  </thead>\n",
       "  <tbody>\n",
       "    <tr>\n",
       "      <th>0</th>\n",
       "      <td>M</td>\n",
       "      <td>B</td>\n",
       "      <td>60</td>\n",
       "      <td>60.0</td>\n",
       "    </tr>\n",
       "    <tr>\n",
       "      <th>1</th>\n",
       "      <td>M</td>\n",
       "      <td>B</td>\n",
       "      <td>103</td>\n",
       "      <td>103.0</td>\n",
       "    </tr>\n",
       "    <tr>\n",
       "      <th>2</th>\n",
       "      <td>F</td>\n",
       "      <td>A</td>\n",
       "      <td>58</td>\n",
       "      <td>54.2</td>\n",
       "    </tr>\n",
       "    <tr>\n",
       "      <th>3</th>\n",
       "      <td>F</td>\n",
       "      <td>A</td>\n",
       "      <td>60</td>\n",
       "      <td>54.0</td>\n",
       "    </tr>\n",
       "    <tr>\n",
       "      <th>4</th>\n",
       "      <td>F</td>\n",
       "      <td>A</td>\n",
       "      <td>64</td>\n",
       "      <td>63.3</td>\n",
       "    </tr>\n",
       "  </tbody>\n",
       "</table>\n",
       "</div>"
      ],
      "text/plain": [
       "  gender Diet  weight  weight6weeks\n",
       "0      M    B      60          60.0\n",
       "1      M    B     103         103.0\n",
       "2      F    A      58          54.2\n",
       "3      F    A      60          54.0\n",
       "4      F    A      64          63.3"
      ]
     },
     "execution_count": 36,
     "metadata": {},
     "output_type": "execute_result"
    }
   ],
   "source": [
    "data.head()"
   ]
  },
  {
   "cell_type": "markdown",
   "metadata": {},
   "source": [
    "# 2. Nuevo campo"
   ]
  },
  {
   "cell_type": "code",
   "execution_count": 37,
   "metadata": {},
   "outputs": [
    {
     "data": {
      "text/html": [
       "<div>\n",
       "<style scoped>\n",
       "    .dataframe tbody tr th:only-of-type {\n",
       "        vertical-align: middle;\n",
       "    }\n",
       "\n",
       "    .dataframe tbody tr th {\n",
       "        vertical-align: top;\n",
       "    }\n",
       "\n",
       "    .dataframe thead th {\n",
       "        text-align: right;\n",
       "    }\n",
       "</style>\n",
       "<table border=\"1\" class=\"dataframe\">\n",
       "  <thead>\n",
       "    <tr style=\"text-align: right;\">\n",
       "      <th></th>\n",
       "      <th>gender</th>\n",
       "      <th>Diet</th>\n",
       "      <th>weight</th>\n",
       "      <th>weight6weeks</th>\n",
       "      <th>Diferencia</th>\n",
       "    </tr>\n",
       "  </thead>\n",
       "  <tbody>\n",
       "    <tr>\n",
       "      <th>0</th>\n",
       "      <td>M</td>\n",
       "      <td>B</td>\n",
       "      <td>60</td>\n",
       "      <td>60.0</td>\n",
       "      <td>0.0</td>\n",
       "    </tr>\n",
       "    <tr>\n",
       "      <th>1</th>\n",
       "      <td>M</td>\n",
       "      <td>B</td>\n",
       "      <td>103</td>\n",
       "      <td>103.0</td>\n",
       "      <td>0.0</td>\n",
       "    </tr>\n",
       "    <tr>\n",
       "      <th>2</th>\n",
       "      <td>F</td>\n",
       "      <td>A</td>\n",
       "      <td>58</td>\n",
       "      <td>54.2</td>\n",
       "      <td>-3.8</td>\n",
       "    </tr>\n",
       "    <tr>\n",
       "      <th>3</th>\n",
       "      <td>F</td>\n",
       "      <td>A</td>\n",
       "      <td>60</td>\n",
       "      <td>54.0</td>\n",
       "      <td>-6.0</td>\n",
       "    </tr>\n",
       "    <tr>\n",
       "      <th>4</th>\n",
       "      <td>F</td>\n",
       "      <td>A</td>\n",
       "      <td>64</td>\n",
       "      <td>63.3</td>\n",
       "      <td>-0.7</td>\n",
       "    </tr>\n",
       "  </tbody>\n",
       "</table>\n",
       "</div>"
      ],
      "text/plain": [
       "  gender Diet  weight  weight6weeks  Diferencia\n",
       "0      M    B      60          60.0         0.0\n",
       "1      M    B     103         103.0         0.0\n",
       "2      F    A      58          54.2        -3.8\n",
       "3      F    A      60          54.0        -6.0\n",
       "4      F    A      64          63.3        -0.7"
      ]
     },
     "execution_count": 37,
     "metadata": {},
     "output_type": "execute_result"
    }
   ],
   "source": [
    "data['Diferencia']=data['weight6weeks']-data['weight']\n",
    "data.head()"
   ]
  },
  {
   "cell_type": "markdown",
   "metadata": {},
   "source": [
    "# 3. Verifique los supuestos y realice las modificaciones necesarias."
   ]
  },
  {
   "cell_type": "code",
   "execution_count": 44,
   "metadata": {},
   "outputs": [],
   "source": [
    "data_prueba = data[['Diet','Diferencia']]"
   ]
  },
  {
   "cell_type": "code",
   "execution_count": 59,
   "metadata": {},
   "outputs": [
    {
     "data": {
      "text/plain": [
       "B    27\n",
       "C    27\n",
       "A    24\n",
       "Name: Diet, dtype: int64"
      ]
     },
     "execution_count": 59,
     "metadata": {},
     "output_type": "execute_result"
    }
   ],
   "source": [
    "data['Diet'].value_counts()"
   ]
  },
  {
   "cell_type": "code",
   "execution_count": 82,
   "metadata": {},
   "outputs": [],
   "source": [
    "undersample = RandomUnderSampler(sampling_strategy='all')\n",
    "X, y = undersample.fit_resample(data_prueba['Diferencia'].values.reshape(-1,1), data_prueba['Diet'])\n",
    "data_balanced = pd.DataFrame({'Diet':y,'Diferencia':X.reshape(-1)})"
   ]
  },
  {
   "cell_type": "markdown",
   "metadata": {},
   "source": [
    "El data set esta desbalanceao para los niveles de la dieta.Se procede a hacer un muestreo aleatoreo."
   ]
  },
  {
   "cell_type": "code",
   "execution_count": 83,
   "metadata": {},
   "outputs": [
    {
     "data": {
      "text/plain": [
       "B    24\n",
       "A    24\n",
       "C    24\n",
       "Name: Diet, dtype: int64"
      ]
     },
     "execution_count": 83,
     "metadata": {},
     "output_type": "execute_result"
    }
   ],
   "source": [
    "data_balanced['Diet'].value_counts()"
   ]
  },
  {
   "cell_type": "code",
   "execution_count": 122,
   "metadata": {},
   "outputs": [],
   "source": [
    "# data_balanced"
   ]
  },
  {
   "cell_type": "code",
   "execution_count": 99,
   "metadata": {},
   "outputs": [],
   "source": [
    "\n",
    "diet = pd.DataFrame()\n",
    "dic = {}\n",
    "for i in data_balanced['Diet'].unique():\n",
    "    dic[i]= data_balanced[data_balanced['Diet']==i]['Diferencia'].values\n",
    "    "
   ]
  },
  {
   "cell_type": "code",
   "execution_count": 123,
   "metadata": {},
   "outputs": [],
   "source": [
    "# d.columns.tolist()"
   ]
  },
  {
   "cell_type": "code",
   "execution_count": 124,
   "metadata": {},
   "outputs": [
    {
     "data": {
      "text/plain": [
       "<matplotlib.axes._subplots.AxesSubplot at 0x14d9c9e8470>"
      ]
     },
     "execution_count": 124,
     "metadata": {},
     "output_type": "execute_result"
    },
    {
     "data": {
      "image/png": "[encoded data removed]",
      "text/plain": [
       "<Figure size 432x288 with 1 Axes>"
      ]
     },
     "metadata": {
      "needs_background": "light"
     },
     "output_type": "display_data"
    }
   ],
   "source": [
    "d = pd.DataFrame(dic)\n",
    "d.boxplot(column=d.columns.tolist(), grid=False)"
   ]
  },
  {
   "cell_type": "code",
   "execution_count": 114,
   "metadata": {},
   "outputs": [
    {
     "data": {
      "text/html": [
       "<div>\n",
       "<style scoped>\n",
       "    .dataframe tbody tr th:only-of-type {\n",
       "        vertical-align: middle;\n",
       "    }\n",
       "\n",
       "    .dataframe tbody tr th {\n",
       "        vertical-align: top;\n",
       "    }\n",
       "\n",
       "    .dataframe thead th {\n",
       "        text-align: right;\n",
       "    }\n",
       "</style>\n",
       "<table border=\"1\" class=\"dataframe\">\n",
       "  <thead>\n",
       "    <tr style=\"text-align: right;\">\n",
       "      <th></th>\n",
       "      <th>sum_sq</th>\n",
       "      <th>df</th>\n",
       "      <th>F</th>\n",
       "      <th>PR(&gt;F)</th>\n",
       "    </tr>\n",
       "  </thead>\n",
       "  <tbody>\n",
       "    <tr>\n",
       "      <th>C(Diet)</th>\n",
       "      <td>72.043611</td>\n",
       "      <td>2.0</td>\n",
       "      <td>6.577272</td>\n",
       "      <td>0.002429</td>\n",
       "    </tr>\n",
       "    <tr>\n",
       "      <th>Residual</th>\n",
       "      <td>377.892917</td>\n",
       "      <td>69.0</td>\n",
       "      <td>NaN</td>\n",
       "      <td>NaN</td>\n",
       "    </tr>\n",
       "  </tbody>\n",
       "</table>\n",
       "</div>"
      ],
      "text/plain": [
       "              sum_sq    df         F    PR(>F)\n",
       "C(Diet)    72.043611   2.0  6.577272  0.002429\n",
       "Residual  377.892917  69.0       NaN       NaN"
      ]
     },
     "execution_count": 114,
     "metadata": {},
     "output_type": "execute_result"
    }
   ],
   "source": [
    "data_balanced\n",
    "model = ols('Diferencia ~ C(Diet)', data=data_balanced).fit()\n",
    "anova_table = sm.stats.anova_lm(model, typ=2)\n",
    "anova_table"
   ]
  },
  {
   "cell_type": "code",
   "execution_count": 118,
   "metadata": {},
   "outputs": [
    {
     "name": "stdout",
     "output_type": "stream",
     "text": [
      "0.5762221965297386 0.5646986477765439\n"
     ]
    }
   ],
   "source": [
    "w, pvalue = stats.levene(d['A'], d['B'], d['C'])\n",
    "print(w, pvalue)"
   ]
  },
  {
   "cell_type": "markdown",
   "metadata": {},
   "source": [
    "Como el valor P no es significativo (> 0.05), no podemos rechazar la hipótesis nula de igualdad de varianzas. Comportamiento igual de varianzas."
   ]
  },
  {
   "cell_type": "code",
   "execution_count": 120,
   "metadata": {},
   "outputs": [
    {
     "name": "stdout",
     "output_type": "stream",
     "text": [
      "0.9930239319801331 0.9633910655975342\n"
     ]
    }
   ],
   "source": [
    "w, pvalue = stats.shapiro(model.resid)\n",
    "print(w, pvalue)"
   ]
  },
  {
   "cell_type": "markdown",
   "metadata": {},
   "source": [
    "Como el valor P no es significativo, no podemos rechazar la hipótesis nula y concluir que los datos se extraen de la distribución normal.Comportamiento normal  para todas las clases."
   ]
  },
  {
   "cell_type": "markdown",
   "metadata": {},
   "source": [
    "# 4. Determine si existe suficientes pruebas estadísticas para demostrar que las dietas no son iguales."
   ]
  },
  {
   "cell_type": "code",
   "execution_count": 126,
   "metadata": {},
   "outputs": [
    {
     "data": {
      "text/html": [
       "<div>\n",
       "<style scoped>\n",
       "    .dataframe tbody tr th:only-of-type {\n",
       "        vertical-align: middle;\n",
       "    }\n",
       "\n",
       "    .dataframe tbody tr th {\n",
       "        vertical-align: top;\n",
       "    }\n",
       "\n",
       "    .dataframe thead th {\n",
       "        text-align: right;\n",
       "    }\n",
       "</style>\n",
       "<table border=\"1\" class=\"dataframe\">\n",
       "  <thead>\n",
       "    <tr style=\"text-align: right;\">\n",
       "      <th></th>\n",
       "      <th>sum_sq</th>\n",
       "      <th>df</th>\n",
       "      <th>F</th>\n",
       "      <th>PR(&gt;F)</th>\n",
       "    </tr>\n",
       "  </thead>\n",
       "  <tbody>\n",
       "    <tr>\n",
       "      <th>C(Diet)</th>\n",
       "      <td>72.043611</td>\n",
       "      <td>2.0</td>\n",
       "      <td>6.577272</td>\n",
       "      <td>0.002429</td>\n",
       "    </tr>\n",
       "    <tr>\n",
       "      <th>Residual</th>\n",
       "      <td>377.892917</td>\n",
       "      <td>69.0</td>\n",
       "      <td>NaN</td>\n",
       "      <td>NaN</td>\n",
       "    </tr>\n",
       "  </tbody>\n",
       "</table>\n",
       "</div>"
      ],
      "text/plain": [
       "              sum_sq    df         F    PR(>F)\n",
       "C(Diet)    72.043611   2.0  6.577272  0.002429\n",
       "Residual  377.892917  69.0       NaN       NaN"
      ]
     },
     "execution_count": 126,
     "metadata": {},
     "output_type": "execute_result"
    }
   ],
   "source": [
    "data_balanced\n",
    "model = ols('Diferencia ~ C(Diet)', data=data_balanced).fit()\n",
    "anova_table = sm.stats.anova_lm(model, typ=2)\n",
    "anova_table"
   ]
  },
  {
   "cell_type": "raw",
   "metadata": {},
   "source": [
    "El p_value obtenido del análisi ANOVA para dieta es estadisticamente  significtaivo (P< 0.05) lo que permite rechazar la H0: todas las medias son iguales. De lo anterior se entiende que almenos una media es diferente de las demas."
   ]
  },
  {
   "cell_type": "markdown",
   "metadata": {},
   "source": []
  },
  {
   "cell_type": "code",
   "execution_count": 116,
   "metadata": {},
   "outputs": [
    {
     "data": {
      "text/html": [
       "<table class=\"simpletable\">\n",
       "<caption>Multiple Comparison of Means - Tukey HSD, FWER=0.05</caption>\n",
       "<tr>\n",
       "  <th>group1</th> <th>group2</th> <th>meandiff</th>  <th>p-adj</th>  <th>lower</th>   <th>upper</th>  <th>reject</th>\n",
       "</tr>\n",
       "<tr>\n",
       "     <td>A</td>      <td>B</td>    <td>0.3167</td>  <td>0.8758</td> <td>-1.3015</td> <td>1.9349</td>   <td>False</td>\n",
       "</tr>\n",
       "<tr>\n",
       "     <td>A</td>      <td>C</td>    <td>-1.9458</td> <td>0.0144</td> <td>-3.564</td>  <td>-0.3276</td>  <td>True</td> \n",
       "</tr>\n",
       "<tr>\n",
       "     <td>B</td>      <td>C</td>    <td>-2.2625</td> <td>0.0037</td> <td>-3.8807</td> <td>-0.6443</td>  <td>True</td> \n",
       "</tr>\n",
       "</table>"
      ],
      "text/plain": [
       "<class 'statsmodels.iolib.table.SimpleTable'>"
      ]
     },
     "metadata": {},
     "output_type": "display_data"
    },
    {
     "data": {
      "image/png": "[encoded data removed]",
      "text/plain": [
       "<Figure size 720x432 with 1 Axes>"
      ]
     },
     "execution_count": 116,
     "metadata": {},
     "output_type": "execute_result"
    },
    {
     "data": {
      "image/png": "[encoded data removed]",
      "text/plain": [
       "<Figure size 720x432 with 1 Axes>"
      ]
     },
     "metadata": {
      "needs_background": "light"
     },
     "output_type": "display_data"
    }
   ],
   "source": [
    "m_comp = pairwise_tukeyhsd(endog=data_balanced['Diferencia'], groups=data_balanced['Diet'], alpha=0.05)\n",
    "display(m_comp.summary())\n",
    "m_comp.plot_simultaneous()"
   ]
  },
  {
   "cell_type": "markdown",
   "metadata": {},
   "source": [
    "Los resultados anteriores de Tukey HSD sugieren que la dieta C es diferente a todas las demas  en donde es posible rechazar la H0: no hay diferencias etadistiamente significativas. En ese setido se afirma que existe evidencia estadisticamente significativa  para inicar que hay diferencias  entre la dieta C y las demas. para el caso de los pares de Dieta A-B no se ecuentra suficiente evidencia estadistica y se concluye que no hay diferencia entre estos dos tipos de dieta."
   ]
  },
  {
   "cell_type": "markdown",
   "metadata": {},
   "source": [
    "# 5. Determine el mejor tipo de dieta para lanzar al mercado"
   ]
  },
  {
   "cell_type": "markdown",
   "metadata": {},
   "source": [
    "Con los resultados anteriores se entiende que: La dieta C es diferentes de las demas y no se puede determinara las diatas A y B como difeerentes entre ellas. Revisando los valores para cada dieta y el valor de la  diferencia de medias se entiende que la dieta C es la que precenta valores mas negativos para la diferencia en el peso. Esto indica que la dieta C es la major a la hora de reducir el peso  comparativamente con las dietas A y B."
   ]
  }
 ],
 "metadata": {
  "kernelspec": {
   "display_name": "Python 3",
   "language": "python",
   "name": "python3"
  },
  "language_info": {
   "codemirror_mode": {
    "name": "ipython",
    "version": 3
   },
   "file_extension": ".py",
   "mimetype": "text/x-python",
   "name": "python",
   "nbconvert_exporter": "python",
   "pygments_lexer": "ipython3",
   "version": "3.7.3"
  }
 },
 "nbformat": 4,
 "nbformat_minor": 4
}
